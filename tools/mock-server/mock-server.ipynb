{
 "cells": [
  {
   "cell_type": "markdown",
   "metadata": {},
   "source": [
    "# APIM ❤️ OpenAI\n",
    "\n",
    "## OpenAI Mock Server(s)\n",
    "\n",
    "This notebook provides guidance on the use of mock servers locally and in Azure. The AI-Gateway Mock server is designed to mimic the behavior and responses of the OpenAI API, thereby creating an efficient simulation environment suitable for testing and development purposes on the integration with APIM and other use cases.\n",
    "The [app.py](app.py) can be customized to tailor the Mock server to specific use cases.\n",
    "\n",
    "### Run locally\n",
    "Open a terminal and type:\n",
    "```\n",
    "pip install -r requirements.txt\n",
    "flask --app app.py --debug run\n",
    "```\n",
    "### Deploy to Azure Web Apps\n",
    "Prerequisites\n",
    "- [Python 3.8 or later version](https://www.python.org/) installed\n",
    "- [VS Code](https://code.visualstudio.com/) installed with the [Jupyter notebook extension](https://marketplace.visualstudio.com/items?itemName=ms-toolsai.jupyter) enabled\n",
    "- [Azure CLI](https://learn.microsoft.com/en-us/cli/azure/install-azure-cli) installed\n",
    "- [An Azure Subscription](https://azure.microsoft.com/en-us/free/) with Contributor permissions\n",
    "- [Sign in to Azure with Azure CLI](https://learn.microsoft.com/en-us/cli/azure/authenticate-azure-cli-interactively)\n",
    "\n",
    "Execute the following steps to deploy to Azure.\n",
    "The ```mock_webapps``` is a list of names that will be used to create the Azure Web App(s). All the Web Apps will reuse the same App Service Plan."
   ]
  },
  {
   "cell_type": "markdown",
   "metadata": {},
   "source": [
    "### 0️⃣ Initialize notebook variables"
   ]
  },
  {
   "cell_type": "code",
   "execution_count": null,
   "metadata": {},
   "outputs": [],
   "source": [
    "mock_resource_group = \"lab-ai-gateway-mock\"\n",
    "mock_location = \"swedencentral\" # the location that will be used for the resource group, app service plan and web apps\n",
    "mock_webapps = [ {\"name\": \"openaimock1\"}, {\"name\": \"openaimock2\"} ] # ensure that the names are not being used within Azure\n",
    "mock_webapp_runtime = \"PYTHON:3.12\"\n",
    "mock_app_service_plan = \"openaimock-plan\"\n",
    "mock_app_service_plan_sku = \"B1\"\n"
   ]
  },
  {
   "cell_type": "markdown",
   "metadata": {},
   "source": [
    "### 1️⃣ Deploy or update Mock Server(s)\n",
    "The following command is an [all-in-one command](https://learn.microsoft.com/en-us/cli/azure/webapp?view=azure-cli-latest#az-webapp-up) that creates all the Azure resources and deploys the source code. When finished it should open a browser window for each Mock server created.\n",
    "You can repeat this step if you modify the ```app.py``` file to incorporate your specific mocking behavior. This will allow you to redeploy using the same resources that were previously created. "
   ]
  },
  {
   "cell_type": "code",
   "execution_count": null,
   "metadata": {},
   "outputs": [],
   "source": [
    "for mock_webapp in mock_webapps:\n",
    "    mock_webapp_name = mock_webapp.get(\"name\")\n",
    "    ! az webapp up --resource-group {mock_resource_group} --name {mock_webapp_name} --location {mock_location} \\\n",
    "        --plan {mock_app_service_plan} --runtime {mock_webapp_runtime} --sku {mock_app_service_plan_sku} --track-status true --launch-browser "
   ]
  },
  {
   "cell_type": "markdown",
   "metadata": {},
   "source": [
    "### 2️⃣ Test the Mock server(s)\n",
    "The following code uses the Python HTTP client library to simulate OpenAI requests to the Mock server(s). To guide the mock server towards simulating behaviors such as returning a specific status code or incorporating a delay to influence the response time, you may modify the content structure as illustrated below."
   ]
  },
  {
   "cell_type": "code",
   "execution_count": null,
   "metadata": {},
   "outputs": [],
   "source": [
    "import json\n",
    "import requests\n",
    "\n",
    "for mock_webapp in mock_webapps:\n",
    "    mock_webapp_name = mock_webapp.get(\"name\")\n",
    "    url = \"https://\" + mock_webapp_name + \".azurewebsites.net/openai/deployments/gpt5/chat/completions?api-version=2024-02-01\"\n",
    "    messages={\n",
    "        \"messages\": [\n",
    "            {\n",
    "                \"role\": \"system\", \n",
    "                \"content\": {\n",
    "                    \"simulation\": {\n",
    "                        \"default\": {\"response_status_code\": 200, \"wait_time_ms\": 0}\n",
    "                    }\n",
    "                }\n",
    "            }\n",
    "        ]\n",
    "    }\n",
    "    response = requests.post(url, json = messages)\n",
    "    print(\"status code: \", response.status_code)\n",
    "    print(\"headers: \", response.headers)\n",
    "    if (response.status_code == 200):\n",
    "        data = json.loads(response.text)\n",
    "        print(\"response: \", data.get(\"choices\")[0].get(\"message\").get(\"content\"))\n",
    "    else:\n",
    "        print(response.text)"
   ]
  },
  {
   "cell_type": "markdown",
   "metadata": {},
   "source": [
    "### (optional) Stream logs\n",
    "\n",
    "Execute the result of the following script in a terminal to tail the streamed logs"
   ]
  },
  {
   "cell_type": "code",
   "execution_count": null,
   "metadata": {},
   "outputs": [],
   "source": [
    "for mock_webapp in mock_webapps:\n",
    "    mock_webapp_name = mock_webapp.get(\"name\")\n",
    "    ! echo az webapp log tail --name {mock_webapp_name} --resource-group {mock_resource_group}"
   ]
  },
  {
   "cell_type": "markdown",
   "metadata": {},
   "source": [
    "### 🗑️ Clean up resources\n",
    "\n",
    "When you're finished with the APIM ❤️ OpenAI Mock server(s), you can remove all your deployed resources from Azure. To avoid extra charges and keep your Azure subscription uncluttered. Removing the resource group is the fastest way to remove all Azure resources that you have created."
   ]
  },
  {
   "cell_type": "code",
   "execution_count": null,
   "metadata": {},
   "outputs": [],
   "source": [
    "run_cell = False\n",
    "if run_cell:\n",
    "    ! az group delete --name {mock_resource_group} -y"
   ]
  }
 ],
 "metadata": {
  "kernelspec": {
   "display_name": "Python 3",
   "language": "python",
   "name": "python3"
  },
  "language_info": {
   "codemirror_mode": {
    "name": "ipython",
    "version": 3
   },
   "file_extension": ".py",
   "mimetype": "text/x-python",
   "name": "python",
   "nbconvert_exporter": "python",
   "pygments_lexer": "ipython3",
   "version": "3.11.9"
  }
 },
 "nbformat": 4,
 "nbformat_minor": 2
}
