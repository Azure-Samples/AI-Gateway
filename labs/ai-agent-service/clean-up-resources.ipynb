{
 "cells": [
  {
   "cell_type": "markdown",
   "metadata": {},
   "source": [
    "### 🗑️ Clean up resources\n",
    "\n",
    "When you're finished with the lab, you should remove all your deployed resources from Azure to avoid extra charges and keep your Azure subscription uncluttered."
   ]
  },
  {
   "cell_type": "code",
   "execution_count": null,
   "metadata": {},
   "outputs": [],
   "source": [
    "import os, sys\n",
    "sys.path.insert(1, '../../shared')  # add the shared directory to the Python path\n",
    "import utils\n",
    "\n",
    "deployment_name = os.path.basename(os.path.dirname(globals()['__vsc_ipynb_file__']))\n",
    "\n",
    "#### Clean up resources for V1 and V2 labs\n",
    "utils.cleanup_resources(deployment_name, resource_group_name=f\"lab-v1-{deployment_name}\")\n",
    "\n",
    "utils.cleanup_resources(deployment_name, resource_group_name=f\"lab-v2-{deployment_name}\")"
   ]
  },
  {
   "cell_type": "markdown",
   "metadata": {},
   "source": [
    "Use this only if you want to re-run the v2 lab and you're running into errors redeploying Connections (without having to delete all resources)"
   ]
  },
  {
   "cell_type": "code",
   "execution_count": null,
   "metadata": {},
   "outputs": [],
   "source": [
    "import os, sys\n",
    "sys.path.insert(1, '../../shared')  # add the shared directory to the Python path\n",
    "import utils\n",
    "\n",
    "deployment_name = os.path.basename(os.path.dirname(globals()['__vsc_ipynb_file__']))\n",
    "resource_group_name = f\"lab-v2-{deployment_name}\"\n",
    "output = utils.run(f\"az deployment group show --name {deployment_name} -g {resource_group_name} -o json\", \"Deployment retrieved\", \"Failed to retrieve the deployment\")\n",
    "if output.success and output.json_data:\n",
    "            provisioning_state = output.json_data.get(\"properties\").get(\"provisioningState\")\n",
    "            utils.print_info(f\"Deployment provisioning state: {provisioning_state}\")\n",
    "\n",
    "            # Delete AI Foundry projects\n",
    "            output = utils.run(f'az resource list -g {resource_group_name} --resource-type \"microsoft.cognitiveservices/accounts/projects\"', \"Retrieved AI Foundry projects\", \"Failed to list AI Foundry projects\")\n",
    "            if output.success and output.json_data:\n",
    "                for resource in output.json_data:\n",
    "                    utils.print_info(f\"Deleting AI Foundry project '{resource['name']}' in resource group '{resource_group_name}'...\")\n",
    "                    output = utils.run(f'az resource delete --ids \"{resource['id']}\"', f\"AI Foundry project '{resource['name']}' deleted\", f\"Failed to delete AI Foundry project '{resource['name']}'\")\n",
    "\n",
    "            # Delete and purge CognitiveService accounts\n",
    "            output = utils.run(f\"az cognitiveservices account list -g {resource_group_name}\", f\"Listed CognitiveService accounts\", f\"Failed to list CognitiveService accounts\")\n",
    "            if output.success and output.json_data:\n",
    "                for resource in output.json_data:\n",
    "                    utils.print_info(f\"Deleting and purging Cognitive Service Account '{resource['name']}' in resource group '{resource_group_name}'...\")\n",
    "                    output = utils.run(f\"az cognitiveservices account delete -g {resource_group_name} -n {resource['name']}\", f\"Cognitive Services '{resource['name']}' deleted\", f\"Failed to delete Cognitive Services '{resource['name']}'\")\n",
    "                    output = utils.run(f\"az cognitiveservices account purge -g {resource_group_name} -n {resource['name']} -l \\\"{resource['location']}\\\"\", f\"Cognitive Services '{resource['name']}' purged\", f\"Failed to purge Cognitive Services '{resource['name']}'\")\n"
   ]
  }
 ],
 "metadata": {
  "kernelspec": {
   "display_name": "a2a",
   "language": "python",
   "name": "python3"
  },
  "language_info": {
   "codemirror_mode": {
    "name": "ipython",
    "version": 3
   },
   "file_extension": ".py",
   "mimetype": "text/x-python",
   "name": "python",
   "nbconvert_exporter": "python",
   "pygments_lexer": "ipython3",
   "version": "3.13.2"
  }
 },
 "nbformat": 4,
 "nbformat_minor": 2
}
