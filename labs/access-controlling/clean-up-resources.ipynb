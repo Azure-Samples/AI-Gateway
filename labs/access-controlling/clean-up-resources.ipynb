{
 "cells": [
  {
   "cell_type": "markdown",
   "metadata": {},
   "source": [
    "### 🗑️ Clean up resources\n",
    "\n",
    "When you're finished with the lab, you should remove all your deployed resources from Azure to avoid extra charges and keep your Azure subscription uncluttered."
   ]
  },
  {
   "cell_type": "code",
   "execution_count": null,
   "metadata": {},
   "outputs": [],
   "source": [
    "import os\n",
    "import sys\n",
    "sys.path.insert(1, '../../shared')  # add the shared directory to the Python path\n",
    "from functions import cleanUpResources\n",
    "\n",
    "deployment_name = os.path.basename(os.path.dirname(globals()['__vsc_ipynb_file__']))\n",
    "cleanUpResources(deployment_name)"
   ]
  },
  {
   "cell_type": "markdown",
   "metadata": {},
   "source": [
    "### Delete the App Registration\n",
    "\n",
    "We also need to remove the app registration."
   ]
  },
  {
   "cell_type": "code",
   "execution_count": null,
   "metadata": {},
   "outputs": [],
   "source": [
    "# type: ignore\n",
    "\n",
    "app_registration_name = \"ai-gateway-openai-app\" # change the name if you changed it in the deployment script\n",
    "\n",
    "print(f\"Searching for app with display name {app_registration_name}...\")\n",
    "cmd_stdout = ! az ad app list --display-name {app_registration_name} --query \"[0].appId\" -o tsv\n",
    "app_id = cmd_stdout.n\n",
    "\n",
    "if app_id:\n",
    "    print(f\"Removing app with app ID {app_id}\")\n",
    "    ! az ad app delete --id {app_id}"
   ]
  }
 ],
 "metadata": {
  "kernelspec": {
   "display_name": "Python 3",
   "language": "python",
   "name": "python3"
  },
  "language_info": {
   "codemirror_mode": {
    "name": "ipython",
    "version": 3
   },
   "file_extension": ".py",
   "mimetype": "text/x-python",
   "name": "python",
   "nbconvert_exporter": "python",
   "pygments_lexer": "ipython3",
   "version": "3.13.1"
  }
 },
 "nbformat": 4,
 "nbformat_minor": 2
}
