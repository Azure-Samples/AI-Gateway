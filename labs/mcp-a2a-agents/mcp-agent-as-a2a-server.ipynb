{
 "cells": [
  {
   "cell_type": "markdown",
   "metadata": {},
   "source": [
    "# APIM ❤️ AI Agents\n",
    "\n",
    "## MCP-enabled A2A Protocol agents lab (initial release)\n",
    "![flow](../../images/a2a-agent-2-agent.gif)\n",
    "\n",
    "Playground to experiment with [A2A-enabled](https://www.microsoft.com/en-us/microsoft-cloud/blog/2025/05/07/empowering-multi-agent-apps-with-the-open-agent2agent-a2a-protocol/?msockid=3fc737ab34566ad7248a2255359d6b2c) agents with [Model Context Protocol](https://modelcontextprotocol.io/) with Azure API Management to enable plug & play of tools to LLMs. \n",
    "\n",
    "This lab includes the following MCP servers deployed as part of shared infrastructure:\n",
    "- Basic oncall service: provides a tool to get a list of random people currently on-call with their status and time zone.\n",
    "- Basic weather service: provide tools to get cities for a given country and retrieve random weather information for a specified city.\n",
    "\n",
    "MCP-enabled agents are then deployed within ACA (Azure Container Apps) as A2A Protocol agents, one built with Semantic Kernel, and another with Autogen.\n",
    "\n",
    "This lab demonstrates the art of the possible of creating hetrogenous multi-agentic system with agents created using multiple orchestrators, and then allowing a single unifying protocol to communicate accross the through APIM for Authn/Authz\n",
    "\n",
    "### Prerequisites\n",
    "\n",
    "- [Python 3.13 or later](https://www.python.org/) installed\n",
    "- [VS Code](https://code.visualstudio.com/) installed with the [Jupyter notebook extension](https://marketplace.visualstudio.com/items?itemName=ms-toolsai.jupyter) enabled\n",
    "- [Python environment](https://code.visualstudio.com/docs/python/environments#_creating-environments) with the [requirements.txt](../../requirements.txt) or run `pip install -r requirements.txt` in your terminal\n",
    "- [An Azure Subscription](https://azure.microsoft.com/free/) with [Contributor](https://learn.microsoft.com/en-us/azure/role-based-access-control/built-in-roles/privileged#contributor) + [RBAC Administrator](https://learn.microsoft.com/en-us/azure/role-based-access-control/built-in-roles/privileged#role-based-access-control-administrator) or [Owner](https://learn.microsoft.com/en-us/azure/role-based-access-control/built-in-roles/privileged#owner) roles\n",
    "- [Azure CLI](https://learn.microsoft.com/cli/azure/install-azure-cli) installed and [Signed into your Azure subscription](https://learn.microsoft.com/cli/azure/authenticate-azure-cli-interactively)\n",
    "\n",
    "**Important** This lab follows a different architecture from other lab.\n",
    "\n",
    "Please deploy the shared infrastructure from this [Notebook](deploy-a2a-infra-assests.ipynb) before proceeding\n",
    "\n",
    "▶️ Click `Run All` to execute all steps sequentially, or execute them `Step by Step`...\n"
   ]
  },
  {
   "cell_type": "markdown",
   "metadata": {},
   "source": [
    "<a id='0'></a>\n",
    "### 0️⃣ Initialize notebook variables\n",
    "\n",
    "- Resources will be suffixed by a unique string based on your subscription id.\n",
    "- Adjust the location parameters according your preferences and on the [product availability by Azure region.](https://azure.microsoft.com/explore/global-infrastructure/products-by-region/?cdn=disable&products=cognitive-services,api-management) \n",
    "- Adjust the OpenAI model and version according the [availability by region.](https://learn.microsoft.com/azure/ai-services/openai/concepts/models) "
   ]
  },
  {
   "cell_type": "code",
   "execution_count": null,
   "metadata": {
    "metadata": {}
   },
   "outputs": [],
   "source": [
    "import os, sys, json\n",
    "sys.path.insert(1, '../../shared')  # add the shared directory to the Python path\n",
    "import utils\n",
    "\n",
    "deployment_name = os.path.basename(os.path.dirname(globals()['__vsc_ipynb_file__']))\n",
    "resource_group_name = f\"lab-{deployment_name}\" # change the name to match your naming style\n",
    "resource_group_location = \"westeurope\"\n",
    "\n",
    "apim_sku = 'Basicv2'\n",
    "\n",
    "openai_resources = [ {\"name\": \"openai1\", \"location\": \"uksouth\"}]\n",
    "openai_model_name = \"gpt-4o-mini\"\n",
    "openai_model_version = \"2024-07-18\"\n",
    "openai_model_sku = \"GlobalStandard\"\n",
    "openai_deployment_name = \"gpt-4o-mini\"\n",
    "openai_api_version = \"2024-10-21\"\n",
    "\n",
    "build = 0\n",
    "\n",
    "utils.print_ok('Notebook initialized')"
   ]
  },
  {
   "cell_type": "markdown",
   "metadata": {},
   "source": [
    "<a id='3'></a>\n",
    "### 3️⃣ Get the deployment outputs\n",
    "\n",
    "Retrieve the required outputs from the Bicep deployment."
   ]
  },
  {
   "cell_type": "code",
   "execution_count": null,
   "metadata": {},
   "outputs": [],
   "source": [
    "# Obtain all of the outputs from the deployment\n",
    "output = utils.run(f\"az deployment group show --name {deployment_name} -g {resource_group_name}\", f\"Retrieved deployment: {deployment_name}\", f\"Failed to retrieve deployment: {deployment_name}\")\n",
    "\n",
    "if output.success and output.json_data:\n",
    "    apim_service_id = utils.get_deployment_output(output, 'apimServiceId', 'APIM Service Id')\n",
    "    apim_resource_gateway_url = utils.get_deployment_output(output, 'apimResourceGatewayURL', 'APIM Gateway URL')\n",
    "    apim_resource_name = utils.get_deployment_output(output, 'apimResourceName', 'APIM Resource Name')\n",
    "    apim_subscription_key = utils.get_deployment_output(output, 'apimSubscriptionKey', 'APIM Subscription Key (masked)', True)\n",
    "    app_insights_name = utils.get_deployment_output(output, 'applicationInsightsName', 'Application Insights Name')\n",
    "    container_registry_name = utils.get_deployment_output(output, 'containerRegistryName', 'Container Registry Name')\n",
    "    weather_containerapp_resource_name = utils.get_deployment_output(output, 'weatherMCPServerContainerAppResourceName', 'Weather Container App Resource Name')\n",
    "    oncall_containerapp_resource_name = utils.get_deployment_output(output, 'oncallMCPServerContainerAppResourceName', 'Oncall Container App Resource Name')\n",
    "    \n",
    "    a2a_weather_containerapp_resource_name = utils.get_deployment_output(output, 'a2AWeatherAgentServerContainerAppResourceName', 'A2A (Weather) Agent Container App Resource Name')\n",
    "    a2a_oncall_containerapp_resource_name = utils.get_deployment_output(output, 'a2AOncallAgentServerContainerAppResourceName', 'A2A (Oncall) Agent Container App Resource Name')\n",
    "\n",
    "    a2a_weather_a2a_agent_ep = utils.get_deployment_output(output, 'a2AWeatherAgentServerContainerAppFQDN', 'A2A (Weather) Agent Endpoint')\n",
    "    a2a_oncall_a2a_agent_ep = utils.get_deployment_output(output, 'a2AOncallAgentServerContainerAppFQDN', 'A2A (Oncall) Agent Endpoint')\n"
   ]
  },
  {
   "cell_type": "markdown",
   "metadata": {},
   "source": [
    "### Building Customisable A2A MCP-enabled Agent images for deployment in ACA"
   ]
  },
  {
   "cell_type": "markdown",
   "metadata": {},
   "source": [
    "#### Semantic-Kernel"
   ]
  },
  {
   "cell_type": "code",
   "execution_count": null,
   "metadata": {},
   "outputs": [],
   "source": [
    "build = build + 1\n",
    "\n",
    "a2a_sk_server_image = \"a2a-sk-server\"\n",
    "a2a_sk_server_src = \"src/a2a_servers/a2a_sk_mcp_agent\"\n",
    "\n",
    "utils.run(f\"az acr build --image {a2a_sk_server_image}:v0.{build} --resource-group {resource_group_name} --registry {container_registry_name} --file {a2a_sk_server_src}/Dockerfile {a2a_sk_server_src}/. --no-logs\", \n",
    "          \"Generic A2A SK Server with MCP image was successfully built\", \"Failed to build the Generic A2A SK Server with MCP image\")"
   ]
  },
  {
   "cell_type": "markdown",
   "metadata": {},
   "source": [
    "#### Autogen"
   ]
  },
  {
   "cell_type": "code",
   "execution_count": null,
   "metadata": {},
   "outputs": [],
   "source": [
    "a2a_ag_server_image = \"a2a-ag-server\"\n",
    "a2a_ag_server_src = \"src/a2a_servers/a2a_ag_mcp_agent\"\n",
    "\n",
    "utils.run(f\"az acr build --image {a2a_ag_server_image}:v0.{build} --resource-group {resource_group_name} --registry {container_registry_name} --file {a2a_ag_server_src}/Dockerfile {a2a_ag_server_src}/. --no-logs\", \n",
    "          \"Generic A2A Autogen Server with MCP image was successfully built\", \"Failed to build the Generic A2A Autogen Server with MCP image\")"
   ]
  },
  {
   "cell_type": "markdown",
   "metadata": {},
   "source": [
    "### 🧪 Deploying A2A Agents in ACA\n",
    "\n",
    "Use the following parameters to customise the deployment:\n",
    "title, mcp_url"
   ]
  },
  {
   "cell_type": "code",
   "execution_count": null,
   "metadata": {},
   "outputs": [],
   "source": [
    "title=\"Weather\"\n",
    "mcp_url = \"/weather\"\n",
    "\n",
    "utils.run(f'az containerapp secret set -n  {a2a_weather_containerapp_resource_name} -g {resource_group_name} --secrets apimsubscriptionkey={apim_subscription_key}', \"Weather A2A Server secret updated\", \"Weather A2A Server secret update failed\")\n",
    "utils.run(f'az containerapp update -n {a2a_weather_containerapp_resource_name} -g  {resource_group_name} --image \"{container_registry_name}.azurecr.io/{a2a_sk_server_image}:v0.{build}\" --set-env-vars TITLE={title} MCP_URL={mcp_url} A2A_URL={apim_resource_gateway_url}/weather-agent-a2a APIM_GATEWAY_URL={apim_resource_gateway_url} OPENAI_API_VERSION={openai_api_version} OPENAI_DEPLOYMENT_NAME={openai_deployment_name} APIM_SUBSCRIPTION_KEY=secretref:apimsubscriptionkey', \n",
    "          \"Weather A2A SK Server with MCP deployment succeeded\", \"Weather A2A SK Server with MCP deployment failed\")"
   ]
  },
  {
   "cell_type": "code",
   "execution_count": null,
   "metadata": {},
   "outputs": [],
   "source": [
    "utils.print_info(f'A2A URL for Weather Agent: {apim_resource_gateway_url}/weather-agent-a2a')"
   ]
  },
  {
   "cell_type": "code",
   "execution_count": null,
   "metadata": {},
   "outputs": [],
   "source": [
    "title=\"Oncall\"\n",
    "mcp_url = \"/oncall\"\n",
    "\n",
    "utils.run(f'az containerapp secret set -n  {a2a_oncall_containerapp_resource_name} -g {resource_group_name} --secrets apimsubscriptionkey={apim_subscription_key}', f\"{title} A2A Server secret updated\", f\"{title} A2A Server secret update failed\")\n",
    "utils.run(f'az containerapp update -n {a2a_oncall_containerapp_resource_name} -g  {resource_group_name} --image \"{container_registry_name}.azurecr.io/{a2a_ag_server_image}:v0.{build}\" --set-env-vars TITLE={title} MCP_URL={mcp_url} A2A_URL={apim_resource_gateway_url}/oncall-agent-a2a APIM_GATEWAY_URL={apim_resource_gateway_url} OPENAI_API_VERSION={openai_api_version} OPENAI_DEPLOYMENT_NAME={openai_deployment_name} APIM_SUBSCRIPTION_KEY=secretref:apimsubscriptionkey', \n",
    "          \"Oncall A2A SK Server with MCP deployment succeeded\", \"Oncall A2A SK Server with MCP deployment failed\")"
   ]
  },
  {
   "cell_type": "code",
   "execution_count": null,
   "metadata": {},
   "outputs": [],
   "source": [
    "utils.print_info(f'A2A URL for Oncall Agent: {apim_resource_gateway_url}/oncall-agent-a2a')"
   ]
  },
  {
   "cell_type": "markdown",
   "metadata": {},
   "source": [
    "### 🧪 A2A Multi-Agent using Agent Framework\n",
    "Running Agent using Agent Framework"
   ]
  },
  {
   "cell_type": "code",
   "execution_count": null,
   "metadata": {},
   "outputs": [],
   "source": [
    "import asyncio\n",
    "import os\n",
    "\n",
    "import httpx\n",
    "from a2a.client import A2ACardResolver, A2AClient\n",
    "from agent_framework.a2a import A2AAgent\n",
    "\n",
    "import nest_asyncio\n",
    "nest_asyncio.apply()\n",
    "\n",
    "auth_headers = {\n",
    "    \"api-key\": f\"{apim_subscription_key}\"\n",
    "    }\n",
    "\n",
    "async def main(agent, message):\n",
    "    \"\"\"Demonstrates connecting to and communicating with an A2A-compliant agent.\"\"\"\n",
    "    # Get A2A agent host from environment\n",
    "    a2a_agent_host = f\"{apim_resource_gateway_url}/{agent}\"\n",
    "\n",
    "    print(f\"Connecting to A2A agent at: {a2a_agent_host}\")\n",
    "\n",
    "    # Initialize A2ACardResolver\n",
    "    async with httpx.AsyncClient(timeout=60.0, headers=auth_headers) as http_client:\n",
    "        resolver = A2ACardResolver(httpx_client=http_client, base_url=a2a_agent_host)\n",
    "\n",
    "        # Get agent card\n",
    "        agent_card = await resolver.get_agent_card(relative_card_path=\"/.well-known/agent.json\")\n",
    "        print(f\"Found agent: {agent_card.name} - {agent_card.description}\")\n",
    "\n",
    "        # Disable streaming if needed\n",
    "        ## agent_card.capabilities.streaming=False\n",
    "\n",
    "        # Create A2A agent instance\n",
    "        agent = A2AAgent(\n",
    "            name=agent_card.name,\n",
    "            description=agent_card.description,\n",
    "            agent_card=agent_card,\n",
    "            url=a2a_agent_host,\n",
    "            http_client=http_client,\n",
    "        )\n",
    "\n",
    "        # Invoke the agent and output the result\n",
    "        print(\"\\nSending message to A2A agent...\")\n",
    "        response = await agent.run(message)\n",
    "\n",
    "        # Print the response\n",
    "        print(\"\\nAgent Response:\")\n",
    "        for message in response.messages:\n",
    "            print(message.text)\n",
    "            print(\"\\n---\\n\")\n",
    "\n",
    "\n",
    "if __name__ == \"__main__\":\n",
    "    asyncio.run(main(\"weather-agent-a2a\", \"What is the weather forecast for London this week?\"))\n",
    "    asyncio.run(main(\"oncall-agent-a2a\", \"What is the on-call schedule for this week in CET timezone?\"))"
   ]
  },
  {
   "cell_type": "markdown",
   "metadata": {},
   "source": [
    "### 🧪 Engage A2A Agent through CLI\n",
    "Run the output from the following cell in terminal to engage with deployed A2A agents"
   ]
  },
  {
   "cell_type": "code",
   "execution_count": null,
   "metadata": {},
   "outputs": [],
   "source": [
    "print(f'uv run ./src/a2a_client --agent \"{apim_resource_gateway_url}/oncall-agent-a2a\" --apikey \"{apim_subscription_key}\"')\n",
    "\n",
    "print(f'uv run ./src/a2a_client --agent \"{apim_resource_gateway_url}/weather-agent-a2a\" --apikey \"{apim_subscription_key}\"')"
   ]
  },
  {
   "cell_type": "markdown",
   "metadata": {},
   "source": [
    "<a id='clean'></a>\n",
    "### 🗑️ Clean up resources\n",
    "\n",
    "When you're finished with the lab, you should remove all your deployed resources from Azure to avoid extra charges and keep your Azure subscription uncluttered.\n",
    "Use the [clean-up-resources notebook](clean-up-resources.ipynb) for that."
   ]
  }
 ],
 "metadata": {
  "kernelspec": {
   "display_name": "myenv",
   "language": "python",
   "name": "python3"
  },
  "language_info": {
   "codemirror_mode": {
    "name": "ipython",
    "version": 3
   },
   "file_extension": ".py",
   "mimetype": "text/x-python",
   "name": "python",
   "nbconvert_exporter": "python",
   "pygments_lexer": "ipython3",
   "version": "3.13.5"
  }
 },
 "nbformat": 4,
 "nbformat_minor": 2
}
