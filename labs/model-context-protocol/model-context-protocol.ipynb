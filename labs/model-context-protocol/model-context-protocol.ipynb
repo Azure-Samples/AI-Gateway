{
 "cells": [
  {
   "cell_type": "markdown",
   "metadata": {},
   "source": [
    "# APIM ❤️ AI Agents\n",
    "\n",
    "## Model Context Protocol (MCP) lab\n",
    "![flow](../../images/model-context-protocol.gif)\n",
    "\n",
    "Playground to experiment the [Model Context Protocol](https://modelcontextprotocol.io/) with Azure API Management to enable plug & play of tools to LLMs. Leverages the [credential manager](https://learn.microsoft.com/en-us/azure/api-management/credentials-overview) for  managing OAuth 2.0 tokens to backend tools and [client token validation](https://learn.microsoft.com/en-us/azure/api-management/validate-jwt-policy) to ensure end-to-end authentication and authorization.   \n",
    "This lab includes the following MCP servers:\n",
    "- Basic weather service: provide tools to get cities for a given country and retrieve random weather information for a specified city.\n",
    "- GitHub Issues MCP Server: provide tools to authenticate on GitHub using the APIM Credential Manager, retrieves user information, and lists issues for a specified repository.\n",
    "- ServiceNow incidents MCP Server: provides tools to authenticates on ServiceNow using the APIM Credential Manager, lists incidents, retrieves a particular incident and create a new one.\n",
    "\n",
    "### Prerequisites\n",
    "\n",
    "- [Python 3.12 or later version](https://www.python.org/) installed\n",
    "- [VS Code](https://code.visualstudio.com/) installed with the [Jupyter notebook extension](https://marketplace.visualstudio.com/items?itemName=ms-toolsai.jupyter) enabled\n",
    "- [Python environment](https://code.visualstudio.com/docs/python/environments#_creating-environments) with the [requirements.txt](../../requirements.txt) or run `pip install -r requirements.txt` in your terminal\n",
    "- [An Azure Subscription](https://azure.microsoft.com/free/) with [Contributor](https://learn.microsoft.com/en-us/azure/role-based-access-control/built-in-roles/privileged#contributor) + [RBAC Administrator](https://learn.microsoft.com/en-us/azure/role-based-access-control/built-in-roles/privileged#role-based-access-control-administrator) or [Owner](https://learn.microsoft.com/en-us/azure/role-based-access-control/built-in-roles/privileged#owner) roles\n",
    "- [Azure CLI](https://learn.microsoft.com/cli/azure/install-azure-cli) installed and [Signed into your Azure subscription](https://learn.microsoft.com/cli/azure/authenticate-azure-cli-interactively)\n",
    "\n",
    "▶️ Click `Run All` to execute all steps sequentially, or execute them `Step by Step`...\n"
   ]
  },
  {
   "cell_type": "markdown",
   "metadata": {},
   "source": [
    "<a id='0'></a>\n",
    "### 0️⃣ Initialize notebook variables\n",
    "\n",
    "- Resources will be suffixed by a unique string based on your subscription id.\n",
    "- Adjust the location parameters according your preferences and on the [product availability by Azure region.](https://azure.microsoft.com/explore/global-infrastructure/products-by-region/?cdn=disable&products=cognitive-services,api-management) \n",
    "- Adjust the OpenAI model and version according the [availability by region.](https://learn.microsoft.com/azure/ai-services/openai/concepts/models) "
   ]
  },
  {
   "cell_type": "code",
   "execution_count": null,
   "metadata": {
    "metadata": {}
   },
   "outputs": [],
   "source": [
    "import os, sys, json\n",
    "sys.path.insert(1, '../../shared')  # add the shared directory to the Python path\n",
    "import utils\n",
    "\n",
    "deployment_name = os.path.basename(os.path.dirname(globals()['__vsc_ipynb_file__']))\n",
    "resource_group_name = f\"lab-{deployment_name}\" # change the name to match your naming style\n",
    "resource_group_location = \"westeurope\"\n",
    "\n",
    "apim_sku = 'Basicv2'\n",
    "\n",
    "openai_resources = [ {\"name\": \"openai1\", \"location\": \"uksouth\"}]\n",
    "openai_model_name = \"gpt-4o-mini\"\n",
    "openai_model_version = \"2024-07-18\"\n",
    "openai_model_sku = \"GlobalStandard\"\n",
    "openai_deployment_name = \"gpt-4o-mini\"\n",
    "openai_api_version = \"2024-10-21\"\n",
    "\n",
    "build = 0\n",
    "weather_mcp_server_image = \"weather-mcp-server\"\n",
    "weather_mcp_server_src = \"src/weather/mcp-server\"\n",
    "\n",
    "github_mcp_server_image = \"github-mcp-server\"\n",
    "github_mcp_server_src = \"src/github/mcp-server\"\n",
    "\n",
    "servicenow_mcp_server_image = \"servicenow-mcp-server\"\n",
    "servicenow_mcp_server_src = \"src/servicenow/mcp-server\"\n",
    "servicenow_instance_name = \"\" # Add here the name of your ServiceNow instance, e.g. \"businessname-dev\". Leave empty if you don't want to use ServiceNow.\n",
    "\n",
    "utils.print_ok('Notebook initialized')"
   ]
  },
  {
   "cell_type": "markdown",
   "metadata": {},
   "source": [
    "<a id='1'></a>\n",
    "### 1️⃣ Verify the Azure CLI and the connected Azure subscription\n",
    "\n",
    "The following commands ensure that you have the latest version of the Azure CLI and that the Azure CLI is connected to your Azure subscription."
   ]
  },
  {
   "cell_type": "code",
   "execution_count": null,
   "metadata": {},
   "outputs": [],
   "source": [
    "output = utils.run(\"az account show\", \"Retrieved az account\", \"Failed to get the current az account\")\n",
    "\n",
    "if output.success and output.json_data:\n",
    "    current_user = output.json_data['user']['name']\n",
    "    tenant_id = output.json_data['tenantId']\n",
    "    subscription_id = output.json_data['id']\n",
    "\n",
    "    utils.print_info(f\"Current user: {current_user}\")\n",
    "    utils.print_info(f\"Tenant ID: {tenant_id}\")\n",
    "    utils.print_info(f\"Subscription ID: {subscription_id}\")"
   ]
  },
  {
   "cell_type": "markdown",
   "metadata": {},
   "source": [
    "<a id='2'></a>\n",
    "### 2️⃣ Create deployment using 🦾 Bicep\n",
    "\n",
    "This lab uses [Bicep](https://learn.microsoft.com/azure/azure-resource-manager/bicep/overview?tabs=bicep) to declarative define all the resources that will be deployed in the specified resource group. Change the parameters or the [main.bicep](main.bicep) directly to try different configurations. "
   ]
  },
  {
   "cell_type": "code",
   "execution_count": null,
   "metadata": {},
   "outputs": [],
   "source": [
    "# Create the resource group if doesn't exist\n",
    "utils.create_resource_group(resource_group_name, resource_group_location)\n",
    "\n",
    "# Define the Bicep parameters\n",
    "bicep_parameters = {\n",
    "    \"$schema\": \"https://schema.management.azure.com/schemas/2019-04-01/deploymentParameters.json#\",\n",
    "    \"contentVersion\": \"1.0.0.0\",\n",
    "    \"parameters\": {\n",
    "        \"apimSku\": { \"value\": apim_sku },\n",
    "        \"openAIConfig\": { \"value\": openai_resources },\n",
    "        \"openAIDeploymentName\": { \"value\": openai_deployment_name },\n",
    "        \"openAIModelName\": { \"value\": openai_model_name },\n",
    "        \"openAIModelVersion\": { \"value\": openai_model_version },\n",
    "        \"openAIModelSKU\": { \"value\": openai_model_sku },\n",
    "        \"openAIAPIVersion\": { \"value\": openai_api_version },\n",
    "        \"serviceNowInstanceName\": { \"value\": servicenow_instance_name }\n",
    "    }\n",
    "}\n",
    "\n",
    "# Write the parameters to the params.json file\n",
    "with open('params.json', 'w') as bicep_parameters_file:\n",
    "    bicep_parameters_file.write(json.dumps(bicep_parameters))\n",
    "\n",
    "# Run the deployment\n",
    "output = utils.run(f\"az deployment group create --name {deployment_name} --resource-group {resource_group_name} --template-file main.bicep --parameters params.json\",\n",
    "    f\"Deployment '{deployment_name}' succeeded\", f\"Deployment '{deployment_name}' failed\")"
   ]
  },
  {
   "cell_type": "markdown",
   "metadata": {},
   "source": [
    "<a id='3'></a>\n",
    "### 3️⃣ Get the deployment outputs\n",
    "\n",
    "Retrieve the required outputs from the Bicep deployment."
   ]
  },
  {
   "cell_type": "code",
   "execution_count": null,
   "metadata": {},
   "outputs": [],
   "source": [
    "# Obtain all of the outputs from the deployment\n",
    "output = utils.run(f\"az deployment group show --name {deployment_name} -g {resource_group_name}\", f\"Retrieved deployment: {deployment_name}\", f\"Failed to retrieve deployment: {deployment_name}\")\n",
    "\n",
    "if output.success and output.json_data:\n",
    "    apim_service_id = utils.get_deployment_output(output, 'apimServiceId', 'APIM Service Id')\n",
    "    apim_resource_gateway_url = utils.get_deployment_output(output, 'apimResourceGatewayURL', 'APIM Gateway URL')\n",
    "    apim_resource_name = utils.get_deployment_output(output, 'apimResourceName', 'APIM Resource Name')\n",
    "    apim_subscription_key = utils.get_deployment_output(output, 'apimSubscriptionKey', 'APIM Subscription Key (masked)', True)\n",
    "    app_insights_name = utils.get_deployment_output(output, 'applicationInsightsName', 'Application Insights Name')\n",
    "    container_registry_name = utils.get_deployment_output(output, 'containerRegistryName', 'Container Registry Name')\n",
    "    weather_containerapp_resource_name = utils.get_deployment_output(output, 'weatherMCPServerContainerAppResourceName', 'Weather Container App Resource Name')\n",
    "    github_containerapp_resource_name = utils.get_deployment_output(output, 'gitHubMCPServerContainerAppResourceName', 'GitHub Container App Resource Name')\n",
    "    if servicenow_instance_name:\n",
    "        servicenow_containerapp_resource_name = utils.get_deployment_output(output, 'servicenowMCPServerContainerAppResourceName', 'servicenow Container App Resource Name')\n"
   ]
  },
  {
   "cell_type": "markdown",
   "metadata": {},
   "source": [
    "<a id='4'></a>\n",
    "### 4️⃣ Build and deploy the MCP Servers\n",
    "\n"
   ]
  },
  {
   "cell_type": "code",
   "execution_count": null,
   "metadata": {},
   "outputs": [],
   "source": [
    "build = build + 1 # increment the build number\n",
    "\n",
    "utils.run(f\"az acr build --image {weather_mcp_server_image}:v0.{build} --resource-group {resource_group_name} --registry {container_registry_name} --file {weather_mcp_server_src}/Dockerfile {weather_mcp_server_src}/. --no-logs\", \n",
    "          \"Weather MCP Server image was successfully built\", \"Failed to build the Weather MCP Server image\")\n",
    "utils.run(f'az containerapp update -n {weather_containerapp_resource_name} -g {resource_group_name} --image \"{container_registry_name}.azurecr.io/{weather_mcp_server_image}:v0.{build}\"', \n",
    "          \"Weather MCP Server deployment succeeded\", \"Weather MCP Server deployment failed\")\n",
    "\n",
    "utils.run(f\"az acr build --image {github_mcp_server_image}:v0.{build} --resource-group {resource_group_name} --registry {container_registry_name} --file {github_mcp_server_src}/Dockerfile {github_mcp_server_src}/. --no-logs\", \n",
    "          \"GitHub MCP Server image was successfully built\", \"Failed to build the GitHub MCP Server image\")\n",
    "utils.run(f'az containerapp update -n {github_containerapp_resource_name} -g {resource_group_name} --image \"{container_registry_name}.azurecr.io/{github_mcp_server_image}:v0.{build}\"', \n",
    "          \"GitHub MCP Server deployment succeeded\", \"GitHub MCP Server deployment failed\")\n",
    "\n",
    "if servicenow_instance_name:\n",
    "    utils.run(f\"az acr build --image {servicenow_mcp_server_image}:v0.{build} --resource-group {resource_group_name} --registry {container_registry_name} --file {servicenow_mcp_server_src}/Dockerfile {servicenow_mcp_server_src}/. --no-logs\", \n",
    "            \"ServiceNow MCP Server image was successfully built\", \"Failed to build the ServiceNow MCP Server image\")\n",
    "    utils.run(f'az containerapp update -n {servicenow_containerapp_resource_name} -g {resource_group_name} --image \"{container_registry_name}.azurecr.io/{servicenow_mcp_server_image}:v0.{build}\"', \n",
    "            \"ServiceNow MCP Server deployment succeeded\", \"ServiceNow MCP Server deployment failed\")\n"
   ]
  },
  {
   "cell_type": "markdown",
   "metadata": {},
   "source": [
    "<a id='testconnection'></a>\n",
    "### 🧪 Test the connection to the MCP servers and List Tools\n",
    "\n",
    "👉 Run `pip install mcp` before executing the cell\n",
    "\n",
    "💡 To integrate MCP servers in VS Code, use the MCP server URL  `../sse ` for configuration in GitHub Copilot Agent Mode"
   ]
  },
  {
   "cell_type": "code",
   "execution_count": null,
   "metadata": {},
   "outputs": [],
   "source": [
    "import os, json, asyncio\n",
    "from mcp import ClientSession\n",
    "from mcp.client.sse import sse_client\n",
    "import nest_asyncio\n",
    "nest_asyncio.apply()\n",
    "\n",
    "async def list_tools(server_url):\n",
    "    async with sse_client(server_url) as streams:\n",
    "        async with ClientSession(streams[0], streams[1]) as session:\n",
    "            await session.initialize()\n",
    "\n",
    "            response = await session.list_tools()\n",
    "            tools = response.tools\n",
    "    print(f\"✅ Connected to server {server_url}\")\n",
    "    print(\"⚙️ Tools:\")\n",
    "    for tool in tools:\n",
    "        print(f\"  - {tool.name}\")\n",
    "        print(f\"     Input Schema: {tool.inputSchema}\")\n",
    "        \n",
    "asyncio.run(list_tools(f\"{apim_resource_gateway_url}/weather/sse\"))\n",
    "asyncio.run(list_tools(f\"{apim_resource_gateway_url}/github/sse\"))\n",
    "if servicenow_instance_name:\n",
    "    asyncio.run(list_tools(f\"{apim_resource_gateway_url}/servicenow/sse\"))\n"
   ]
  },
  {
   "cell_type": "markdown",
   "metadata": {},
   "source": [
    "<a id='inspector'></a>\n",
    "### 🧪 (optional) Use the [MCP Inspector](https://modelcontextprotocol.io/docs/tools/inspector) for testing and debugging the MCP servers\n",
    "\n",
    "#### Execute the following steps:\n",
    "1. Execute `npx @modelcontextprotocol/inspector` in a terminal\n",
    "2. Open the provided URL in a browser\n",
    "3. Set the transport type as SSE\n",
    "4. Provide the MCP server url and click connect\n",
    "5. Select the \"Tools\" tab to see and run the available tools"
   ]
  },
  {
   "cell_type": "markdown",
   "metadata": {},
   "source": [
    "<a id='functioncalling'></a>\n",
    "### 🧪 Run an OpenAI completion with MCP tools\n",
    "\n",
    "👉 Both the calls to Azure OpenAI and the MCP tools will be managed through Azure API Management.  \n"
   ]
  },
  {
   "cell_type": "code",
   "execution_count": null,
   "metadata": {},
   "outputs": [],
   "source": [
    "# type: ignore\n",
    "import json, asyncio\n",
    "from mcp import ClientSession\n",
    "from mcp.client.sse import sse_client\n",
    "from openai import AzureOpenAI\n",
    "import nest_asyncio\n",
    "nest_asyncio.apply()\n",
    "\n",
    "async def call_tool(mcp_session, function_name, function_args):\n",
    "    try:\n",
    "        func_response = await mcp_session.call_tool(function_name, function_args)\n",
    "        func_response_content = func_response.content\n",
    "    except Exception as e:\n",
    "        func_response_content = json.dumps({\"error\": str(e)})\n",
    "    return str(func_response_content)\n",
    "\n",
    "async def run_completion_with_tools(server_url, prompt):\n",
    "    async with sse_client(server_url) as streams:\n",
    "        async with ClientSession(streams[0], streams[1]) as session:\n",
    "            await session.initialize()\n",
    "            response = await session.list_tools()\n",
    "            tools = response.tools\n",
    "            print(f\"✅ Connected to server {server_url}\")\n",
    "            openai_tools = [{\n",
    "                    \"type\": \"function\",\n",
    "                    \"function\": {\n",
    "                        \"name\": tool.name,\n",
    "                        \"parameters\": tool.inputSchema\n",
    "                    },\n",
    "                } for tool in tools]\n",
    "\n",
    "            # Step 1: send the conversation and available functions to the model\n",
    "            print(\"▶️ Step 1: start a completion to identify the appropriate functions to invoke based on the prompt\")\n",
    "            client = AzureOpenAI(\n",
    "                azure_endpoint=apim_resource_gateway_url,\n",
    "                api_key=apim_subscription_key,\n",
    "                api_version=openai_api_version\n",
    "            )            \n",
    "            messages = [ {\"role\": \"user\", \"content\": prompt} ]\n",
    "            response = client.chat.completions.create(\n",
    "                model=openai_deployment_name,\n",
    "                messages=messages,\n",
    "                tools=openai_tools,\n",
    "            )\n",
    "            response_message = response.choices[0].message\n",
    "            tool_calls = response_message.tool_calls\n",
    "            if tool_calls:\n",
    "                # Step 2: call the function\n",
    "                messages.append(response_message)  # extend conversation with assistant's reply\n",
    "                # send the info for each function call and function response to the model\n",
    "                print(\"▶️ Step 2: call the functions\")\n",
    "                for tool_call in tool_calls:\n",
    "                    function_name = tool_call.function.name\n",
    "                    function_args = json.loads(tool_call.function.arguments)\n",
    "                    print(f\"   Function Name: {function_name} Function Args: {function_args}\")\n",
    "\n",
    "                    function_response = await call_tool(session, function_name, function_args)\n",
    "                    # Add the tool response\n",
    "                    print(f\"   Function response: {function_response}\")\n",
    "                    messages.append(\n",
    "                        {\n",
    "                            \"tool_call_id\": tool_call.id,\n",
    "                            \"role\": \"tool\",\n",
    "                            \"name\": function_name,\n",
    "                            \"content\": function_response,\n",
    "                        }\n",
    "                    )  # extend conversation with function response\n",
    "                print(\"▶️ Step 3: finish with a completion to anwser the user prompt using the function response\")\n",
    "                second_response = client.chat.completions.create(\n",
    "                    model=openai_deployment_name,\n",
    "                    messages=messages,\n",
    "                )  # get a new response from the model where it can see the function response\n",
    "                print(\"💬\", second_response.choices[0].message.content)\n",
    "\n",
    "asyncio.run(run_completion_with_tools(f\"{apim_resource_gateway_url}/weather/sse\", \"What's the current weather in Lisbon?\"))\n"
   ]
  },
  {
   "cell_type": "markdown",
   "metadata": {},
   "source": [
    "<a id='autogen'></a>\n",
    "### 🧪 Execute an [AutoGen Agent using MCP Tools](https://microsoft.github.io/autogen/stable/reference/python/autogen_ext.tools.mcp.html) via Azure API Management\n",
    "\n",
    "\n",
    "👉 Run `pip install autogen-core autogen-ext[openai,azure,mcp] autogen-agentchat` before executing the cell"
   ]
  },
  {
   "cell_type": "code",
   "execution_count": null,
   "metadata": {},
   "outputs": [],
   "source": [
    "import asyncio\n",
    "from autogen_ext.models.openai import AzureOpenAIChatCompletionClient\n",
    "from autogen_ext.tools.mcp import SseMcpToolAdapter, SseServerParams, mcp_server_tools\n",
    "from autogen_agentchat.agents import AssistantAgent\n",
    "from autogen_agentchat.ui import Console\n",
    "from autogen_core import CancellationToken\n",
    "\n",
    "async def run_agent(url, prompt) -> None:\n",
    "    # Create server params for the remote MCP service\n",
    "    server_params = SseServerParams(\n",
    "        url=url,\n",
    "        headers={\"Content-Type\": \"application/json\"},\n",
    "        timeout=30,  # Connection timeout in seconds\n",
    "    )\n",
    "\n",
    "    # Get all available tools\n",
    "    tools = await mcp_server_tools(server_params)\n",
    "\n",
    "    # Create an agent that can use the translation tool\n",
    "    model_client = AzureOpenAIChatCompletionClient(azure_deployment=openai_deployment_name, model=openai_deployment_name,\n",
    "                azure_endpoint=apim_resource_gateway_url,\n",
    "                api_key=apim_subscription_key,\n",
    "                api_version=openai_api_version\n",
    "    )\n",
    "    agent = AssistantAgent(\n",
    "        name=\"weather\",\n",
    "        model_client=model_client,\n",
    "        tools=tools, # type: ignore\n",
    "        system_message=\"You are a helpful assistant.\",\n",
    "    )\n",
    "    await Console(\n",
    "        agent.run_stream(task=prompt)\n",
    "    )\n",
    "\n",
    "asyncio.run(run_agent(f\"{apim_resource_gateway_url}/weather/sse\", \"What's the weather in Lisbon?\"))\n"
   ]
  },
  {
   "cell_type": "markdown",
   "metadata": {},
   "source": [
    "<a id='githubconfig'></a>\n",
    "### 5️⃣ Create a GitHub OAuth app and configure the credential provider\n",
    "\n",
    "#### Step 1 - [Register the application in GitHub](https://learn.microsoft.com/en-us/azure/api-management/credentials-how-to-github#step-1-register-an-application-in-github)\n",
    "\n",
    "👉 Use the Authorization callback URL that is provided bellow  \n",
    "👉 Copy the Client ID and Client secret\n",
    "\n",
    "#### Step 2 - [Configure the credential provider in API Management](https://learn.microsoft.com/en-us/azure/api-management/credentials-how-to-github#step-2-configure-a-credential-provider-in-api-management)\n",
    "\n",
    "👉 You just need to update the Client ID and Client secret on the existing `github` credential manager provider  \n",
    "👉 Disregard the remaining steps outlined in the documentation\n"
   ]
  },
  {
   "cell_type": "markdown",
   "metadata": {},
   "source": [
    "<a id='servicenowconfig'></a>\n",
    "### 6️⃣ Create a ServiceNow OAuth app and configure the credential provider\n",
    "\n",
    "ℹ️ If you do not wish to use ServiceNow, please skip these steps\n",
    "\n",
    "#### Step 1 - [Register the application in ServiceNow](https://www.servicenow.com/docs/bundle/yokohama-application-development/page/build/pipelines-and-deployments/task/create-oauth-api-endpoints-for-external-clients.html)\n",
    "\n",
    "👉 Use the Authorization callback URL that is provided bellow  \n",
    "👉 Copy the Client ID and Client secret\n",
    "\n",
    "#### Step 2 - Configure the credential provider in API Management\n",
    "\n",
    "👉 You just need to update the Client ID and Client secret on the existing `servicenonw` credential manager provider  "
   ]
  },
  {
   "cell_type": "code",
   "execution_count": null,
   "metadata": {},
   "outputs": [],
   "source": [
    "print(f\"Authorization callback URL: https://authorization-manager.consent.azure-apim.net/redirect/apim/{apim_resource_name}\")"
   ]
  },
  {
   "cell_type": "markdown",
   "metadata": {},
   "source": [
    "<a id='githubtest'></a>\n",
    "### 🧪 Run the GitHub MCP Server with VS Code to retrieve GitHub Issues\n",
    "\n",
    "1. Add the GitHub MCP Server\n",
    "2. Type in the chat the following prompt: `Please list all the issues assigned to me in the GitHub repository {your-repo-name} under the organization {your-org-name}`\n",
    "3. The agent will suggest running the `authorize_github` tool.\n",
    "4. Once the user accepts to run the tool, the agent will call the `authorize_github` and provide an URL to proceed with the authentication and authorization on GitHub.\n",
    "5. After the user confirms that it's done, the agent will suggest running the `get_user` tool.\n",
    "6. Once the user accepts to run the `get_user` tool, the agent will call the tool, return user information as context and suggest running the `get_issues` tool.\n",
    "7. Once the user accepts to run the `get_issues` tool, the agent will provide the list of issues from the given repo."
   ]
  },
  {
   "cell_type": "markdown",
   "metadata": {},
   "source": [
    "<a id='servicenowtest'></a>\n",
    "### 🧪 Run the ServiceNow MCP Server with VS Code to manage ServiceNow incidents\n",
    "\n",
    "1. Add the ServiceNow MCP Server\n",
    "2. Type in the chat the following prompt: `Please list my servicenow incidents`\n",
    "3. The agent will suggest running the `authorize_servicenow` tool.\n",
    "4. Once the user accepts to run the tool, the agent will call the `authorize_servicenow` and provide an URL to proceed with the authentication and authorization on ServiceNow.\n",
    "5. After the user confirms that it's done, the agent will suggest running the `list_incidents` tool.\n",
    "6. Once the user accepts to run the `list_incidents` tool, the agent will provide the list of incidents for the connected ServiceNow instance.\n",
    "7. You can also retrieve details for a specific incident or create a new one.\n",
    "\n",
    "✨ Type in the chat the following prompt: `Create a ServiceNow incident for each GitHub issue`. To combine GitHub and ServiceNow MCP Servers."
   ]
  },
  {
   "cell_type": "markdown",
   "metadata": {},
   "source": [
    "<a id='clean'></a>\n",
    "### 🗑️ Clean up resources\n",
    "\n",
    "When you're finished with the lab, you should remove all your deployed resources from Azure to avoid extra charges and keep your Azure subscription uncluttered.\n",
    "Use the [clean-up-resources notebook](clean-up-resources.ipynb) for that."
   ]
  }
 ],
 "metadata": {
  "kernelspec": {
   "display_name": ".venv",
   "language": "python",
   "name": "python3"
  },
  "language_info": {
   "codemirror_mode": {
    "name": "ipython",
    "version": 3
   },
   "file_extension": ".py",
   "mimetype": "text/x-python",
   "name": "python",
   "nbconvert_exporter": "python",
   "pygments_lexer": "ipython3",
   "version": "3.12.9"
  }
 },
 "nbformat": 4,
 "nbformat_minor": 2
}
