{
 "cells": [
  {
   "cell_type": "markdown",
   "metadata": {},
   "source": [
    "### 🗑️ Clean up resources\n",
    "\n",
    "When you're finished with the lab, you should remove all your deployed resources from Azure to avoid extra charges and keep your Azure subscription uncluttered."
   ]
  },
  {
   "cell_type": "code",
   "execution_count": 3,
   "metadata": {},
   "outputs": [
    {
     "name": "stdout",
     "output_type": "stream",
     "text": [
      "👉🏽 \u001b[1;34m🧹 Cleaning up resource group 'lab-model-context-protocol'...\u001b[0m\n",
      "⚙️ \u001b[1;34mRunning: az deployment group show --name model-context-protocol -g lab-model-context-protocol -o json \u001b[0m\n",
      "✅ \u001b[1;32mDeployment retrieved\u001b[0m ⌚ 16:15:24.949363 [0m:6s]\n",
      "👉🏽 \u001b[1;34mDeployment provisioning state: Failed\u001b[0m\n",
      "⚙️ \u001b[1;34mRunning:  az cognitiveservices account list -g lab-model-context-protocol \u001b[0m\n",
      "✅ \u001b[1;32mListed CognitiveService accounts\u001b[0m ⌚ 16:15:28.202515 [0m:3s]\n",
      "👉🏽 \u001b[1;34mDeleting and purging Cognitive Service Account 'openai1-auiw36ln56adc' in resource group 'lab-model-context-protocol'...\u001b[0m\n",
      "⚙️ \u001b[1;34mRunning: az cognitiveservices account delete -g lab-model-context-protocol -n openai1-auiw36ln56adc \u001b[0m\n",
      "✅ \u001b[1;32mCognitive Services 'openai1-auiw36ln56adc' deleted\u001b[0m ⌚ 16:15:37.807459 [0m:9s]\n",
      "⚙️ \u001b[1;34mRunning: az cognitiveservices account purge -g lab-model-context-protocol -n openai1-auiw36ln56adc -l \"uksouth\" \u001b[0m\n",
      "✅ \u001b[1;32mCognitive Services 'openai1-auiw36ln56adc' purged\u001b[0m ⌚ 16:15:42.153394 [0m:4s]\n",
      "⚙️ \u001b[1;34mRunning:  az apim list -g lab-model-context-protocol \u001b[0m\n",
      "✅ \u001b[1;32mListed APIM resources\u001b[0m ⌚ 16:15:46.202194 [0m:4s]\n",
      "👉🏽 \u001b[1;34mDeleting and purging API Management 'apim-auiw36ln56adc' in resource group 'lab-model-context-protocol'...\u001b[0m\n",
      "⚙️ \u001b[1;34mRunning: az apim delete -n apim-auiw36ln56adc -g lab-model-context-protocol -y \u001b[0m\n",
      "✅ \u001b[1;32mAPI Management 'apim-auiw36ln56adc' deleted\u001b[0m ⌚ 16:16:53.246972 [1m:7s]\n",
      "⚙️ \u001b[1;34mRunning: az apim deletedservice purge --service-name apim-auiw36ln56adc --location \"UK South\" \u001b[0m\n",
      "✅ \u001b[1;32mAPI Management 'apim-auiw36ln56adc' purged\u001b[0m ⌚ 16:18:26.250154 [1m:33s]\n",
      "⚙️ \u001b[1;34mRunning:  az keyvault list -g lab-model-context-protocol \u001b[0m\n",
      "✅ \u001b[1;32mListed Key Vault resources\u001b[0m ⌚ 16:18:29.694921 [0m:3s]\n",
      "👉🏽 \u001b[1;32m🧹 Deleting resource group 'lab-model-context-protocol'...\u001b[0m ⌚ 16:18:29.694921 \n",
      "⚙️ \u001b[1;34mRunning: az group delete --name lab-model-context-protocol -y \u001b[0m\n",
      "✅ \u001b[1;32mResource group 'lab-model-context-protocol' deleted\u001b[0m ⌚ 16:27:38.395715 [9m:8s]\n",
      "👉🏽 \u001b[1;32m🧹 Cleanup completed.\u001b[0m ⌚ 16:27:38.396724 \n"
     ]
    }
   ],
   "source": [
    "import os, sys\n",
    "sys.path.insert(1, '../../shared')  # add the shared directory to the Python path\n",
    "import utils\n",
    "\n",
    "deployment_name = os.path.basename(os.path.dirname(globals()['__vsc_ipynb_file__']))\n",
    "utils.cleanup_resources(deployment_name)"
   ]
  }
 ],
 "metadata": {
  "kernelspec": {
   "display_name": ".venv",
   "language": "python",
   "name": "python3"
  },
  "language_info": {
   "codemirror_mode": {
    "name": "ipython",
    "version": 3
   },
   "file_extension": ".py",
   "mimetype": "text/x-python",
   "name": "python",
   "nbconvert_exporter": "python",
   "pygments_lexer": "ipython3",
   "version": "3.12.9"
  }
 },
 "nbformat": 4,
 "nbformat_minor": 2
}
