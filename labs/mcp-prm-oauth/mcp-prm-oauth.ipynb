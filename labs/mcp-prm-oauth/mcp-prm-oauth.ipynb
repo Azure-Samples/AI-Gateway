{
 "cells": [
  {
   "cell_type": "markdown",
   "metadata": {},
   "source": [
    "# APIM ❤️ MCP\n",
    "\n",
    "## MCP Protected Resources Metadata - PRM\n",
    "\n",
    "![flow](../../images/mcp-client-authorization.gif)\n",
    "\n",
    "Playground to experiment the [Model Context Protocol](https://modelcontextprotocol.io/) with the [client authorization flow](https://modelcontextprotocol.io/specification/2025-03-26/basic/authorization#2-10-third-party-authorization-flow). \n",
    "\n",
    "In this flow, Azure API Management act both as an OAuth client connecting to the [Microsoft Entra ID](https://learn.microsoft.com/en-us/entra/architecture/auth-oauth2) authorization server and as an OAuth authorization server for the MCP client ([MCP inspector](https://modelcontextprotocol.io/docs/tools/inspector) in this lab).\n",
    "\n",
    "Full documentation of the assets created in this lab and how they interact is documented in [Arch decisions summary](ARCH_SUMMARY.md) and in [MCP PRM Server implementation](src/mcp-prm-server/README.md)\n",
    "\n",
    "\n",
    "⚠️ This lab implements the [MCP Authorization proposal](https://modelcontextprotocol.io/specification/2025-03-26/basic/authorization) and [RFC9729](https://datatracker.ietf.org/doc/html/rfc9728), this is as close to production-grade security for MCP servers as it gets, and is inspired by the amazing work by [blackchoey/remote-mcp-apim-oauth-prm](https://github.com/blackchoey/remote-mcp-apim-oauth-prm) - originally written in C#\n",
    "\n",
    "### Prerequisites\n",
    "\n",
    "- [Python 3.12 or later version](https://www.python.org/) installed\n",
    "- [VS Code](https://code.visualstudio.com/) installed with the [Jupyter notebook extension](https://marketplace.visualstudio.com/items?itemName=ms-toolsai.jupyter) enabled\n",
    "- [Python environment](https://code.visualstudio.com/docs/python/environments#_creating-environments) with the [requirements.txt](../../requirements.txt) or run `pip install -r requirements.txt` in your terminal\n",
    "- [An Azure Subscription](https://azure.microsoft.com/free/) with [Contributor](https://learn.microsoft.com/en-us/azure/role-based-access-control/built-in-roles/privileged#contributor) + [RBAC Administrator](https://learn.microsoft.com/en-us/azure/role-based-access-control/built-in-roles/privileged#role-based-access-control-administrator) or [Owner](https://learn.microsoft.com/en-us/azure/role-based-access-control/built-in-roles/privileged#owner) roles\n",
    "- [Azure CLI](https://learn.microsoft.com/cli/azure/install-azure-cli) installed and [Signed into your Azure subscription](https://learn.microsoft.com/cli/azure/authenticate-azure-cli-interactively)\n",
    "\n",
    "▶️ Click `Run All` to execute all steps sequentially, or execute them `Step by Step`...\n"
   ]
  },
  {
   "cell_type": "markdown",
   "metadata": {},
   "source": [
    "<a id='0'></a>\n",
    "### 0️⃣ Initialize notebook variables\n",
    "\n",
    "- Resources will be suffixed by a unique string based on your subscription id.\n",
    "- Adjust the location parameters according your preferences and on the [product availability by Azure region.](https://azure.microsoft.com/explore/global-infrastructure/products-by-region/?cdn=disable&products=cognitive-services,api-management) \n",
    "- Adjust the OpenAI model and version according the [availability by region.](https://learn.microsoft.com/azure/ai-services/openai/concepts/models) "
   ]
  },
  {
   "cell_type": "code",
   "execution_count": null,
   "metadata": {
    "metadata": {}
   },
   "outputs": [],
   "source": [
    "import os, sys, json, base64, random, string\n",
    "sys.path.insert(1, '../../shared')  # add the shared directory to the Python path\n",
    "import utils\n",
    "\n",
    "deployment_name = os.path.basename(os.path.dirname(globals()['__vsc_ipynb_file__']))\n",
    "resource_group_name = f\"lab-{deployment_name}\" # change the name to match your naming style\n",
    "resource_group_location = \"uksouth\"\n",
    "\n",
    "aiservices_config = []\n",
    "\n",
    "models_config = []\n",
    "\n",
    "apim_sku = 'Basicv2'\n",
    "apim_subscriptions_config = []\n",
    "\n",
    "inference_api_path = \"inference\"  # path to the inference API in the APIM service\n",
    "inference_api_type = \"AzureOpenAI\"  # options: AzureOpenAI, AzureAI, OpenAI, PassThrough\n",
    "inference_api_version = \"2025-03-01-preview\"\n",
    "foundry_project_name = deployment_name\n",
    "\n",
    "# Generate a unique name for the app registration\n",
    "app_registration_name = f\"lab-{deployment_name}-{''.join(random.choices(string.ascii_letters + string.digits, k=8)).lower()}-app\"\n",
    "\n",
    "build = 0\n",
    "prm_mcp_server_image = \"mcp-prm-server\"\n",
    "prm_mcp_server_src = \"../../shared/mcp-servers/prm-graphapi\"\n",
    "\n",
    "# In this lab we will generate AES keys for encryption and decryption of tokens.\n",
    "# This is an experimental feature and should NOT be used in production!\n",
    "encryption_iv = base64.b64encode(os.urandom(16)).decode('utf-8')\n",
    "encryption_key = base64.b64encode(os.urandom(16)).decode('utf-8')\n",
    "oauth_scopes = 'openid https://graph.microsoft.com/.default'\n",
    "\n",
    "utils.print_ok('Notebook initialized')"
   ]
  },
  {
   "cell_type": "markdown",
   "metadata": {},
   "source": [
    "<a id='1'></a>\n",
    "### 1️⃣ Verify the Azure CLI and the connected Azure subscription\n",
    "\n",
    "The following commands ensure that you have the latest version of the Azure CLI and that the Azure CLI is connected to your Azure subscription."
   ]
  },
  {
   "cell_type": "code",
   "execution_count": null,
   "metadata": {},
   "outputs": [],
   "source": [
    "output = utils.run(\"az account show\", \"Retrieved az account\", \"Failed to get the current az account\")\n",
    "\n",
    "if output.success and output.json_data:\n",
    "    current_user = output.json_data['user']['name']\n",
    "    tenant_id = output.json_data['tenantId']\n",
    "    subscription_id = output.json_data['id']\n",
    "\n",
    "    utils.print_info(f\"Current user: {current_user}\")\n",
    "    utils.print_info(f\"Tenant ID: {tenant_id}\")\n",
    "    utils.print_info(f\"Subscription ID: {subscription_id}\")"
   ]
  },
  {
   "cell_type": "markdown",
   "metadata": {},
   "source": [
    "<a id='3'></a>\n",
    "### 3️⃣ Create deployment using 🦾 Bicep\n",
    "\n",
    "This lab uses [Bicep](https://learn.microsoft.com/azure/azure-resource-manager/bicep/overview?tabs=bicep) to declarative define all the resources that will be deployed in the specified resource group. Change the parameters or the [main.bicep](main.bicep) directly to try different configurations. "
   ]
  },
  {
   "cell_type": "code",
   "execution_count": null,
   "metadata": {},
   "outputs": [],
   "source": [
    "# Create the resource group if doesn't exist\n",
    "utils.create_resource_group(resource_group_name, resource_group_location)\n",
    "\n",
    "# Define the Bicep parameters\n",
    "bicep_parameters = {\n",
    "    \"$schema\": \"https://schema.management.azure.com/schemas/2019-04-01/deploymentParameters.json#\",\n",
    "    \"contentVersion\": \"1.0.0.0\",\n",
    "    \"parameters\": {\n",
    "        \"mcpEntraAppName\": { \"value\": app_registration_name },\n",
    "        \"apimSku\": { \"value\": apim_sku },\n",
    "        \"aiServicesConfig\": { \"value\": aiservices_config },\n",
    "        #\"mcpPrmPath\": { \"value\": mcpPrmPath }, ## Add a path you would like your MCP server to exposed as ##\n",
    "        \"modelsConfig\": { \"value\": models_config },\n",
    "        \"apimSubscriptionsConfig\": { \"value\": apim_subscriptions_config },\n",
    "        \"inferenceAPIPath\": { \"value\": inference_api_path },\n",
    "        \"inferenceAPIType\": { \"value\": inference_api_type },\n",
    "        \"foundryProjectName\": { \"value\": foundry_project_name },\n",
    "        \"oauthScopes\": { \"value\": oauth_scopes },\n",
    "        \"encryptionIV\": { \"value\": encryption_iv },\n",
    "        \"encryptionKey\": { \"value\": encryption_key },\n",
    "    }\n",
    "}\n",
    "\n",
    "# Write the parameters to the params.json file\n",
    "with open('params.json', 'w') as bicep_parameters_file:\n",
    "    bicep_parameters_file.write(json.dumps(bicep_parameters))\n",
    "\n",
    "# Run the deployment\n",
    "output = utils.run(f\"az deployment group create --name {deployment_name} --resource-group {resource_group_name} --template-file main.bicep --parameters params.json\",\n",
    "    f\"Deployment '{deployment_name}' succeeded\", f\"Deployment '{deployment_name}' failed\")"
   ]
  },
  {
   "cell_type": "markdown",
   "metadata": {},
   "source": [
    "<a id='4'></a>\n",
    "### 4️⃣ Get the deployment outputs\n",
    "\n",
    "Retrieve the required outputs from the Bicep deployment."
   ]
  },
  {
   "cell_type": "code",
   "execution_count": null,
   "metadata": {},
   "outputs": [],
   "source": [
    "# Obtain all of the outputs from the deployment\n",
    "output = utils.run(f\"az deployment group show --name {deployment_name} -g {resource_group_name}\", f\"Retrieved deployment: {deployment_name}\", f\"Failed to retrieve deployment: {deployment_name}\")\n",
    "\n",
    "if output.success and output.json_data:\n",
    "    # Monitoring\n",
    "    log_analytics_id = utils.get_deployment_output(output, 'logAnalyticsWorkspaceId', 'Log Analytics Id')\n",
    "    app_insights_name = utils.get_deployment_output(output, 'applicationInsightsName', 'Application Insights Name')\n",
    "    app_insights_app_id = utils.get_deployment_output(output, 'applicationInsightsAppId', 'Application Insights App Id')\n",
    "    \n",
    "    # API Management\n",
    "    apim_resource_name = utils.get_deployment_output(output, 'apimResourceName', 'APIM Resource Name')\n",
    "    apim_service_id = utils.get_deployment_output(output, 'apimServiceId', 'APIM Service Id')\n",
    "    apim_resource_gateway_url = utils.get_deployment_output(output, 'apimResourceGatewayURL', 'APIM API Gateway URL')\n",
    "    \n",
    "    # Container Infrastructure\n",
    "    container_registry_name = utils.get_deployment_output(output, 'containerRegistryName', 'Container Registry Name')\n",
    "    container_registry_login_server = utils.get_deployment_output(output, 'containerRegistryLoginServer', 'Container Registry Login Server')\n",
    "    mcp_server_containerapp_name = utils.get_deployment_output(output, 'mcpServerContainerAppName', 'MCP Server Container App Name')\n",
    "    mcp_server_containerapp_fqdn = utils.get_deployment_output(output, 'mcpServerContainerAppFQDN', 'MCP Server Container App FQDN')\n",
    "    #mcp_server_url = utils.get_deployment_output(output, 'mcpServerURL', 'MCP Server URL')\n",
    "    \n",
    "    # Managed Identity\n",
    "    managed_identity_name = utils.get_deployment_output(output, 'managedIdentityName', 'Managed Identity Name')\n",
    "    managed_identity_client_id = utils.get_deployment_output(output, 'managedIdentityClientId', 'Managed Identity Client Id')\n",
    "    \n",
    "    # MCP Configuration\n",
    "    entra_app_client_id = utils.get_deployment_output(output, 'mcpAppId', 'MCP App Client Id')\n",
    "    entra_tenant_id = utils.get_deployment_output(output, 'mcpAppTenantId', 'Entra Tenant Id')\n",
    "    mcp_api_endpoint = utils.get_deployment_output(output, 'mcpApiEndpoint', 'MCP API Endpoint')\n",
    "    mcp_prm_endpoint = utils.get_deployment_output(output, 'mcpPrmEndpoint', 'MCP PRM Endpoint')\n",
    "    \n",
    "    # Set legacy variable names for compatibility with existing code\n",
    "    weather_containerapp_resource_name = mcp_server_containerapp_name\n"
   ]
  },
  {
   "cell_type": "markdown",
   "metadata": {},
   "source": [
    "<a id='5'></a>\n",
    "### 5️⃣ Build and deploy the MCP Servers\n",
    "\n"
   ]
  },
  {
   "cell_type": "code",
   "execution_count": null,
   "metadata": {},
   "outputs": [],
   "source": [
    "build = build + 1 # increment the build number\n",
    "\n",
    "utils.print_info(f\"To Inspect the build logs, run: az acr task logs --registry {container_registry_name}\")\n",
    "utils.run(f\"az acr build --image {prm_mcp_server_image}:v0.{build} --resource-group {resource_group_name} --registry {container_registry_name} --file {prm_mcp_server_src}/Dockerfile {prm_mcp_server_src}/. --no-logs\", \n",
    "          \"PRM MCP Server image was successfully built\", \"Failed to build the PRM MCP Server image\")\n",
    "utils.run(f'az containerapp update -n {weather_containerapp_resource_name} -g {resource_group_name} --image \"{container_registry_name}.azurecr.io/{prm_mcp_server_image}:v0.{build}\" --set-env-vars AZURE_CLIENT_ID=\"{entra_app_client_id}\" AZURE_TENANT_ID=\"{entra_tenant_id}\" AZURE_MANAGED_IDENTITY_CLIENT_ID=\"{managed_identity_client_id}\"', \n",
    "          \"PRM MCP Server deployment succeeded\", \"PRM MCP Server deployment failed\")\n"
   ]
  },
  {
   "cell_type": "markdown",
   "metadata": {},
   "source": [
    "<a id='unauthorizedtest'></a>\n",
    "### 🧪 Test the authorization **WITHOUT** a valid token"
   ]
  },
  {
   "cell_type": "code",
   "execution_count": null,
   "metadata": {},
   "outputs": [],
   "source": [
    "# Unauthenticated call should fail with 401 Unauthorized\n",
    "import requests\n",
    "\n",
    "mcp_server_url = f\"{apim_resource_gateway_url}/mcp\"\n",
    "utils.print_info(\"Calling sse endpoint WITHOUT authorization...\")\n",
    "utils.print_message(f\"MCP Server Url : {mcp_server_url}\")\n",
    "response = requests.post(mcp_server_url, headers={\"Content-Type\": \"application/json\"})\n",
    "\n",
    "if response.status_code == 401:\n",
    "    utils.print_ok(\"Received 401 Unauthorized as expected\")\n",
    "    utils.print_ok(f\"Response Headers: {response.headers}\")\n",
    "elif response.status_code == 200:\n",
    "    utils.print_error(\"Call succeeded. Double check that validate-jwt policy has been deployed to sse endpoint\")\n",
    "else:\n",
    "    utils.print_error(f\"Unexpected status code: {response.status_code}\")\n",
    "\n"
   ]
  },
  {
   "cell_type": "markdown",
   "metadata": {},
   "source": [
    "<a id='vscode'></a>\n",
    "### 🧪 Use [VS Code Github Copilot](https://github.com/features/copilot) to test the Authorization flow\n",
    "\n",
    "### Execute the following steps\n",
    "1. In VS Code, Press ***Ctrl + Shift + P*** to choose [MCP: Add Server] add the apim endpoint for MCP as HTTP, and give it a name\n",
    "2. Shortly it will ask you automatically to sign in to Microsoft\n",
    "3. After you're signed in with your Entra Account, the MCP server will reveal that it has 1 tool\n",
    "4. Open Github Copilot, make sure you're in ***Agent*** mode, and ask a question such as ***who am i?***\n",
    "5. If all goes well, you should be able to Allow it to use MCP tool to execute the command\n",
    "6. The first time you run the lab, you'll be asked to provide consent and given a URL to open in a browser\n",
    "7. Once successful on the browser, you should be able to ask Github Copilot to ***retry execution*** or ***try again now***\n",
    "8. Voila!!\n"
   ]
  },
  {
   "cell_type": "markdown",
   "metadata": {},
   "source": [
    "<a id='inspector'></a>\n",
    "### 🧪 Use the [MCP Inspector](https://modelcontextprotocol.io/docs/tools/inspector) to test the Authorization flow\n",
    "\n",
    "#### Execute the following steps:\n",
    "1. Execute `npx @modelcontextprotocol/inspector` in a terminal\n",
    "2. Access the provided URL in a browser (it should open automatically).\n",
    "3. Set the transport type as `Streamable HTTP`\n",
    "4. Provide the MCP server URL\n",
    "5. Click in the `Open Auth Settings` button\n",
    "6. Click on `Quick OAuth Flow`\n",
    "7. You’ll see a sign-in screen or an “Application Access Request” screen asking for your consent to use your signed-in account. After reviewing the request, click \"Allow\" to proceed.\n",
    "8. After being redirected back to the MCP Inspector, scroll down to the `Authentication Complete` step. Expand the `Access Tokens` section and copy the `access_token` value.\n",
    "9. Expand the Authentication section on the left and paste the `access_token` into the Bearer Token parameter.\n",
    "10. Click on \"Connect\" and verify that the Weather Tool is functioning properly."
   ]
  },
  {
   "cell_type": "markdown",
   "metadata": {},
   "source": [
    "<a id='clean'></a>\n",
    "### 🗑️ Clean up resources\n",
    "\n",
    "When you're finished with the lab, you should remove all your deployed resources from Azure to avoid extra charges and keep your Azure subscription uncluttered.\n",
    "Use the [clean-up-resources notebook](clean-up-resources.ipynb) for that."
   ]
  }
 ],
 "metadata": {
  "kernelspec": {
   "display_name": "myenv",
   "language": "python",
   "name": "python3"
  },
  "language_info": {
   "codemirror_mode": {
    "name": "ipython",
    "version": 3
   },
   "file_extension": ".py",
   "mimetype": "text/x-python",
   "name": "python",
   "nbconvert_exporter": "python",
   "pygments_lexer": "ipython3",
   "version": "3.13.5"
  }
 },
 "nbformat": 4,
 "nbformat_minor": 2
}
