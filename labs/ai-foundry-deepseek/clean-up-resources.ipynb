{
 "cells": [
  {
   "cell_type": "markdown",
   "metadata": {},
   "source": [
    "### 🗑️ Clean up resources\n",
    "\n",
    "When you're finished with the lab, you should remove all your deployed resources from Azure to avoid extra charges and keep your Azure subscription uncluttered."
   ]
  },
  {
   "cell_type": "code",
   "execution_count": null,
   "metadata": {},
   "outputs": [
    {
     "name": "stdout",
     "output_type": "stream",
     "text": [
      "👉🏽 \u001b[1;34m🧹 Cleaning up resource group 'lab-ai-foundry-deepseek'...\u001b[0m\n",
      "⚙️ \u001b[1;34mRunning: az deployment group show --name ai-foundry-deepseek -g lab-ai-foundry-deepseek -o json \u001b[0m\n",
      "✅ \u001b[1;32mDeployment retrieved\u001b[0m ⌚ 20:51:39.892352 [0m:8s]\n",
      "👉🏽 \u001b[1;34mDeployment provisioning state: Succeeded\u001b[0m\n",
      "⚙️ \u001b[1;34mRunning:  az cognitiveservices account list -g lab-ai-foundry-deepseek \u001b[0m\n",
      "✅ \u001b[1;32mListed CognitiveService accounts\u001b[0m ⌚ 20:51:43.708769 [0m:3s]\n",
      "👉🏽 \u001b[1;34mDeleting and purging Cognitive Service Account 'aiservices-l3wc6jeetjtdi' in resource group 'lab-ai-foundry-deepseek'...\u001b[0m\n",
      "⚙️ \u001b[1;34mRunning: az cognitiveservices account delete -g lab-ai-foundry-deepseek -n aiservices-l3wc6jeetjtdi \u001b[0m\n",
      "✅ \u001b[1;32mCognitive Services 'aiservices-l3wc6jeetjtdi' deleted\u001b[0m ⌚ 20:51:51.665991 [0m:7s]\n",
      "⚙️ \u001b[1;34mRunning: az cognitiveservices account purge -g lab-ai-foundry-deepseek -n aiservices-l3wc6jeetjtdi -l \"eastus2\" \u001b[0m\n",
      "✅ \u001b[1;32mCognitive Services 'aiservices-l3wc6jeetjtdi' purged\u001b[0m ⌚ 20:52:26.009012 [0m:34s]\n",
      "⚙️ \u001b[1;34mRunning:  az apim list -g lab-ai-foundry-deepseek \u001b[0m\n",
      "✅ \u001b[1;32mListed APIM resources\u001b[0m ⌚ 20:52:29.117458 [0m:3s]\n",
      "👉🏽 \u001b[1;34mDeleting and purging API Management 'apim-l3wc6jeetjtdi' in resource group 'lab-ai-foundry-deepseek'...\u001b[0m\n",
      "⚙️ \u001b[1;34mRunning: az apim delete -n apim-l3wc6jeetjtdi -g lab-ai-foundry-deepseek -y \u001b[0m\n",
      "✅ \u001b[1;32mAPI Management 'apim-l3wc6jeetjtdi' deleted\u001b[0m ⌚ 20:53:36.317293 [1m:7s]\n",
      "⚙️ \u001b[1;34mRunning: az apim deletedservice purge --service-name apim-l3wc6jeetjtdi --location \"East US 2\" \u001b[0m\n",
      "✅ \u001b[1;32mAPI Management 'apim-l3wc6jeetjtdi' purged\u001b[0m ⌚ 20:55:06.350488 [1m:30s]\n",
      "⚙️ \u001b[1;34mRunning:  az keyvault list -g lab-ai-foundry-deepseek \u001b[0m\n",
      "✅ \u001b[1;32mListed Key Vault resources\u001b[0m ⌚ 20:55:12.299153 [0m:5s]\n",
      "👉🏽 \u001b[1;34mDeleting and purging Key Vault 'vault-l3wc6jeetjtdi' in resource group 'lab-ai-foundry-deepseek'...\u001b[0m\n",
      "⚙️ \u001b[1;34mRunning: az keyvault delete -n vault-l3wc6jeetjtdi -g lab-ai-foundry-deepseek \u001b[0m\n",
      "✅ \u001b[1;32mKey Vault 'vault-l3wc6jeetjtdi' deleted\u001b[0m ⌚ 20:55:23.430848 [0m:11s]\n",
      "⚙️ \u001b[1;34mRunning: az keyvault purge -n vault-l3wc6jeetjtdi --location \"eastus2\" \u001b[0m\n"
     ]
    }
   ],
   "source": [
    "import os, sys\n",
    "sys.path.insert(1, '../../shared')  # add the shared directory to the Python path\n",
    "import utils\n",
    "\n",
    "deployment_name = os.path.basename(os.path.dirname(globals()['__vsc_ipynb_file__']))\n",
    "utils.cleanup_resources(deployment_name)"
   ]
  }
 ],
 "metadata": {
  "kernelspec": {
   "display_name": "Python 3",
   "language": "python",
   "name": "python3"
  },
  "language_info": {
   "codemirror_mode": {
    "name": "ipython",
    "version": 3
   },
   "file_extension": ".py",
   "mimetype": "text/x-python",
   "name": "python",
   "nbconvert_exporter": "python",
   "pygments_lexer": "ipython3",
   "version": "3.12.9"
  }
 },
 "nbformat": 4,
 "nbformat_minor": 2
}
