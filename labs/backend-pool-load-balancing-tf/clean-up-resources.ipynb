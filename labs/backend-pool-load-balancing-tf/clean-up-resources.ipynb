{
 "cells": [
  {
   "cell_type": "markdown",
   "metadata": {},
   "source": [
    "### 🗑️ Clean up resources\n",
    "\n",
    "When you're finished with the lab, you should remove all your deployed resources from Azure to avoid extra charges and keep your Azure subscription uncluttered."
   ]
  },
  {
   "cell_type": "code",
   "execution_count": null,
   "metadata": {},
   "outputs": [],
   "source": [
    "import os, sys\n",
    "sys.path.insert(1, '../../shared')  # add the shared directory to the Python path\n",
    "import utils\n",
    "\n",
    "output = utils.run(\"az account show\", \"Retrieved az account\", \"Failed to get the current az account\")\n",
    "\n",
    "subscription_id = ''\n",
    "if output.success and output.json_data:\n",
    "    subscription_id = output.json_data['id']\n",
    "\n",
    "# Specify the target subscription for Terraform\n",
    "os.environ['ARM_SUBSCRIPTION_ID'] = subscription_id\n",
    "\n",
    "# Intialize terraform\n",
    "output = utils.run(\n",
    "    f\"terraform destroy -auto-approve\",\n",
    "    f\"Resources deletion succeeded\",\n",
    "    f\"Resources deletion failed\",\n",
    ")"
   ]
  }
 ],
 "metadata": {
  "kernelspec": {
   "display_name": "Python 3",
   "language": "python",
   "name": "python3"
  },
  "language_info": {
   "codemirror_mode": {
    "name": "ipython",
    "version": 3
   },
   "file_extension": ".py",
   "mimetype": "text/x-python",
   "name": "python",
   "nbconvert_exporter": "python",
   "pygments_lexer": "ipython3",
   "version": "3.13.5"
  }
 },
 "nbformat": 4,
 "nbformat_minor": 2
}
