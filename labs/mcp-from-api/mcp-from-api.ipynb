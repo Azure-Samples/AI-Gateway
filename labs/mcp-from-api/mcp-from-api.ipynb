{
 "cells": [
  {
   "cell_type": "markdown",
   "metadata": {},
   "source": [
    "# APIM ❤️ AI Agents\n",
    "\n",
    "## Model Context Protocol (MCP) from REST API lab\n",
    "![flow](../../images/model-context-protocol.gif)\n",
    "\n",
    "Playground to transform an existing REST API to the [Model Context Protocol](https://modelcontextprotocol.io/) with Azure API Management. \n",
    "\n",
    "### Prerequisites\n",
    "\n",
    "- [Python 3.12 or later version](https://www.python.org/) installed\n",
    "- [VS Code](https://code.visualstudio.com/) installed with the [Jupyter notebook extension](https://marketplace.visualstudio.com/items?itemName=ms-toolsai.jupyter) enabled\n",
    "- [Python environment](https://code.visualstudio.com/docs/python/environments#_creating-environments) with the [requirements.txt](../../requirements.txt) or run `pip install -r requirements.txt` in your terminal\n",
    "- [An Azure Subscription](https://azure.microsoft.com/free/) with [Contributor](https://learn.microsoft.com/en-us/azure/role-based-access-control/built-in-roles/privileged#contributor) + [RBAC Administrator](https://learn.microsoft.com/en-us/azure/role-based-access-control/built-in-roles/privileged#role-based-access-control-administrator) or [Owner](https://learn.microsoft.com/en-us/azure/role-based-access-control/built-in-roles/privileged#owner) roles\n",
    "- [Azure CLI](https://learn.microsoft.com/cli/azure/install-azure-cli) installed and [Signed into your Azure subscription](https://learn.microsoft.com/cli/azure/authenticate-azure-cli-interactively)\n",
    "\n",
    "▶️ Click `Run All` to execute all steps sequentially, or execute them `Step by Step`...\n"
   ]
  },
  {
   "cell_type": "markdown",
   "metadata": {},
   "source": [
    "<a id='0'></a>\n",
    "### 0️⃣ Initialize notebook variables\n",
    "\n",
    "- Resources will be suffixed by a unique string based on your subscription id.\n",
    "- Adjust the location parameters according your preferences and on the [product availability by Azure region.](https://azure.microsoft.com/explore/global-infrastructure/products-by-region/?cdn=disable&products=cognitive-services,api-management) \n"
   ]
  },
  {
   "cell_type": "code",
   "execution_count": null,
   "metadata": {
    "metadata": {}
   },
   "outputs": [],
   "source": [
    "import os, sys, json\n",
    "sys.path.insert(1, '../../shared')  # add the shared directory to the Python path\n",
    "import utils\n",
    "\n",
    "subscription_id = utils.get_current_subscription()\n",
    "deployment_name = os.path.basename(os.path.dirname(globals()['__vsc_ipynb_file__']))\n",
    "resource_group_name = f\"lab-{deployment_name}\" # change the name to match your naming style or an existing resource group\n",
    "resource_group_location = \"ukwest\"\n",
    "\n",
    "aiservices_config = [{\"name\": \"foundry1\", \"location\": \"uksouth\"}]\n",
    "\n",
    "models_config = [{\"name\": \"gpt-4.1-mini\", \"publisher\": \"OpenAI\", \"version\": \"2025-04-14\", \"sku\": \"GlobalStandard\", \"capacity\": 20}]\n",
    "\n",
    "apim_sku = 'Basicv2'\n",
    "apim_subscriptions_config = [{\"name\": \"subscription1\", \"displayName\": \"Subscription 1\"}]\n",
    "\n",
    "inference_api_path = \"inference\"  # path to the inference API in the APIM service\n",
    "inference_api_type = \"AzureOpenAI\"  # options: AzureOpenAI, AzureAI, OpenAI, PassThrough\n",
    "inference_api_version = \"2025-03-01-preview\"\n",
    "foundry_project_name = deployment_name\n",
    "\n",
    "apic_location = \"uksouth\"  # location for the API Center service\n",
    "apic_service_name_prefix = 'apic6'\n",
    "\n",
    "utils.print_ok('Notebook initialized')\n"
   ]
  },
  {
   "cell_type": "markdown",
   "metadata": {},
   "source": [
    "<a id='1'></a>\n",
    "### 1️⃣ Create deployment using 🦾 Bicep\n",
    "\n",
    "This lab uses [Bicep](https://learn.microsoft.com/azure/azure-resource-manager/bicep/overview?tabs=bicep) to declarative define all the resources that will be deployed in the specified resource group. Change the parameters or the [main.bicep](main.bicep) directly to try different configurations. "
   ]
  },
  {
   "cell_type": "code",
   "execution_count": null,
   "metadata": {},
   "outputs": [],
   "source": [
    "# Create the resource group if doesn't exist\n",
    "utils.create_resource_group(resource_group_name, resource_group_location)\n",
    "\n",
    "# Define the Bicep parameters\n",
    "bicep_parameters = {\n",
    "    \"$schema\": \"https://schema.management.azure.com/schemas/2019-04-01/deploymentParameters.json#\",\n",
    "    \"contentVersion\": \"1.0.0.0\",\n",
    "    \"parameters\": {\n",
    "        \"apimSku\": { \"value\": apim_sku },\n",
    "        \"aiServicesConfig\": { \"value\": aiservices_config },\n",
    "        \"modelsConfig\": { \"value\": models_config },\n",
    "        \"apimSubscriptionsConfig\": { \"value\": apim_subscriptions_config },\n",
    "        \"inferenceAPIPath\": { \"value\": inference_api_path },\n",
    "        \"inferenceAPIType\": { \"value\": inference_api_type },\n",
    "        \"foundryProjectName\": { \"value\": foundry_project_name },\n",
    "        \"apicLocation\": { \"value\": apic_location },\n",
    "        \"apicServiceNamePrefix\": { \"value\": apic_service_name_prefix },\n",
    "    }\n",
    "}\n",
    "\n",
    "# Write the parameters to the params.json file\n",
    "with open('params.json', 'w') as bicep_parameters_file:\n",
    "    bicep_parameters_file.write(json.dumps(bicep_parameters))\n",
    "\n",
    "# Run the deployment\n",
    "output = utils.run(f\"az deployment group create --name {deployment_name} --resource-group {resource_group_name} --template-file main.bicep --parameters params.json\",\n",
    "    f\"Deployment '{deployment_name}' succeeded\", f\"Deployment '{deployment_name}' failed\")"
   ]
  },
  {
   "cell_type": "markdown",
   "metadata": {},
   "source": [
    "<a id='2'></a>\n",
    "### 2️⃣ Get the deployment outputs\n",
    "\n",
    "Retrieve the required outputs from the Bicep deployment."
   ]
  },
  {
   "cell_type": "code",
   "execution_count": null,
   "metadata": {},
   "outputs": [],
   "source": [
    "# Obtain all of the outputs from the deployment\n",
    "output = utils.run(f\"az deployment group show --name {deployment_name} -g {resource_group_name}\", f\"Retrieved deployment: {deployment_name}\", f\"Failed to retrieve deployment: {deployment_name}\")\n",
    "\n",
    "if output.success and output.json_data:\n",
    "    log_analytics_id = utils.get_deployment_output(output, 'logAnalyticsWorkspaceId', 'Log Analytics Id')\n",
    "    apim_service_id = utils.get_deployment_output(output, 'apimServiceId', 'APIM Service Id')\n",
    "    apim_resource_gateway_url = utils.get_deployment_output(output, 'apimResourceGatewayURL', 'APIM API Gateway URL')\n",
    "    apim_subscriptions = json.loads(utils.get_deployment_output(output, 'apimSubscriptions').replace(\"\\'\", \"\\\"\"))\n",
    "    for subscription in apim_subscriptions:\n",
    "        subscription_name = subscription['name']\n",
    "        subscription_key = subscription['key']\n",
    "        utils.print_info(f\"Subscription Name: {subscription_name}\")\n",
    "        utils.print_info(f\"Subscription Key: ****{subscription_key[-4:]}\")\n",
    "    api_key = apim_subscriptions[0].get(\"key\") # default api key to the first subscription key\n",
    "    foundry_project_endpoint = utils.get_deployment_output(output, 'foundryProjectEndpoint', 'Foundry Project Endpoint')\n"
   ]
  },
  {
   "cell_type": "markdown",
   "metadata": {},
   "source": [
    "<a id='testconnection'></a>\n",
    "### 🧪 Test the connection to the MCP servers and List Tools\n",
    "\n"
   ]
  },
  {
   "cell_type": "code",
   "execution_count": null,
   "metadata": {},
   "outputs": [],
   "source": [
    "import nest_asyncio\n",
    "import asyncio\n",
    "nest_asyncio.apply()\n",
    "\n",
    "from mcp import ClientSession\n",
    "from mcp.client.streamable_http import streamablehttp_client\n",
    "\n",
    "\n",
    "async def list_tools(server_url):\n",
    "    # Connect to a streamable HTTP server\n",
    "    async with streamablehttp_client(server_url) as (\n",
    "        read_stream,\n",
    "        write_stream,\n",
    "        _,\n",
    "    ):\n",
    "        # Create a session using the client streams\n",
    "        async with ClientSession(read_stream, write_stream) as session:\n",
    "            # Initialize the connection\n",
    "            await session.initialize()\n",
    "            # List available tools\n",
    "            tools = await session.list_tools()\n",
    "            print(f\"Available tools for {server_url}: {[tool.name for tool in tools.tools]}\")\n",
    "            \n",
    "\n",
    "if __name__ == \"__main__\":\n",
    "    asyncio.run(list_tools(f\"{apim_resource_gateway_url}/weather-mcp/mcp\"))\n",
    "    asyncio.run(list_tools(f\"{apim_resource_gateway_url}/ms-learn-mcp\"))\n",
    "\n"
   ]
  },
  {
   "cell_type": "markdown",
   "metadata": {},
   "source": [
    "<a id='inspector'></a>\n",
    "### 🧪 (optional) Use the [MCP Inspector](https://modelcontextprotocol.io/docs/tools/inspector) for testing and debugging the MCP servers\n",
    "\n",
    "#### Execute the following steps:\n",
    "1. Execute `npx @modelcontextprotocol/inspector` in a terminal\n",
    "2. Open the provided URL in a browser\n",
    "3. Set the transport type as streamable http\n",
    "4. Provide the MCP server url and click connect\n",
    "5. Select the \"Tools\" tab to see and run the available tools"
   ]
  },
  {
   "cell_type": "markdown",
   "metadata": {},
   "source": [
    "<a id='openaiagent'></a>\n",
    "### 🧪 Run an OpenAI Agent with MCP tools\n",
    "\n"
   ]
  },
  {
   "cell_type": "code",
   "execution_count": null,
   "metadata": {},
   "outputs": [],
   "source": [
    "import asyncio\n",
    "\n",
    "from openai import AsyncAzureOpenAI\n",
    "from agents import Agent, Runner, set_default_openai_client\n",
    "from agents.mcp import MCPServerStreamableHttp\n",
    "from agents.model_settings import ModelSettings\n",
    "\n",
    "\n",
    "async def run_agent(server_url: str):\n",
    "    client = AsyncAzureOpenAI(azure_endpoint=f\"{apim_resource_gateway_url}/{inference_api_path}\",\n",
    "                                api_key=api_key,\n",
    "                                api_version=inference_api_version)\n",
    "    set_default_openai_client(client)\n",
    "\n",
    "    async with MCPServerStreamableHttp(\n",
    "        name=\"Streamable HTTP Weather Server\",\n",
    "        params={\n",
    "            \"url\": server_url,\n",
    "            \"headers\": {\n",
    "                \"agent-id\": \"OpenAIAgent\"\n",
    "            }            \n",
    "        },\n",
    "    ) as server:\n",
    "        extra_headers = {\"agent-id\": \"OpenAIAgent\"}\n",
    "        agent = Agent(\n",
    "            name=\"Assistant\",\n",
    "            instructions=\"Use the tools to answer the questions.\",\n",
    "            mcp_servers=[server],\n",
    "            model_settings=ModelSettings(tool_choice=\"required\", extra_headers=extra_headers),\n",
    "            model=models_config[0]['name']            \n",
    "        )\n",
    "\n",
    "        # Run the `get_weather` tool\n",
    "        message = \"What's the weather in Lisbon?\"\n",
    "        print(f\"Running: {message}\")\n",
    "        result = await Runner.run(starting_agent=agent, input=message)\n",
    "        print(result.final_output)\n",
    "\n",
    "if __name__ == \"__main__\":\n",
    "    asyncio.run(run_agent(f\"{apim_resource_gateway_url}/weather-mcp/mcp\"))\n",
    "\n"
   ]
  },
  {
   "cell_type": "markdown",
   "metadata": {},
   "source": [
    "<a id='Azure AI Agents'></a>\n",
    "### 🧪 Execute an [Azure AI Foundry Agent using MCP Tools](https://learn.microsoft.com/en-us/azure/ai-foundry/agents/how-to/tools/model-context-protocol) via Azure API Management"
   ]
  },
  {
   "cell_type": "code",
   "execution_count": null,
   "metadata": {},
   "outputs": [],
   "source": [
    "# Copyright (c) Microsoft. All rights reserved.\n",
    "\n",
    "import asyncio\n",
    "\n",
    "from azure.ai.agents.models import McpTool\n",
    "from azure.identity.aio import DefaultAzureCredential\n",
    "\n",
    "from semantic_kernel.agents import AzureAIAgent, AzureAIAgentSettings, AzureAIAgentThread\n",
    "from semantic_kernel.contents import ChatMessageContent, FunctionCallContent, FunctionResultContent\n",
    "\n",
    "TASK = \"What's the current weather in Lisbon?\"\n",
    "\n",
    "async def handle_intermediate_messages(message: ChatMessageContent) -> None:\n",
    "    for item in message.items or []:\n",
    "        if isinstance(item, FunctionResultContent):\n",
    "            print(f\"Function Result:> {item.result} for function: {item.name}\")\n",
    "        elif isinstance(item, FunctionCallContent):\n",
    "            print(f\"Function Call:> {item.name} with arguments: {item.arguments}\")\n",
    "        else:\n",
    "            print(f\"{item}\")\n",
    "\n",
    "\n",
    "async def main() -> None:\n",
    "    async with (\n",
    "        DefaultAzureCredential() as creds,\n",
    "        AzureAIAgent.create_client(credential=creds) as client,\n",
    "    ):\n",
    "        # 1. Define the MCP tool with the server URL\n",
    "        mcp_tool = McpTool(\n",
    "            server_label=\"weather\",\n",
    "            server_url=f\"{apim_resource_gateway_url}/weather-mcp/mcp\",\n",
    "            allowed_tools=[],  # Specify allowed tools if needed\n",
    "        )\n",
    "\n",
    "        # Optionally you may configure to require approval\n",
    "        # Allowed values are \"never\" or \"always\"\n",
    "        mcp_tool.set_approval_mode(\"never\")\n",
    "\n",
    "        agent_settings = AzureAIAgentSettings(\n",
    "            model_deployment_name=models_config[0]['name']\n",
    "        )\n",
    "\n",
    "        # 2. Create an agent with the MCP tool on the Azure AI agent service\n",
    "        agent_definition = await client.agents.create_agent(\n",
    "            model=agent_settings.model_deployment_name,\n",
    "            tools=mcp_tool.definitions,\n",
    "            instructions=\"You are a helpful agent that can use MCP tools to assist users.\",\n",
    "        )\n",
    "\n",
    "        # 3. Create a Semantic Kernel agent for the Azure AI agent\n",
    "        agent = AzureAIAgent(\n",
    "            client=client,\n",
    "            definition=agent_definition,\n",
    "        )\n",
    "\n",
    "        # 4. Create a thread for the agent\n",
    "        # If no thread is provided, a new thread will be\n",
    "        # created and returned with the initial response\n",
    "        thread: AzureAIAgentThread | None = None\n",
    "\n",
    "        print(f\"# User: '{TASK}'\")\n",
    "        # 5. Invoke the agent for the specified thread for response\n",
    "        async for response in agent.invoke(\n",
    "            messages=TASK, thread=thread, on_intermediate_message=handle_intermediate_messages\n",
    "        ):\n",
    "            print(f\"# Agent: {response}\")\n",
    "\n",
    "\n",
    "\n",
    "if __name__ == \"__main__\":\n",
    "    asyncio.run(main())"
   ]
  },
  {
   "cell_type": "markdown",
   "metadata": {},
   "source": [
    "<a id='testratelimit'></a>\n",
    "### 🧪 Test the rate limit on Microsoft Learn MCP pass-through\n",
    "\n",
    "Check the [policy](src/ms-learn/mcp-server/policy.xml)"
   ]
  },
  {
   "cell_type": "code",
   "execution_count": null,
   "metadata": {},
   "outputs": [],
   "source": [
    "# Unauthenticated call should fail with 401 Unauthorized\n",
    "import requests\n",
    "\n",
    "# apim_debug_authorization = utils.get_debug_credentials(apim_service_id, 'ms-learn-mcp')\n",
    "\n",
    "request = {\"method\":\"tools/call\",\"params\":{\"name\":\"microsoft_docs_search\",\"arguments\":{\"query\":\"Microsoft/Azure API Management\",\"question\":\"how to configure the rate limit\"}},\"jsonrpc\":\"2.0\",\"id\":1}\n",
    "\n",
    "for i in range(1):  \n",
    "    response = requests.post(f\"{apim_resource_gateway_url}/ms-learn-mcp\", stream=True, headers={\"Content-Type\": \"application/json\", \"agent-id\": \"Agent1\", \n",
    "                                                                                                 # 'Apim-Debug-Authorization': apim_debug_authorization\n",
    "                                                                                                 }, json=request)\n",
    "    if response.status_code == 200:\n",
    "        utils.print_ok(f\"Run {i+1}. Received status code 200 as expected\")\n",
    "    else:\n",
    "        utils.print_error(f\"Run {i+1}. Unexpected status code: {response.status_code}. Response text: {response.text}\")\n",
    "\n",
    "    # print(json.dumps(utils.get_trace(apim_service_id, response.headers.get(\"Apim-Trace-Id\")), indent=4)) \n",
    "\n",
    "    response.close()\n"
   ]
  },
  {
   "cell_type": "markdown",
   "metadata": {},
   "source": [
    "<a id='unauthorizedtest'></a>\n",
    "### 🧪 Test the Product Catalog MCP Authorization **WITHOUT** a valid token\n",
    "\n",
    "Check the [policy](src/product-catalog/mcp-server/policy.xml)"
   ]
  },
  {
   "cell_type": "code",
   "execution_count": null,
   "metadata": {},
   "outputs": [],
   "source": [
    "# Unauthenticated call should fail with 401 Unauthorized\n",
    "import requests\n",
    "utils.print_info(\"Calling sse endpoint WITHOUT authorization...\")\n",
    "request = {\"method\":\"tools/call\",\"params\":{\"name\":\"get-product-details\",\"arguments\":{\"category\":\"electronics\"}},\"jsonrpc\":\"2.0\",\"id\":1}\n",
    "response = requests.post(f\"{apim_resource_gateway_url}/catalog-mcp/mcp\", stream=True, headers={\"Content-Type\": \"application/json\"}, json=request)\n",
    "if response.status_code == 401:\n",
    "    utils.print_ok(\"Received 401 Unauthorized as expected\")\n",
    "elif response.status_code == 200:\n",
    "    utils.print_error(\"Call succeeded. Double check that validate-jwt policy has been deployed to sse endpoint\")\n",
    "else:\n",
    "    utils.print_error(f\"Unexpected status code: {response.status_code}\")\n",
    "response.close()\n"
   ]
  },
  {
   "cell_type": "markdown",
   "metadata": {},
   "source": [
    "<a id='authorizedtest'></a>\n",
    "### 🧪 Test the Product Catalog MCP authorization **WITH** a valid token\n",
    "\n",
    "Check the [policy](src/product-catalog/mcp-server/policy.xml)"
   ]
  },
  {
   "cell_type": "code",
   "execution_count": null,
   "metadata": {},
   "outputs": [],
   "source": [
    "# authorized call should succeed and display the response\n",
    "import requests, json\n",
    "request = {\"method\":\"tools/call\",\"params\":{\"name\":\"get-product-details\",\"arguments\":{\"category\":\"electronics\"}},\"jsonrpc\":\"2.0\",\"id\":1}\n",
    "\n",
    "utils.print_info(\"Calling MCP endpoint WITH authorization...\")\n",
    "output = utils.run(\"az account get-access-token --resource \\\"https://azure-api.net/authorization-manager\\\"\")\n",
    "if output.success and output.json_data:\n",
    "    access_token = output.json_data['accessToken']\n",
    "    response = requests.post(f\"{apim_resource_gateway_url}/catalog-mcp/mcp\", stream=True, headers={\"Content-Type\": \"application/json\", \"agent-id\": \"Agent1\", \"Authorization\": \"Bearer \" + str(access_token)}, json=request)\n",
    "    if response.status_code == 200:\n",
    "        utils.print_ok(\"Received status code 200 as expected\")\n",
    "\n",
    "        print(\"Response:\")\n",
    "        for line in response.iter_lines(decode_unicode=True):\n",
    "            if line:\n",
    "                if (line == 'event: close'):\n",
    "                    response.close()\n",
    "                    break\n",
    "                if (line.startswith('data')):\n",
    "                    data = json.loads(line.strip()[5:])\n",
    "                    print(json.dumps(json.loads(data[\"result\"][\"content\"][0][\"text\"]), indent=4))\n",
    "    else:\n",
    "        utils.print_error(f\"Unexpected status code: {response.status_code}. Response text: {response.text}\")\n",
    "\n",
    "\n"
   ]
  },
  {
   "cell_type": "markdown",
   "metadata": {},
   "source": [
    "<a id='authorizedtest'></a>\n",
    "### 🧪 Test the Place Order MCP authorization **WITH** a valid token\n",
    "\n",
    "Check the [policy](src/place-order/mcp-server/policy.xml)"
   ]
  },
  {
   "cell_type": "code",
   "execution_count": null,
   "metadata": {},
   "outputs": [],
   "source": [
    "import requests\n",
    "\n",
    "request = {\"method\":\"tools/call\",\"params\":{\"name\":\"PlaceOrder-invoke\",\"arguments\":{\"request-PlaceOrder\":{\"sku\":\"sku-123\",\"quantity\":5}}},\"jsonrpc\":\"2.0\",\"id\":1}\n",
    "\n",
    "utils.print_info(\"Calling MCP endpoint WITH authorization...\")\n",
    "output = utils.run(\"az account get-access-token --resource \\\"https://azure-api.net/authorization-manager\\\"\")\n",
    "if output.success and output.json_data:\n",
    "    access_token = output.json_data['accessToken']\n",
    "    response = requests.post(f\"{apim_resource_gateway_url}/order-mcp/mcp\", stream=True, headers={\"Content-Type\": \"application/json\", \"agent-id\": \"Agent1\", \"Authorization\": \"Bearer \" + str(access_token)}, json=request)\n",
    "    if response.status_code == 200:\n",
    "        utils.print_ok(\"Received status code 200 as expected\")\n",
    "\n",
    "        print(\"Response:\")\n",
    "        for line in response.iter_lines(decode_unicode=True):\n",
    "            if line:\n",
    "                if (line == 'event: close'):\n",
    "                    response.close()\n",
    "                    break\n",
    "                if (line.startswith('data')):\n",
    "                    data = json.loads(line.strip()[5:])\n",
    "                    print(json.dumps(json.loads(data[\"result\"][\"content\"][0][\"text\"]), indent=4))\n",
    "    else:\n",
    "        utils.print_error(f\"Unexpected status code: {response.status_code}. Response text: {response.text}\")\n"
   ]
  },
  {
   "cell_type": "markdown",
   "metadata": {},
   "source": [
    "<a id='clean'></a>\n",
    "### 🗑️ Clean up resources\n",
    "\n",
    "When you're finished with the lab, you should remove all your deployed resources from Azure to avoid extra charges and keep your Azure subscription uncluttered.\n",
    "Use the [clean-up-resources notebook](clean-up-resources.ipynb) for that."
   ]
  }
 ],
 "metadata": {
  "kernelspec": {
   "display_name": ".venv",
   "language": "python",
   "name": "python3"
  },
  "language_info": {
   "codemirror_mode": {
    "name": "ipython",
    "version": 3
   },
   "file_extension": ".py",
   "mimetype": "text/x-python",
   "name": "python",
   "nbconvert_exporter": "python",
   "pygments_lexer": "ipython3",
   "version": "3.12.10"
  }
 },
 "nbformat": 4,
 "nbformat_minor": 2
}
