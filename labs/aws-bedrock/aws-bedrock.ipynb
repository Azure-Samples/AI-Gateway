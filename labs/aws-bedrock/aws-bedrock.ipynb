{
 "cells": [
  {
   "cell_type": "markdown",
   "metadata": {},
   "source": [
    "# APIM ❤️ all the Models\n",
    "\n",
    "## AWS Bedrock lab\n",
    "![flow](../../images/aws-bedrock.gif)\n",
    "\n",
    "Playground to try the [AWS Bedrock models](https://learn.microsoft.com/en-us/azure/api-management/amazon-bedrock-passthrough-llm-api) with the AI Gateway. Consumed tokens, prompts and completions are logged automatically into Azure Monitor.\n",
    "\n",
    "### Prerequisites\n",
    "\n",
    "- [Python 3.12 or later version](https://www.python.org/) installed\n",
    "- [VS Code](https://code.visualstudio.com/) installed with the [Jupyter notebook extension](https://marketplace.visualstudio.com/items?itemName=ms-toolsai.jupyter) enabled\n",
    "- [Python environment](https://code.visualstudio.com/docs/python/environments#_creating-environments) with the [requirements.txt](../../requirements.txt) or run `pip install -r requirements.txt` in your terminal\n",
    "- [An Azure Subscription](https://azure.microsoft.com/free/) with [Contributor](https://learn.microsoft.com/en-us/azure/role-based-access-control/built-in-roles/privileged#contributor) + [RBAC Administrator](https://learn.microsoft.com/en-us/azure/role-based-access-control/built-in-roles/privileged#role-based-access-control-administrator) or [Owner](https://learn.microsoft.com/en-us/azure/role-based-access-control/built-in-roles/privileged#owner) roles\n",
    "- [Azure CLI](https://learn.microsoft.com/cli/azure/install-azure-cli) installed and [Signed into your Azure subscription](https://learn.microsoft.com/cli/azure/authenticate-azure-cli-interactively)\n",
    "\n",
    "#### Create AWS Access Keys\n",
    "1. Navigate to AWS IAM Console\n",
    "2. Go to Users → Your Username → Security Credentials\n",
    "3. Create Access Key\n",
    "4. Copy both Access Key ID and Secret Access Key to the variables bellow\n",
    "5. Adjust the region, model id and ensure that access is granted\n",
    "\n",
    "▶️ Click `Run All` to execute all steps sequentially, or execute them `Step by Step`... \n"
   ]
  },
  {
   "cell_type": "markdown",
   "metadata": {},
   "source": [
    "<a id='0'></a>\n",
    "### 0️⃣ Initialize notebook variables\n",
    "\n",
    "- Resources will be suffixed by a unique string based on your subscription id.\n",
    "- Adjust the location parameters according your preferences and on the [product availability by Azure region.](https://azure.microsoft.com/explore/global-infrastructure/products-by-region/?cdn=disable&products=cognitive-services,api-management) \n",
    "- Adjust the models and versions according the [availability by region.](https://learn.microsoft.com/azure/ai-services/openai/concepts/models) "
   ]
  },
  {
   "cell_type": "code",
   "execution_count": null,
   "metadata": {
    "metadata": {}
   },
   "outputs": [],
   "source": [
    "import os, sys, json\n",
    "sys.path.insert(1, '../../shared')  # add the shared directory to the Python path\n",
    "import utils\n",
    "\n",
    "deployment_name = os.path.basename(os.path.dirname(globals()['__vsc_ipynb_file__']))\n",
    "resource_group_name = f\"lab-{deployment_name}\" # change the name to match your naming style\n",
    "resource_group_location = \"westeurope\"\n",
    "\n",
    "apim_sku = 'Basicv2'\n",
    "apim_subscriptions_config = [{\"name\": \"subscription1\", \"displayName\": \"Subscription 1\"}]\n",
    "\n",
    "inference_api_path = \"inference\"  # path to the inference API in the APIM service\n",
    "inference_api_version = \"2025-03-01-preview\"\n",
    "\n",
    "aws_bedrock_access_key = '' # this value will be stored as APIM secure named value. In production consider using Key Vault\n",
    "aws_bedrock_secret_key = '' # this value will be stored as APIM secure named value. In production consider using Key Vault\n",
    "aws_bedrock_model_id = 'us.anthropic.claude-3-5-haiku-20241022-v1:0' # change to your inference profile\n",
    "aws_bedrock_region = 'us-east-1' # change to the region where the model is being used\n",
    "aws_bedrock_service_url = f'https://bedrock-runtime.{aws_bedrock_region}.amazonaws.com'\n",
    "aws_bedrock_service_name = 'bedrock-runtime'\n",
    "\n",
    "utils.print_ok('Notebook initialized')"
   ]
  },
  {
   "cell_type": "markdown",
   "metadata": {},
   "source": [
    "<a id='1'></a>\n",
    "### 1️⃣ Verify the Azure CLI and the connected Azure subscription\n",
    "\n",
    "The following commands ensure that you have the latest version of the Azure CLI and that the Azure CLI is connected to your Azure subscription."
   ]
  },
  {
   "cell_type": "code",
   "execution_count": null,
   "metadata": {},
   "outputs": [],
   "source": [
    "output = utils.run(\"az account show\", \"Retrieved az account\", \"Failed to get the current az account\")\n",
    "\n",
    "if output.success and output.json_data:\n",
    "    current_user = output.json_data['user']['name']\n",
    "    tenant_id = output.json_data['tenantId']\n",
    "    subscription_id = output.json_data['id']\n",
    "\n",
    "    utils.print_info(f\"Current user: {current_user}\")\n",
    "    utils.print_info(f\"Tenant ID: {tenant_id}\")\n",
    "    utils.print_info(f\"Subscription ID: {subscription_id}\")"
   ]
  },
  {
   "cell_type": "markdown",
   "metadata": {},
   "source": [
    "<a id='2'></a>\n",
    "### 2️⃣ Create deployment using 🦾 Bicep\n",
    "\n",
    "This lab uses [Bicep](https://learn.microsoft.com/azure/azure-resource-manager/bicep/overview?tabs=bicep) to declarative define all the resources that will be deployed in the specified resource group. Change the parameters or the [main.bicep](main.bicep) directly to try different configurations. "
   ]
  },
  {
   "cell_type": "code",
   "execution_count": null,
   "metadata": {},
   "outputs": [],
   "source": [
    "# Create the resource group if doesn't exist\n",
    "utils.create_resource_group(resource_group_name, resource_group_location)\n",
    "\n",
    "# Define the Bicep parameters\n",
    "bicep_parameters = {\n",
    "    \"$schema\": \"https://schema.management.azure.com/schemas/2019-04-01/deploymentParameters.json#\",\n",
    "    \"contentVersion\": \"1.0.0.0\",\n",
    "    \"parameters\": {\n",
    "        \"apimSku\": { \"value\": apim_sku },\n",
    "        \"apimSubscriptionsConfig\": { \"value\": apim_subscriptions_config },\n",
    "        \"inferenceAPIPath\": { \"value\": inference_api_path },\n",
    "        \"awsBedrockAccessKey\": { \"value\": aws_bedrock_access_key },\n",
    "        \"awsBedrockSecretKey\": { \"value\": aws_bedrock_secret_key },\n",
    "        \"awsBedrockServiceURL\": { \"value\": aws_bedrock_service_url }\n",
    "    }\n",
    "}\n",
    "\n",
    "# Write the parameters to the params.json file\n",
    "with open('params.json', 'w') as bicep_parameters_file:\n",
    "    bicep_parameters_file.write(json.dumps(bicep_parameters))\n",
    "\n",
    "# Run the deployment\n",
    "output = utils.run(f\"az deployment group create --name {deployment_name} --resource-group {resource_group_name} --template-file main.bicep --parameters params.json\",\n",
    "    f\"Deployment '{deployment_name}' succeeded\", f\"Deployment '{deployment_name}' failed\")"
   ]
  },
  {
   "cell_type": "markdown",
   "metadata": {},
   "source": [
    "<a id='3'></a>\n",
    "### 3️⃣ Get the deployment outputs\n",
    "\n",
    "We are now at the stage where we only need to retrieve the gateway URL and the subscription before we are ready for testing."
   ]
  },
  {
   "cell_type": "code",
   "execution_count": null,
   "metadata": {},
   "outputs": [],
   "source": [
    "# Obtain all of the outputs from the deployment\n",
    "output = utils.run(f\"az deployment group show --name {deployment_name} -g {resource_group_name}\", f\"Retrieved deployment: {deployment_name}\", f\"Failed to retrieve deployment: {deployment_name}\")\n",
    "\n",
    "if output.success and output.json_data:\n",
    "    log_analytics_id = utils.get_deployment_output(output, 'logAnalyticsWorkspaceId', 'Log Analytics Id')\n",
    "    apim_service_id = utils.get_deployment_output(output, 'apimServiceId', 'APIM Service Id')\n",
    "    apim_resource_gateway_url = utils.get_deployment_output(output, 'apimResourceGatewayURL', 'APIM API Gateway URL')\n",
    "    apim_subscriptions = json.loads(utils.get_deployment_output(output, 'apimSubscriptions').replace(\"\\'\", \"\\\"\"))\n",
    "    for subscription in apim_subscriptions:\n",
    "        subscription_name = subscription['name']\n",
    "        subscription_key = subscription['key']\n",
    "        utils.print_info(f\"Subscription Name: {subscription_name}\")\n",
    "        utils.print_info(f\"Subscription Key: ****{subscription_key[-4:]}\")\n",
    "    api_key = apim_subscriptions[0].get(\"key\") # default api key to the first subscription key"
   ]
  },
  {
   "cell_type": "markdown",
   "metadata": {},
   "source": [
    "<a id='requests'></a>\n",
    "### 🧪 Test the inference API\n",
    "\n",
    "Note: Install the boto3 library before running this step."
   ]
  },
  {
   "cell_type": "code",
   "execution_count": null,
   "metadata": {},
   "outputs": [],
   "source": [
    "import boto3\n",
    "import logging\n",
    "\n",
    "# Enable botocore debug logging to trace HTTP calls\n",
    "# logging.basicConfig()\n",
    "# logging.getLogger('botocore').setLevel(logging.DEBUG)\n",
    "# logging.getLogger('boto3').setLevel(logging.DEBUG)\n",
    "\n",
    "session = boto3.Session()\n",
    "bedrock = session.client(\n",
    "    region_name=aws_bedrock_region,\n",
    "    service_name=aws_bedrock_service_name,\n",
    "    endpoint_url=f\"{apim_resource_gateway_url}/{inference_api_path}\",\n",
    "    aws_access_key_id='',  # Leave empty as APIM will set the values\n",
    "    aws_secret_access_key='', # Leave empty as APIM will set the values\n",
    ")\n",
    "\n",
    "# Register event handler to add custom headers\n",
    "event_system = bedrock.meta.events\n",
    "def add_custom_header(params, **kwargs):\n",
    "    params[\"headers\"]['api-key'] = api_key\n",
    "event_system.register(f'before-call.{aws_bedrock_service_name}.Converse', add_custom_header)\n",
    "\n",
    "system_message = {\n",
    "    \"role\": \"assistant\",\n",
    "    \"content\": [\n",
    "        { \"text\": \"You are a sarcastic, unhelpful assistant.\" } \n",
    "    ],\n",
    "}\n",
    "user_message = {\n",
    "    \"role\": \"user\",\n",
    "    \"content\": [\n",
    "        { \"text\": \"Can you tell me the time, please?\" } \n",
    "    ],\n",
    "}\n",
    "response = bedrock.converse(\n",
    "    modelId=aws_bedrock_model_id,\n",
    "    messages=[system_message, user_message],\n",
    "    inferenceConfig={\n",
    "        \"maxTokens\": 2000,\n",
    "        \"temperature\": 0\n",
    "    },\n",
    ")\n",
    "\n",
    "print(\"💵 Total Tokens: \", response['usage']['totalTokens'])\n",
    "print(\"💬 Response: \", response['output']['message']['content'][0]['text'])\n"
   ]
  },
  {
   "cell_type": "markdown",
   "metadata": {},
   "source": [
    "<a id='sdk'></a>\n",
    "### 🧪 Test with streaming\n",
    "With a streaming API call, the response is sent back incrementally in chunks via an [event stream](https://developer.mozilla.org/docs/Web/API/Server-sent_events/Using_server-sent_events#event_stream_format). In Python, you can iterate over these events with a for loop."
   ]
  },
  {
   "cell_type": "code",
   "execution_count": null,
   "metadata": {},
   "outputs": [],
   "source": [
    "import boto3, time\n",
    "\n",
    "session = boto3.Session()\n",
    "bedrock = session.client(\n",
    "    region_name=aws_bedrock_region,\n",
    "    service_name=aws_bedrock_service_name,\n",
    "    endpoint_url=f\"{apim_resource_gateway_url}/{inference_api_path}\",\n",
    "    aws_access_key_id='',  # Leave empty as APIM will set the values\n",
    "    aws_secret_access_key='', # Leave empty as APIM will set the values\n",
    ")\n",
    "\n",
    "# Register event handler to add custom headers\n",
    "event_system = bedrock.meta.events\n",
    "def add_custom_header(params, **kwargs):\n",
    "    params[\"headers\"]['api-key'] = api_key\n",
    "event_system.register(f'before-call.{aws_bedrock_service_name}.ConverseStream', add_custom_header)\n",
    "\n",
    "message = {\n",
    "    \"role\": \"user\",\n",
    "    \"content\": [\n",
    "        { \"text\": \"Count to 100, with a comma between each number and no newlines. E.g., 1, 2, 3, ...\" } \n",
    "    ],\n",
    "}\n",
    "\n",
    "response = bedrock.converse_stream(\n",
    "    modelId=aws_bedrock_model_id,\n",
    "    messages=[message],\n",
    "    inferenceConfig={\n",
    "        \"maxTokens\": 2000,\n",
    "        \"temperature\": 0.0\n",
    "    }\n",
    ")\n",
    "\n",
    "stream = response.get('stream')\n",
    "start_time = time.time()\n",
    "for event in stream:\n",
    "    if \"contentBlockDelta\" in event:\n",
    "        chunk_time = time.time() - start_time  # calculate the time delay of the chunk\n",
    "        chunk_message = event['contentBlockDelta']['delta']['text']\n",
    "        print(f\"Message received {chunk_time:.2f} seconds after request: {chunk_message}\")  # print the delay and text\n",
    "\n",
    "\n"
   ]
  },
  {
   "cell_type": "markdown",
   "metadata": {},
   "source": [
    "<a id='kql'></a>\n",
    "### 🔍 Display model usage\n"
   ]
  },
  {
   "cell_type": "code",
   "execution_count": null,
   "metadata": {
    "metadata": {}
   },
   "outputs": [],
   "source": [
    "import pandas as pd\n",
    "\n",
    "query = \"model_usage\"\n",
    "\n",
    "output = utils.run(f\"az monitor log-analytics query -w {log_analytics_id} --analytics-query \\\"{query}\\\"\", \"Retrieved log analytics query output\", \"Failed to retrieve log analytics query output\") \n",
    "if output.success and output.json_data:\n",
    "    table = output.json_data\n",
    "    display(pd.DataFrame(table))\n"
   ]
  },
  {
   "cell_type": "markdown",
   "metadata": {},
   "source": [
    "<a id='kql2'></a>\n",
    "### 🔍 Display prompts and completions\n"
   ]
  },
  {
   "cell_type": "code",
   "execution_count": null,
   "metadata": {},
   "outputs": [],
   "source": [
    "import pandas as pd\n",
    "\n",
    "query = \"prompts_and_completions\"\n",
    "\n",
    "output = utils.run(f\"az monitor log-analytics query -w {log_analytics_id} --analytics-query \\\"{query}\\\"\", \"Retrieved log analytics query output\", \"Failed to retrieve log analytics query output\") \n",
    "if output.success and output.json_data:\n",
    "    table = output.json_data\n",
    "    display(pd.DataFrame(table))\n"
   ]
  },
  {
   "cell_type": "markdown",
   "metadata": {},
   "source": [
    "<a id='clean'></a>\n",
    "### 🗑️ Clean up resources\n",
    "\n",
    "When you're finished with the lab, you should remove all your deployed resources from Azure to avoid extra charges and keep your Azure subscription uncluttered.\n",
    "Use the [clean-up-resources notebook](clean-up-resources.ipynb) for that."
   ]
  }
 ],
 "metadata": {
  "kernelspec": {
   "display_name": ".venv",
   "language": "python",
   "name": "python3"
  },
  "language_info": {
   "codemirror_mode": {
    "name": "ipython",
    "version": 3
   },
   "file_extension": ".py",
   "mimetype": "text/x-python",
   "name": "python",
   "nbconvert_exporter": "python",
   "pygments_lexer": "ipython3",
   "version": "3.12.10"
  }
 },
 "nbformat": 4,
 "nbformat_minor": 2
}
