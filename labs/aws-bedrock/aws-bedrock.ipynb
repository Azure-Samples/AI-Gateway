{
 "cells": [
  {
   "cell_type": "markdown",
   "metadata": {},
   "source": [
    "# APIM ❤️ all the Models\n",
    "\n",
    "## AWS Bedrock lab\n",
    "![flow](../../images/aws-bedrock.gif)\n",
    "\n",
    "Playground to try the [AWS Bedrock models](https://learn.microsoft.com/en-us/azure/api-management/amazon-bedrock-passthrough-llm-api) with the AI Gateway. Consumed tokens, prompts and completions are logged automatically into Azure Monitor.\n",
    "\n",
    "### Prerequisites\n",
    "\n",
    "- [Python 3.12 or later version](https://www.python.org/) installed\n",
    "- [VS Code](https://code.visualstudio.com/) installed with the [Jupyter notebook extension](https://marketplace.visualstudio.com/items?itemName=ms-toolsai.jupyter) enabled\n",
    "- [Python environment](https://code.visualstudio.com/docs/python/environments#_creating-environments) with the [requirements.txt](../../requirements.txt) or run `pip install -r requirements.txt` in your terminal\n",
    "- [An Azure Subscription](https://azure.microsoft.com/free/) with [Contributor](https://learn.microsoft.com/en-us/azure/role-based-access-control/built-in-roles/privileged#contributor) + [RBAC Administrator](https://learn.microsoft.com/en-us/azure/role-based-access-control/built-in-roles/privileged#role-based-access-control-administrator) or [Owner](https://learn.microsoft.com/en-us/azure/role-based-access-control/built-in-roles/privileged#owner) roles\n",
    "- [Azure CLI](https://learn.microsoft.com/cli/azure/install-azure-cli) installed and [Signed into your Azure subscription](https://learn.microsoft.com/cli/azure/authenticate-azure-cli-interactively)\n",
    "\n",
    "#### Create AWS Access Keys\n",
    "1. Navigate to AWS IAM Console\n",
    "2. Go to Users → Your Username → Security Credentials\n",
    "3. Create Access Key\n",
    "4. Copy both Access Key ID and Secret Access Key to the variables bellow\n",
    "5. Adjust the region, model id and ensure that access is granted\n",
    "\n",
    "▶️ Click `Run All` to execute all steps sequentially, or execute them `Step by Step`... \n"
   ]
  },
  {
   "cell_type": "markdown",
   "metadata": {},
   "source": [
    "<a id='0'></a>\n",
    "### 0️⃣ Initialize notebook variables\n",
    "\n",
    "- Resources will be suffixed by a unique string based on your subscription id.\n",
    "- Adjust the location parameters according your preferences and on the [product availability by Azure region.](https://azure.microsoft.com/explore/global-infrastructure/products-by-region/?cdn=disable&products=cognitive-services,api-management) \n",
    "- Adjust the models and versions according the [availability by region.](https://learn.microsoft.com/azure/ai-services/openai/concepts/models) "
   ]
  },
  {
   "cell_type": "code",
   "execution_count": null,
   "metadata": {
    "metadata": {}
   },
   "outputs": [
    {
     "name": "stdout",
     "output_type": "stream",
     "text": [
      "✅ \u001b[1;32mNotebook initialized\u001b[0m ⌚ 14:34:14.054149 \n"
     ]
    }
   ],
   "source": [
    "import os, sys, json\n",
    "sys.path.insert(1, '../../shared')  # add the shared directory to the Python path\n",
    "import utils\n",
    "\n",
    "deployment_name = os.path.basename(os.path.dirname(globals()['__vsc_ipynb_file__']))\n",
    "resource_group_name = f\"lab-{deployment_name}\" # change the name to match your naming style\n",
    "resource_group_location = \"westeurope\"\n",
    "\n",
    "apim_sku = 'Basicv2'\n",
    "apim_subscriptions_config = [{\"name\": \"subscription1\", \"displayName\": \"Subscription 1\"}]\n",
    "\n",
    "inference_api_path = \"inference\"  # path to the inference API in the APIM service\n",
    "inference_api_version = \"2025-03-01-preview\"\n",
    "\n",
    "aws_bedrock_access_key = '' # this value will be stored as APIM secure named value. In production consider using Key Vault\n",
    "aws_bedrock_secret_key = '' # this value will be stored as APIM secure named value. In production consider using Key Vault\n",
    "aws_bedrock_model_id = 'us.anthropic.claude-3-5-haiku-20241022-v1:0' # change to your inference profile\n",
    "aws_bedrock_region = 'us-east-1' # change to the region where the model is being used\n",
    "aws_bedrock_service_url = f'https://bedrock-runtime.{aws_bedrock_region}.amazonaws.com'\n",
    "aws_bedrock_service_name = 'bedrock-runtime'\n",
    "\n",
    "utils.print_ok('Notebook initialized')"
   ]
  },
  {
   "cell_type": "markdown",
   "metadata": {},
   "source": [
    "<a id='1'></a>\n",
    "### 1️⃣ Verify the Azure CLI and the connected Azure subscription\n",
    "\n",
    "The following commands ensure that you have the latest version of the Azure CLI and that the Azure CLI is connected to your Azure subscription."
   ]
  },
  {
   "cell_type": "code",
   "execution_count": 87,
   "metadata": {},
   "outputs": [
    {
     "name": "stdout",
     "output_type": "stream",
     "text": [
      "⚙️ \u001b[1;34mRunning: az account show \u001b[0m\n"
     ]
    },
    {
     "name": "stdout",
     "output_type": "stream",
     "text": [
      "✅ \u001b[1;32mRetrieved az account\u001b[0m ⌚ 14:34:16.976333 [0m:2s]\n",
      "👉🏽 \u001b[1;34mCurrent user: alexviei@microsoft.com\u001b[0m\n",
      "👉🏽 \u001b[1;34mTenant ID: 9a644326-c9da-4d2e-a141-052edfa63093\u001b[0m\n",
      "👉🏽 \u001b[1;34mSubscription ID: 0bbc5b1a-79b9-46f2-8587-775faa9f28c5\u001b[0m\n"
     ]
    }
   ],
   "source": [
    "output = utils.run(\"az account show\", \"Retrieved az account\", \"Failed to get the current az account\")\n",
    "\n",
    "if output.success and output.json_data:\n",
    "    current_user = output.json_data['user']['name']\n",
    "    tenant_id = output.json_data['tenantId']\n",
    "    subscription_id = output.json_data['id']\n",
    "\n",
    "    utils.print_info(f\"Current user: {current_user}\")\n",
    "    utils.print_info(f\"Tenant ID: {tenant_id}\")\n",
    "    utils.print_info(f\"Subscription ID: {subscription_id}\")"
   ]
  },
  {
   "cell_type": "markdown",
   "metadata": {},
   "source": [
    "<a id='2'></a>\n",
    "### 2️⃣ Create deployment using 🦾 Bicep\n",
    "\n",
    "This lab uses [Bicep](https://learn.microsoft.com/azure/azure-resource-manager/bicep/overview?tabs=bicep) to declarative define all the resources that will be deployed in the specified resource group. Change the parameters or the [main.bicep](main.bicep) directly to try different configurations. "
   ]
  },
  {
   "cell_type": "code",
   "execution_count": 88,
   "metadata": {},
   "outputs": [
    {
     "name": "stdout",
     "output_type": "stream",
     "text": [
      "⚙️ \u001b[1;34mRunning: az group show --name lab-aws-bedrock \u001b[0m\n",
      "👉🏽 \u001b[1;34mResource group lab-aws-bedrock does not yet exist. Creating the resource group now...\u001b[0m\n",
      "⚙️ \u001b[1;34mRunning: az group create --name lab-aws-bedrock --location westeurope --tags source=ai-gateway \u001b[0m\n",
      "✅ \u001b[1;32mResource group 'lab-aws-bedrock' created\u001b[0m ⌚ 14:34:25.531157 [0m:4s]\n",
      "⚙️ \u001b[1;34mRunning: az deployment group create --name aws-bedrock --resource-group lab-aws-bedrock --template-file main.bicep --parameters params.json \u001b[0m\n",
      "✅ \u001b[1;32mDeployment 'aws-bedrock' succeeded\u001b[0m ⌚ 14:37:09.626896 [2m:44s]\n"
     ]
    }
   ],
   "source": [
    "# Create the resource group if doesn't exist\n",
    "utils.create_resource_group(resource_group_name, resource_group_location)\n",
    "\n",
    "# Define the Bicep parameters\n",
    "bicep_parameters = {\n",
    "    \"$schema\": \"https://schema.management.azure.com/schemas/2019-04-01/deploymentParameters.json#\",\n",
    "    \"contentVersion\": \"1.0.0.0\",\n",
    "    \"parameters\": {\n",
    "        \"apimSku\": { \"value\": apim_sku },\n",
    "        \"apimSubscriptionsConfig\": { \"value\": apim_subscriptions_config },\n",
    "        \"inferenceAPIPath\": { \"value\": inference_api_path },\n",
    "        \"awsBedrockAccessKey\": { \"value\": aws_bedrock_access_key },\n",
    "        \"awsBedrockSecretKey\": { \"value\": aws_bedrock_secret_key },\n",
    "        \"awsBedrockServiceURL\": { \"value\": aws_bedrock_service_url }\n",
    "    }\n",
    "}\n",
    "\n",
    "# Write the parameters to the params.json file\n",
    "with open('params.json', 'w') as bicep_parameters_file:\n",
    "    bicep_parameters_file.write(json.dumps(bicep_parameters))\n",
    "\n",
    "# Run the deployment\n",
    "output = utils.run(f\"az deployment group create --name {deployment_name} --resource-group {resource_group_name} --template-file main.bicep --parameters params.json\",\n",
    "    f\"Deployment '{deployment_name}' succeeded\", f\"Deployment '{deployment_name}' failed\")"
   ]
  },
  {
   "cell_type": "markdown",
   "metadata": {},
   "source": [
    "<a id='3'></a>\n",
    "### 3️⃣ Get the deployment outputs\n",
    "\n",
    "We are now at the stage where we only need to retrieve the gateway URL and the subscription before we are ready for testing."
   ]
  },
  {
   "cell_type": "code",
   "execution_count": 89,
   "metadata": {},
   "outputs": [
    {
     "name": "stdout",
     "output_type": "stream",
     "text": [
      "⚙️ \u001b[1;34mRunning: az deployment group show --name aws-bedrock -g lab-aws-bedrock \u001b[0m\n",
      "✅ \u001b[1;32mRetrieved deployment: aws-bedrock\u001b[0m ⌚ 14:37:12.982340 [0m:3s]\n",
      "👉🏽 \u001b[1;34mLog Analytics Id: dd02f282-f5ef-4c08-b918-2118221cb426\u001b[0m\n",
      "👉🏽 \u001b[1;34mAPIM Service Id: /subscriptions/0bbc5b1a-79b9-46f2-8587-775faa9f28c5/resourceGroups/lab-aws-bedrock/providers/Microsoft.ApiManagement/service/apim-zywasptycrosw\u001b[0m\n",
      "👉🏽 \u001b[1;34mAPIM API Gateway URL: https://apim-zywasptycrosw.azure-api.net\u001b[0m\n",
      "👉🏽 \u001b[1;34mSubscription Name: subscription1\u001b[0m\n",
      "👉🏽 \u001b[1;34mSubscription Key: ****4c53\u001b[0m\n"
     ]
    }
   ],
   "source": [
    "# Obtain all of the outputs from the deployment\n",
    "output = utils.run(f\"az deployment group show --name {deployment_name} -g {resource_group_name}\", f\"Retrieved deployment: {deployment_name}\", f\"Failed to retrieve deployment: {deployment_name}\")\n",
    "\n",
    "if output.success and output.json_data:\n",
    "    log_analytics_id = utils.get_deployment_output(output, 'logAnalyticsWorkspaceId', 'Log Analytics Id')\n",
    "    apim_service_id = utils.get_deployment_output(output, 'apimServiceId', 'APIM Service Id')\n",
    "    apim_resource_gateway_url = utils.get_deployment_output(output, 'apimResourceGatewayURL', 'APIM API Gateway URL')\n",
    "    apim_subscriptions = json.loads(utils.get_deployment_output(output, 'apimSubscriptions').replace(\"\\'\", \"\\\"\"))\n",
    "    for subscription in apim_subscriptions:\n",
    "        subscription_name = subscription['name']\n",
    "        subscription_key = subscription['key']\n",
    "        utils.print_info(f\"Subscription Name: {subscription_name}\")\n",
    "        utils.print_info(f\"Subscription Key: ****{subscription_key[-4:]}\")\n",
    "    api_key = apim_subscriptions[0].get(\"key\") # default api key to the first subscription key"
   ]
  },
  {
   "cell_type": "markdown",
   "metadata": {},
   "source": [
    "<a id='requests'></a>\n",
    "### 🧪 Test the inference API\n",
    "\n",
    "Note: Install the boto3 library before running this step."
   ]
  },
  {
   "cell_type": "code",
   "execution_count": 111,
   "metadata": {},
   "outputs": [
    {
     "name": "stdout",
     "output_type": "stream",
     "text": [
      "💵 Total Tokens:  79\n",
      "💬 Response:  I do not actually have access to real-time clock information. If you need the current time, I recommend checking your device's clock or an online time service.\n"
     ]
    }
   ],
   "source": [
    "import boto3\n",
    "import logging\n",
    "\n",
    "# Enable botocore debug logging to trace HTTP calls\n",
    "# logging.basicConfig()\n",
    "# logging.getLogger('botocore').setLevel(logging.DEBUG)\n",
    "# logging.getLogger('boto3').setLevel(logging.DEBUG)\n",
    "\n",
    "session = boto3.Session()\n",
    "bedrock = session.client(\n",
    "    region_name=aws_bedrock_region,\n",
    "    service_name=aws_bedrock_service_name,\n",
    "    endpoint_url=f\"{apim_resource_gateway_url}/{inference_api_path}\",\n",
    "    aws_access_key_id='',  # Leave empty as APIM will set the values\n",
    "    aws_secret_access_key='', # Leave empty as APIM will set the values\n",
    ")\n",
    "\n",
    "# Register event handler to add custom headers\n",
    "event_system = bedrock.meta.events\n",
    "def add_custom_header(params, **kwargs):\n",
    "    params[\"headers\"]['api-key'] = api_key\n",
    "event_system.register(f'before-call.{aws_bedrock_service_name}.Converse', add_custom_header)\n",
    "\n",
    "system_message = {\n",
    "    \"role\": \"assistant\",\n",
    "    \"content\": [\n",
    "        { \"text\": \"You are a sarcastic, unhelpful assistant.\" } \n",
    "    ],\n",
    "}\n",
    "user_message = {\n",
    "    \"role\": \"user\",\n",
    "    \"content\": [\n",
    "        { \"text\": \"Can you tell me the time, please?\" } \n",
    "    ],\n",
    "}\n",
    "response = bedrock.converse(\n",
    "    modelId=aws_bedrock_model_id,\n",
    "    messages=[system_message, user_message],\n",
    "    inferenceConfig={\n",
    "        \"maxTokens\": 2000,\n",
    "        \"temperature\": 0\n",
    "    },\n",
    ")\n",
    "\n",
    "print(\"💵 Total Tokens: \", response['usage']['totalTokens'])\n",
    "print(\"💬 Response: \", response['output']['message']['content'][0]['text'])\n"
   ]
  },
  {
   "cell_type": "markdown",
   "metadata": {},
   "source": [
    "<a id='sdk'></a>\n",
    "### 🧪 Test with streaming\n",
    "With a streaming API call, the response is sent back incrementally in chunks via an [event stream](https://developer.mozilla.org/docs/Web/API/Server-sent_events/Using_server-sent_events#event_stream_format). In Python, you can iterate over these events with a for loop."
   ]
  },
  {
   "cell_type": "code",
   "execution_count": 92,
   "metadata": {},
   "outputs": [
    {
     "name": "stdout",
     "output_type": "stream",
     "text": [
      "Message received 0.00 seconds after request: 1, \n",
      "Message received 0.00 seconds after request: 2, 3\n",
      "Message received 0.00 seconds after request: , 4, 5, \n",
      "Message received 0.00 seconds after request: 6, 7, 8,\n",
      "Message received 0.00 seconds after request:  9, 10, 11\n",
      "Message received 0.00 seconds after request: , 12, 13, \n",
      "Message received 0.00 seconds after request: 14, 15\n",
      "Message received 0.00 seconds after request: , 16, 17, \n",
      "Message received 0.00 seconds after request: 18, 19\n",
      "Message received 0.00 seconds after request: , 20,\n",
      "Message received 0.00 seconds after request:  21, \n",
      "Message received 0.00 seconds after request: 22, 23, 24,\n",
      "Message received 0.00 seconds after request:  25, \n",
      "Message received 0.00 seconds after request: 26, 27\n",
      "Message received 0.00 seconds after request: , 28, 29, \n",
      "Message received 0.00 seconds after request: 30, 31\n",
      "Message received 0.00 seconds after request: , 32,\n",
      "Message received 0.00 seconds after request:  33, \n",
      "Message received 0.00 seconds after request: 34, 35, 36,\n",
      "Message received 0.00 seconds after request:  37, \n",
      "Message received 0.00 seconds after request: 38, 39\n",
      "Message received 0.00 seconds after request: , 40,\n",
      "Message received 0.00 seconds after request:  41, \n",
      "Message received 0.00 seconds after request: 42, 43\n",
      "Message received 0.00 seconds after request: , 44, 45, \n",
      "Message received 0.00 seconds after request: 46, 47\n",
      "Message received 0.00 seconds after request: , 48, 49, \n",
      "Message received 0.00 seconds after request: 50, 51, 52,\n",
      "Message received 0.00 seconds after request:  53, \n",
      "Message received 0.01 seconds after request: 54, 55\n",
      "Message received 0.01 seconds after request: , 56, 57, \n",
      "Message received 0.01 seconds after request: 58, 59\n",
      "Message received 0.01 seconds after request: , 60,\n",
      "Message received 0.01 seconds after request:  61, 62, 63\n",
      "Message received 0.01 seconds after request: , 64,\n",
      "Message received 0.01 seconds after request:  65, \n",
      "Message received 0.01 seconds after request: 66, 67, 68,\n",
      "Message received 0.01 seconds after request:  69, \n",
      "Message received 0.01 seconds after request: 70, 71, 72,\n",
      "Message received 0.01 seconds after request:  73, \n",
      "Message received 0.01 seconds after request: 74, 75, 76,\n",
      "Message received 0.01 seconds after request:  77, \n",
      "Message received 0.01 seconds after request: 78, 79\n",
      "Message received 0.01 seconds after request: , 80, 81, \n",
      "Message received 0.01 seconds after request: 82, 83, 84,\n",
      "Message received 0.01 seconds after request:  85, \n",
      "Message received 0.01 seconds after request: 86, 87, 88,\n",
      "Message received 0.01 seconds after request:  89, \n",
      "Message received 0.01 seconds after request: 90, 91, 92,\n",
      "Message received 0.01 seconds after request:  93, \n",
      "Message received 0.01 seconds after request: 94, 95\n",
      "Message received 0.01 seconds after request: , 96,\n",
      "Message received 0.01 seconds after request:  97, \n",
      "Message received 0.01 seconds after request: 98, 99\n",
      "Message received 0.01 seconds after request: , 100\n"
     ]
    }
   ],
   "source": [
    "import boto3, time\n",
    "\n",
    "session = boto3.Session()\n",
    "bedrock = session.client(\n",
    "    region_name=aws_bedrock_region,\n",
    "    service_name=aws_bedrock_service_name,\n",
    "    endpoint_url=f\"{apim_resource_gateway_url}/{inference_api_path}\",\n",
    "    aws_access_key_id='',  # Leave empty as APIM will set the values\n",
    "    aws_secret_access_key='', # Leave empty as APIM will set the values\n",
    ")\n",
    "\n",
    "# Register event handler to add custom headers\n",
    "event_system = bedrock.meta.events\n",
    "def add_custom_header(params, **kwargs):\n",
    "    params[\"headers\"]['api-key'] = api_key\n",
    "event_system.register(f'before-call.{aws_bedrock_service_name}.ConverseStream', add_custom_header)\n",
    "\n",
    "message = {\n",
    "    \"role\": \"user\",\n",
    "    \"content\": [\n",
    "        { \"text\": \"Count to 100, with a comma between each number and no newlines. E.g., 1, 2, 3, ...\" } \n",
    "    ],\n",
    "}\n",
    "\n",
    "response = bedrock.converse_stream(\n",
    "    modelId=aws_bedrock_model_id,\n",
    "    messages=[message],\n",
    "    inferenceConfig={\n",
    "        \"maxTokens\": 2000,\n",
    "        \"temperature\": 0.0\n",
    "    }\n",
    ")\n",
    "\n",
    "stream = response.get('stream')\n",
    "start_time = time.time()\n",
    "for event in stream:\n",
    "    if \"contentBlockDelta\" in event:\n",
    "        chunk_time = time.time() - start_time  # calculate the time delay of the chunk\n",
    "        chunk_message = event['contentBlockDelta']['delta']['text']\n",
    "        print(f\"Message received {chunk_time:.2f} seconds after request: {chunk_message}\")  # print the delay and text\n",
    "\n",
    "\n"
   ]
  },
  {
   "cell_type": "markdown",
   "metadata": {},
   "source": [
    "<a id='kql'></a>\n",
    "### 🔍 Display model usage\n"
   ]
  },
  {
   "cell_type": "code",
   "execution_count": 93,
   "metadata": {
    "metadata": {}
   },
   "outputs": [
    {
     "name": "stdout",
     "output_type": "stream",
     "text": [
      "⚙️ \u001b[1;34mRunning: az monitor log-analytics query -w dd02f282-f5ef-4c08-b918-2118221cb426 --analytics-query \"model_usage\" \u001b[0m\n",
      "✅ \u001b[1;32mRetrieved log analytics query output\u001b[0m ⌚ 14:39:42.413524 [0m:6s]\n"
     ]
    },
    {
     "data": {
      "application/vnd.microsoft.datawrangler.viewer.v0+json": {
       "columns": [
        {
         "name": "index",
         "rawType": "int64",
         "type": "integer"
        },
        {
         "name": "DeploymentName",
         "rawType": "object",
         "type": "string"
        },
        {
         "name": "SubscriptionId",
         "rawType": "object",
         "type": "string"
        },
        {
         "name": "SumCompletionTokens",
         "rawType": "object",
         "type": "string"
        },
        {
         "name": "SumPromptTokens",
         "rawType": "object",
         "type": "string"
        },
        {
         "name": "SumTotalTokens",
         "rawType": "object",
         "type": "string"
        },
        {
         "name": "TableName",
         "rawType": "object",
         "type": "string"
        }
       ],
       "ref": "8707cfca-2722-41ab-b21d-a2e272bea0b8",
       "rows": [
        [
         "0",
         "arn:aws:bedrock:us-east-1:982081045781:inference-profile",
         "",
         "0",
         "0",
         "0",
         "PrimaryResult"
        ],
        [
         "1",
         "arn:aws:bedrock:us-east-1:982081045781:inference-profile",
         "subscription1",
         "0",
         "0",
         "0",
         "PrimaryResult"
        ],
        [
         "2",
         "us.anthropic.claude-3-5-haiku-20241022-v1:0",
         "subscription1",
         "892",
         "154",
         "1046",
         "PrimaryResult"
        ],
        [
         "3",
         "anthropic.claude-3-sonnet-20240229-v1:0",
         "",
         "0",
         "0",
         "0",
         "PrimaryResult"
        ],
        [
         "4",
         "anthropic.claude-3-sonnet-20240229-v1:0",
         "subscription1",
         "0",
         "0",
         "0",
         "PrimaryResult"
        ],
        [
         "5",
         "anthropic.claude-3-5-haiku-20241022-v1:0",
         "subscription1",
         "0",
         "0",
         "0",
         "PrimaryResult"
        ],
        [
         "6",
         "us.anthropic.claude-3-5-haiku-20241022-v1:0",
         "",
         "0",
         "36",
         "36",
         "PrimaryResult"
        ],
        [
         "7",
         "anthropic.claude-v2",
         "subscription1",
         "0",
         "0",
         "0",
         "PrimaryResult"
        ]
       ],
       "shape": {
        "columns": 6,
        "rows": 8
       }
      },
      "text/html": [
       "<div>\n",
       "<style scoped>\n",
       "    .dataframe tbody tr th:only-of-type {\n",
       "        vertical-align: middle;\n",
       "    }\n",
       "\n",
       "    .dataframe tbody tr th {\n",
       "        vertical-align: top;\n",
       "    }\n",
       "\n",
       "    .dataframe thead th {\n",
       "        text-align: right;\n",
       "    }\n",
       "</style>\n",
       "<table border=\"1\" class=\"dataframe\">\n",
       "  <thead>\n",
       "    <tr style=\"text-align: right;\">\n",
       "      <th></th>\n",
       "      <th>DeploymentName</th>\n",
       "      <th>SubscriptionId</th>\n",
       "      <th>SumCompletionTokens</th>\n",
       "      <th>SumPromptTokens</th>\n",
       "      <th>SumTotalTokens</th>\n",
       "      <th>TableName</th>\n",
       "    </tr>\n",
       "  </thead>\n",
       "  <tbody>\n",
       "    <tr>\n",
       "      <th>0</th>\n",
       "      <td>arn:aws:bedrock:us-east-1:982081045781:inferen...</td>\n",
       "      <td></td>\n",
       "      <td>0</td>\n",
       "      <td>0</td>\n",
       "      <td>0</td>\n",
       "      <td>PrimaryResult</td>\n",
       "    </tr>\n",
       "    <tr>\n",
       "      <th>1</th>\n",
       "      <td>arn:aws:bedrock:us-east-1:982081045781:inferen...</td>\n",
       "      <td>subscription1</td>\n",
       "      <td>0</td>\n",
       "      <td>0</td>\n",
       "      <td>0</td>\n",
       "      <td>PrimaryResult</td>\n",
       "    </tr>\n",
       "    <tr>\n",
       "      <th>2</th>\n",
       "      <td>us.anthropic.claude-3-5-haiku-20241022-v1:0</td>\n",
       "      <td>subscription1</td>\n",
       "      <td>892</td>\n",
       "      <td>154</td>\n",
       "      <td>1046</td>\n",
       "      <td>PrimaryResult</td>\n",
       "    </tr>\n",
       "    <tr>\n",
       "      <th>3</th>\n",
       "      <td>anthropic.claude-3-sonnet-20240229-v1:0</td>\n",
       "      <td></td>\n",
       "      <td>0</td>\n",
       "      <td>0</td>\n",
       "      <td>0</td>\n",
       "      <td>PrimaryResult</td>\n",
       "    </tr>\n",
       "    <tr>\n",
       "      <th>4</th>\n",
       "      <td>anthropic.claude-3-sonnet-20240229-v1:0</td>\n",
       "      <td>subscription1</td>\n",
       "      <td>0</td>\n",
       "      <td>0</td>\n",
       "      <td>0</td>\n",
       "      <td>PrimaryResult</td>\n",
       "    </tr>\n",
       "    <tr>\n",
       "      <th>5</th>\n",
       "      <td>anthropic.claude-3-5-haiku-20241022-v1:0</td>\n",
       "      <td>subscription1</td>\n",
       "      <td>0</td>\n",
       "      <td>0</td>\n",
       "      <td>0</td>\n",
       "      <td>PrimaryResult</td>\n",
       "    </tr>\n",
       "    <tr>\n",
       "      <th>6</th>\n",
       "      <td>us.anthropic.claude-3-5-haiku-20241022-v1:0</td>\n",
       "      <td></td>\n",
       "      <td>0</td>\n",
       "      <td>36</td>\n",
       "      <td>36</td>\n",
       "      <td>PrimaryResult</td>\n",
       "    </tr>\n",
       "    <tr>\n",
       "      <th>7</th>\n",
       "      <td>anthropic.claude-v2</td>\n",
       "      <td>subscription1</td>\n",
       "      <td>0</td>\n",
       "      <td>0</td>\n",
       "      <td>0</td>\n",
       "      <td>PrimaryResult</td>\n",
       "    </tr>\n",
       "  </tbody>\n",
       "</table>\n",
       "</div>"
      ],
      "text/plain": [
       "                                      DeploymentName SubscriptionId  \\\n",
       "0  arn:aws:bedrock:us-east-1:982081045781:inferen...                  \n",
       "1  arn:aws:bedrock:us-east-1:982081045781:inferen...  subscription1   \n",
       "2        us.anthropic.claude-3-5-haiku-20241022-v1:0  subscription1   \n",
       "3            anthropic.claude-3-sonnet-20240229-v1:0                  \n",
       "4            anthropic.claude-3-sonnet-20240229-v1:0  subscription1   \n",
       "5           anthropic.claude-3-5-haiku-20241022-v1:0  subscription1   \n",
       "6        us.anthropic.claude-3-5-haiku-20241022-v1:0                  \n",
       "7                                anthropic.claude-v2  subscription1   \n",
       "\n",
       "  SumCompletionTokens SumPromptTokens SumTotalTokens      TableName  \n",
       "0                   0               0              0  PrimaryResult  \n",
       "1                   0               0              0  PrimaryResult  \n",
       "2                 892             154           1046  PrimaryResult  \n",
       "3                   0               0              0  PrimaryResult  \n",
       "4                   0               0              0  PrimaryResult  \n",
       "5                   0               0              0  PrimaryResult  \n",
       "6                   0              36             36  PrimaryResult  \n",
       "7                   0               0              0  PrimaryResult  "
      ]
     },
     "metadata": {},
     "output_type": "display_data"
    }
   ],
   "source": [
    "import pandas as pd\n",
    "\n",
    "query = \"model_usage\"\n",
    "\n",
    "output = utils.run(f\"az monitor log-analytics query -w {log_analytics_id} --analytics-query \\\"{query}\\\"\", \"Retrieved log analytics query output\", \"Failed to retrieve log analytics query output\") \n",
    "if output.success and output.json_data:\n",
    "    table = output.json_data\n",
    "    display(pd.DataFrame(table))\n"
   ]
  },
  {
   "cell_type": "markdown",
   "metadata": {},
   "source": [
    "<a id='kql2'></a>\n",
    "### 🔍 Display prompts and completions\n"
   ]
  },
  {
   "cell_type": "code",
   "execution_count": 94,
   "metadata": {},
   "outputs": [
    {
     "name": "stdout",
     "output_type": "stream",
     "text": [
      "⚙️ \u001b[1;34mRunning: az monitor log-analytics query -w dd02f282-f5ef-4c08-b918-2118221cb426 --analytics-query \"prompts_and_completions\" \u001b[0m\n",
      "✅ \u001b[1;32mRetrieved log analytics query output\u001b[0m ⌚ 14:40:15.776415 [0m:5s]\n"
     ]
    },
    {
     "data": {
      "application/vnd.microsoft.datawrangler.viewer.v0+json": {
       "columns": [
        {
         "name": "index",
         "rawType": "int64",
         "type": "integer"
        },
        {
         "name": "CorrelationId",
         "rawType": "object",
         "type": "string"
        },
        {
         "name": "Input",
         "rawType": "object",
         "type": "string"
        },
        {
         "name": "Output",
         "rawType": "object",
         "type": "string"
        },
        {
         "name": "TableName",
         "rawType": "object",
         "type": "string"
        }
       ],
       "ref": "6ec9497d-e3ba-47b4-9337-5a34f6a921f8",
       "rows": [
        [
         "0",
         "6bb54c7a-7443-418d-bfc1-a9371a7ba35c",
         "[{\"text\":\"What's Portugal's biggest city?\",\"Type\":\"text\"}] .  . ",
         " .  . ",
         "PrimaryResult"
        ],
        [
         "1",
         "a26b4fe5-cf21-4411-9d17-28a45c4e0dec",
         "[{\"text\":\"What's Portugal's biggest city?\",\"Type\":\"text\"}] .  . ",
         " .  . ",
         "PrimaryResult"
        ],
        [
         "2",
         "fed9dcdc-48f6-4f92-a728-026599b401ac",
         "[{\"text\":\"What's Portugal's biggest city?\",\"Type\":\"text\"}] .  . ",
         " .  . ",
         "PrimaryResult"
        ],
        [
         "3",
         "8debcf40-142a-4893-9a11-3d707f911fa2",
         "[{\"text\":\"What's Portugal's biggest city?\",\"Type\":\"text\"}] .  . ",
         " .  . ",
         "PrimaryResult"
        ],
        [
         "4",
         "47439917-e73a-4448-ab3e-904bed11e814",
         "[{\"text\":\"How are you today?\",\"Type\":\"text\"}] . ",
         " . ",
         "PrimaryResult"
        ],
        [
         "5",
         "dad655b3-5cbf-4375-ab9f-0bdc4de8c5b5",
         "[{\"text\":\"How are you today?\",\"Type\":\"text\"}] . ",
         " . ",
         "PrimaryResult"
        ],
        [
         "6",
         "b62e22f8-2935-473f-967c-e4053bcfceba",
         "[{\"text\":\"How are you today?\",\"Type\":\"text\"}] . ",
         " . ",
         "PrimaryResult"
        ],
        [
         "7",
         "baee0d14-670f-4886-87a9-62cacda5bd48",
         "[{\"text\":\"How are you today?\",\"Type\":\"text\"}] . ",
         " . ",
         "PrimaryResult"
        ],
        [
         "8",
         "e28a4c4d-1e0d-4c7d-ac17-c63a2bf4e7a6",
         "[{\"text\":\"How are you today?\",\"Type\":\"text\"}] . ",
         " . ",
         "PrimaryResult"
        ],
        [
         "9",
         "9b8d5dd1-fd32-43e4-9df1-c5d07adcd9e6",
         "[{\"text\":\"How are you today?\",\"Type\":\"text\"}] .  . ",
         " .  . ",
         "PrimaryResult"
        ],
        [
         "10",
         "626f93ee-e8a4-4b51-bb00-bc30fd529849",
         "[{\"text\":\"How are you today?\",\"Type\":\"text\"}] .  . ",
         " .  . ",
         "PrimaryResult"
        ],
        [
         "11",
         "cc5635c3-64bd-4aac-bc3a-52a0c4846518",
         "[{\"text\":\"How are you today?\",\"Type\":\"text\"}] .  . ",
         " .  . ",
         "PrimaryResult"
        ],
        [
         "12",
         "2b5c3c03-34fd-41c8-9c26-13d1464332f6",
         "[{\"text\":\"Count to 100, with a comma between each number and no newlines. E.g., 1, 2, 3, ...\",\"Type\":\"text\"}] . ",
         " . ",
         "PrimaryResult"
        ],
        [
         "13",
         "92bbdc07-f9b0-4bcf-8f48-86778539e595",
         "[{\"text\":\"Count to 100, with a comma between each number and no newlines. E.g., 1, 2, 3, ...\",\"Type\":\"text\"}] .  .  . ",
         " .  . 1, 2, 3, 4, 5, 6, 7, 8, 9, 10, 11, 12, 13, 14, 15, 16, 17, 18, 19, 20, 21, 22, 23, 24, 25, 26, 27, 28, 29, 30, 31, 32, 33, 34, 35, 36, 37, 38, 39, 40, 41, 42, 43, 44, 45, 46, 47, 48, 49, 50, 51, 52, 53, 54, 55, 56, 57, 58, 59, 60, 61, 62, 63, 64, 65, 66, 67, 68, 69, 70, 71, 72, 73, 74, 75, 76, 77, 78, 79, 80, 81, 82, 83, 84, 85, 86, 87, 88, 89, 90, 91, 92, 93, 94, 95, 96, 97, 98, 99, 100 . ",
         "PrimaryResult"
        ],
        [
         "14",
         "2248d995-0cd3-431a-ac0e-c1a21990c301",
         "[{\"text\":\"Count to 100, with a comma between each number and no newlines. E.g., 1, 2, 3, ...\",\"Type\":\"text\"}] .  .  . ",
         " .  . 1, 2, 3, 4, 5, 6, 7, 8, 9, 10, 11, 12, 13, 14, 15, 16, 17, 18, 19, 20, 21, 22, 23, 24, 25, 26, 27, 28, 29, 30, 31, 32, 33, 34, 35, 36, 37, 38, 39, 40, 41, 42, 43, 44, 45, 46, 47, 48, 49, 50, 51, 52, 53, 54, 55, 56, 57, 58, 59, 60, 61, 62, 63, 64, 65, 66, 67, 68, 69, 70, 71, 72, 73, 74, 75, 76, 77, 78, 79, 80, 81, 82, 83, 84, 85, 86, 87, 88, 89, 90, 91, 92, 93, 94, 95, 96, 97, 98, 99, 100 . ",
         "PrimaryResult"
        ]
       ],
       "shape": {
        "columns": 4,
        "rows": 15
       }
      },
      "text/html": [
       "<div>\n",
       "<style scoped>\n",
       "    .dataframe tbody tr th:only-of-type {\n",
       "        vertical-align: middle;\n",
       "    }\n",
       "\n",
       "    .dataframe tbody tr th {\n",
       "        vertical-align: top;\n",
       "    }\n",
       "\n",
       "    .dataframe thead th {\n",
       "        text-align: right;\n",
       "    }\n",
       "</style>\n",
       "<table border=\"1\" class=\"dataframe\">\n",
       "  <thead>\n",
       "    <tr style=\"text-align: right;\">\n",
       "      <th></th>\n",
       "      <th>CorrelationId</th>\n",
       "      <th>Input</th>\n",
       "      <th>Output</th>\n",
       "      <th>TableName</th>\n",
       "    </tr>\n",
       "  </thead>\n",
       "  <tbody>\n",
       "    <tr>\n",
       "      <th>0</th>\n",
       "      <td>6bb54c7a-7443-418d-bfc1-a9371a7ba35c</td>\n",
       "      <td>[{\"text\":\"What's Portugal's biggest city?\",\"Ty...</td>\n",
       "      <td>.  .</td>\n",
       "      <td>PrimaryResult</td>\n",
       "    </tr>\n",
       "    <tr>\n",
       "      <th>1</th>\n",
       "      <td>a26b4fe5-cf21-4411-9d17-28a45c4e0dec</td>\n",
       "      <td>[{\"text\":\"What's Portugal's biggest city?\",\"Ty...</td>\n",
       "      <td>.  .</td>\n",
       "      <td>PrimaryResult</td>\n",
       "    </tr>\n",
       "    <tr>\n",
       "      <th>2</th>\n",
       "      <td>fed9dcdc-48f6-4f92-a728-026599b401ac</td>\n",
       "      <td>[{\"text\":\"What's Portugal's biggest city?\",\"Ty...</td>\n",
       "      <td>.  .</td>\n",
       "      <td>PrimaryResult</td>\n",
       "    </tr>\n",
       "    <tr>\n",
       "      <th>3</th>\n",
       "      <td>8debcf40-142a-4893-9a11-3d707f911fa2</td>\n",
       "      <td>[{\"text\":\"What's Portugal's biggest city?\",\"Ty...</td>\n",
       "      <td>.  .</td>\n",
       "      <td>PrimaryResult</td>\n",
       "    </tr>\n",
       "    <tr>\n",
       "      <th>4</th>\n",
       "      <td>47439917-e73a-4448-ab3e-904bed11e814</td>\n",
       "      <td>[{\"text\":\"How are you today?\",\"Type\":\"text\"}] .</td>\n",
       "      <td>.</td>\n",
       "      <td>PrimaryResult</td>\n",
       "    </tr>\n",
       "    <tr>\n",
       "      <th>5</th>\n",
       "      <td>dad655b3-5cbf-4375-ab9f-0bdc4de8c5b5</td>\n",
       "      <td>[{\"text\":\"How are you today?\",\"Type\":\"text\"}] .</td>\n",
       "      <td>.</td>\n",
       "      <td>PrimaryResult</td>\n",
       "    </tr>\n",
       "    <tr>\n",
       "      <th>6</th>\n",
       "      <td>b62e22f8-2935-473f-967c-e4053bcfceba</td>\n",
       "      <td>[{\"text\":\"How are you today?\",\"Type\":\"text\"}] .</td>\n",
       "      <td>.</td>\n",
       "      <td>PrimaryResult</td>\n",
       "    </tr>\n",
       "    <tr>\n",
       "      <th>7</th>\n",
       "      <td>baee0d14-670f-4886-87a9-62cacda5bd48</td>\n",
       "      <td>[{\"text\":\"How are you today?\",\"Type\":\"text\"}] .</td>\n",
       "      <td>.</td>\n",
       "      <td>PrimaryResult</td>\n",
       "    </tr>\n",
       "    <tr>\n",
       "      <th>8</th>\n",
       "      <td>e28a4c4d-1e0d-4c7d-ac17-c63a2bf4e7a6</td>\n",
       "      <td>[{\"text\":\"How are you today?\",\"Type\":\"text\"}] .</td>\n",
       "      <td>.</td>\n",
       "      <td>PrimaryResult</td>\n",
       "    </tr>\n",
       "    <tr>\n",
       "      <th>9</th>\n",
       "      <td>9b8d5dd1-fd32-43e4-9df1-c5d07adcd9e6</td>\n",
       "      <td>[{\"text\":\"How are you today?\",\"Type\":\"text\"}] ...</td>\n",
       "      <td>.  .</td>\n",
       "      <td>PrimaryResult</td>\n",
       "    </tr>\n",
       "    <tr>\n",
       "      <th>10</th>\n",
       "      <td>626f93ee-e8a4-4b51-bb00-bc30fd529849</td>\n",
       "      <td>[{\"text\":\"How are you today?\",\"Type\":\"text\"}] ...</td>\n",
       "      <td>.  .</td>\n",
       "      <td>PrimaryResult</td>\n",
       "    </tr>\n",
       "    <tr>\n",
       "      <th>11</th>\n",
       "      <td>cc5635c3-64bd-4aac-bc3a-52a0c4846518</td>\n",
       "      <td>[{\"text\":\"How are you today?\",\"Type\":\"text\"}] ...</td>\n",
       "      <td>.  .</td>\n",
       "      <td>PrimaryResult</td>\n",
       "    </tr>\n",
       "    <tr>\n",
       "      <th>12</th>\n",
       "      <td>2b5c3c03-34fd-41c8-9c26-13d1464332f6</td>\n",
       "      <td>[{\"text\":\"Count to 100, with a comma between e...</td>\n",
       "      <td>.</td>\n",
       "      <td>PrimaryResult</td>\n",
       "    </tr>\n",
       "    <tr>\n",
       "      <th>13</th>\n",
       "      <td>92bbdc07-f9b0-4bcf-8f48-86778539e595</td>\n",
       "      <td>[{\"text\":\"Count to 100, with a comma between e...</td>\n",
       "      <td>.  . 1, 2, 3, 4, 5, 6, 7, 8, 9, 10, 11, 12, 1...</td>\n",
       "      <td>PrimaryResult</td>\n",
       "    </tr>\n",
       "    <tr>\n",
       "      <th>14</th>\n",
       "      <td>2248d995-0cd3-431a-ac0e-c1a21990c301</td>\n",
       "      <td>[{\"text\":\"Count to 100, with a comma between e...</td>\n",
       "      <td>.  . 1, 2, 3, 4, 5, 6, 7, 8, 9, 10, 11, 12, 1...</td>\n",
       "      <td>PrimaryResult</td>\n",
       "    </tr>\n",
       "  </tbody>\n",
       "</table>\n",
       "</div>"
      ],
      "text/plain": [
       "                           CorrelationId  \\\n",
       "0   6bb54c7a-7443-418d-bfc1-a9371a7ba35c   \n",
       "1   a26b4fe5-cf21-4411-9d17-28a45c4e0dec   \n",
       "2   fed9dcdc-48f6-4f92-a728-026599b401ac   \n",
       "3   8debcf40-142a-4893-9a11-3d707f911fa2   \n",
       "4   47439917-e73a-4448-ab3e-904bed11e814   \n",
       "5   dad655b3-5cbf-4375-ab9f-0bdc4de8c5b5   \n",
       "6   b62e22f8-2935-473f-967c-e4053bcfceba   \n",
       "7   baee0d14-670f-4886-87a9-62cacda5bd48   \n",
       "8   e28a4c4d-1e0d-4c7d-ac17-c63a2bf4e7a6   \n",
       "9   9b8d5dd1-fd32-43e4-9df1-c5d07adcd9e6   \n",
       "10  626f93ee-e8a4-4b51-bb00-bc30fd529849   \n",
       "11  cc5635c3-64bd-4aac-bc3a-52a0c4846518   \n",
       "12  2b5c3c03-34fd-41c8-9c26-13d1464332f6   \n",
       "13  92bbdc07-f9b0-4bcf-8f48-86778539e595   \n",
       "14  2248d995-0cd3-431a-ac0e-c1a21990c301   \n",
       "\n",
       "                                                Input  \\\n",
       "0   [{\"text\":\"What's Portugal's biggest city?\",\"Ty...   \n",
       "1   [{\"text\":\"What's Portugal's biggest city?\",\"Ty...   \n",
       "2   [{\"text\":\"What's Portugal's biggest city?\",\"Ty...   \n",
       "3   [{\"text\":\"What's Portugal's biggest city?\",\"Ty...   \n",
       "4    [{\"text\":\"How are you today?\",\"Type\":\"text\"}] .    \n",
       "5    [{\"text\":\"How are you today?\",\"Type\":\"text\"}] .    \n",
       "6    [{\"text\":\"How are you today?\",\"Type\":\"text\"}] .    \n",
       "7    [{\"text\":\"How are you today?\",\"Type\":\"text\"}] .    \n",
       "8    [{\"text\":\"How are you today?\",\"Type\":\"text\"}] .    \n",
       "9   [{\"text\":\"How are you today?\",\"Type\":\"text\"}] ...   \n",
       "10  [{\"text\":\"How are you today?\",\"Type\":\"text\"}] ...   \n",
       "11  [{\"text\":\"How are you today?\",\"Type\":\"text\"}] ...   \n",
       "12  [{\"text\":\"Count to 100, with a comma between e...   \n",
       "13  [{\"text\":\"Count to 100, with a comma between e...   \n",
       "14  [{\"text\":\"Count to 100, with a comma between e...   \n",
       "\n",
       "                                               Output      TableName  \n",
       "0                                               .  .   PrimaryResult  \n",
       "1                                               .  .   PrimaryResult  \n",
       "2                                               .  .   PrimaryResult  \n",
       "3                                               .  .   PrimaryResult  \n",
       "4                                                  .   PrimaryResult  \n",
       "5                                                  .   PrimaryResult  \n",
       "6                                                  .   PrimaryResult  \n",
       "7                                                  .   PrimaryResult  \n",
       "8                                                  .   PrimaryResult  \n",
       "9                                               .  .   PrimaryResult  \n",
       "10                                              .  .   PrimaryResult  \n",
       "11                                              .  .   PrimaryResult  \n",
       "12                                                 .   PrimaryResult  \n",
       "13   .  . 1, 2, 3, 4, 5, 6, 7, 8, 9, 10, 11, 12, 1...  PrimaryResult  \n",
       "14   .  . 1, 2, 3, 4, 5, 6, 7, 8, 9, 10, 11, 12, 1...  PrimaryResult  "
      ]
     },
     "metadata": {},
     "output_type": "display_data"
    }
   ],
   "source": [
    "import pandas as pd\n",
    "\n",
    "query = \"prompts_and_completions\"\n",
    "\n",
    "output = utils.run(f\"az monitor log-analytics query -w {log_analytics_id} --analytics-query \\\"{query}\\\"\", \"Retrieved log analytics query output\", \"Failed to retrieve log analytics query output\") \n",
    "if output.success and output.json_data:\n",
    "    table = output.json_data\n",
    "    display(pd.DataFrame(table))\n"
   ]
  },
  {
   "cell_type": "markdown",
   "metadata": {},
   "source": [
    "<a id='clean'></a>\n",
    "### 🗑️ Clean up resources\n",
    "\n",
    "When you're finished with the lab, you should remove all your deployed resources from Azure to avoid extra charges and keep your Azure subscription uncluttered.\n",
    "Use the [clean-up-resources notebook](clean-up-resources.ipynb) for that."
   ]
  }
 ],
 "metadata": {
  "kernelspec": {
   "display_name": ".venv",
   "language": "python",
   "name": "python3"
  },
  "language_info": {
   "codemirror_mode": {
    "name": "ipython",
    "version": 3
   },
   "file_extension": ".py",
   "mimetype": "text/x-python",
   "name": "python",
   "nbconvert_exporter": "python",
   "pygments_lexer": "ipython3",
   "version": "3.12.10"
  }
 },
 "nbformat": 4,
 "nbformat_minor": 2
}
