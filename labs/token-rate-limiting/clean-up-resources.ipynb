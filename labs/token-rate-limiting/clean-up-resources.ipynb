{
 "cells": [
  {
   "cell_type": "markdown",
   "metadata": {},
   "source": [
    "### 🗑️ Clean up resources\n",
    "\n",
    "When you're finished with the lab, you should remove all your deployed resources from Azure to avoid extra charges and keep your Azure subscription uncluttered."
   ]
  },
  {
   "cell_type": "code",
   "execution_count": 3,
   "metadata": {},
   "outputs": [
    {
     "name": "stdout",
     "output_type": "stream",
     "text": [
      "👉🏽 \u001b[1;34m🧹 Cleaning up resource group 'lab-token-rate-limiting'...\u001b[0m\n",
      "⚙️ \u001b[1;34mRunning: az deployment group show --name token-rate-limiting -g lab-token-rate-limiting -o json \u001b[0m\n",
      "✅ \u001b[1;32mDeployment retrieved\u001b[0m ⌚ 19:08:47.712452 [0m:4s]\n",
      "👉🏽 \u001b[1;34mDeployment provisioning state: Succeeded\u001b[0m\n",
      "⚙️ \u001b[1;34mRunning: az resource list -g lab-token-rate-limiting --resource-type \"microsoft.cognitiveservices/accounts/projects\" \u001b[0m\n",
      "✅ \u001b[1;32mRetrieved AI Foundry projects\u001b[0m ⌚ 19:08:51.288547 [0m:3s]\n",
      "👉🏽 \u001b[1;34mDeleting AI Foundry project 'foundry1-2irczv2tuhnve/token-rate-limiting' in resource group 'lab-token-rate-limiting'...\u001b[0m\n",
      "⚙️ \u001b[1;34mRunning: az resource delete --ids \"/subscriptions/9d4a14de-67d7-4029-a3b4-7a7e3e6581cf/resourceGroups/lab-token-rate-limiting/providers/Microsoft.CognitiveServices/accounts/foundry1-2irczv2tuhnve/projects/token-rate-limiting\" \u001b[0m\n",
      "✅ \u001b[1;32mAI Foundry project 'foundry1-2irczv2tuhnve/token-rate-limiting' deleted\u001b[0m ⌚ 19:09:05.116415 [0m:13s]\n",
      "⚙️ \u001b[1;34mRunning: az cognitiveservices account list -g lab-token-rate-limiting \u001b[0m\n",
      "✅ \u001b[1;32mListed CognitiveService accounts\u001b[0m ⌚ 19:09:08.353378 [0m:3s]\n",
      "👉🏽 \u001b[1;34mDeleting and purging Cognitive Service Account 'foundry1-2irczv2tuhnve' in resource group 'lab-token-rate-limiting'...\u001b[0m\n",
      "⚙️ \u001b[1;34mRunning: az cognitiveservices account delete -g lab-token-rate-limiting -n foundry1-2irczv2tuhnve \u001b[0m\n",
      "✅ \u001b[1;32mCognitive Services 'foundry1-2irczv2tuhnve' deleted\u001b[0m ⌚ 19:09:13.677968 [0m:5s]\n",
      "⚙️ \u001b[1;34mRunning: az cognitiveservices account purge -g lab-token-rate-limiting -n foundry1-2irczv2tuhnve -l \"uksouth\" \u001b[0m\n",
      "✅ \u001b[1;32mCognitive Services 'foundry1-2irczv2tuhnve' purged\u001b[0m ⌚ 19:10:12.796511 [0m:59s]\n",
      "⚙️ \u001b[1;34mRunning:  az apim list -g lab-token-rate-limiting \u001b[0m\n",
      "✅ \u001b[1;32mListed APIM resources\u001b[0m ⌚ 19:10:15.673208 [0m:2s]\n",
      "👉🏽 \u001b[1;34mDeleting and purging API Management 'apim-2irczv2tuhnve' in resource group 'lab-token-rate-limiting'...\u001b[0m\n",
      "⚙️ \u001b[1;34mRunning: az apim delete -n apim-2irczv2tuhnve -g lab-token-rate-limiting -y \u001b[0m\n",
      "✅ \u001b[1;32mAPI Management 'apim-2irczv2tuhnve' deleted\u001b[0m ⌚ 19:11:21.232154 [1m:5s]\n",
      "⚙️ \u001b[1;34mRunning: az apim deletedservice purge --service-name apim-2irczv2tuhnve --location \"UK South\" \u001b[0m\n",
      "✅ \u001b[1;32mAPI Management 'apim-2irczv2tuhnve' purged\u001b[0m ⌚ 19:12:49.705020 [1m:28s]\n",
      "⚙️ \u001b[1;34mRunning: az keyvault list -g lab-token-rate-limiting \u001b[0m\n",
      "✅ \u001b[1;32mListed Key Vault resources\u001b[0m ⌚ 19:12:59.524651 [0m:9s]\n",
      "👉🏽 \u001b[1;32m🧹 Deleting resource group 'lab-token-rate-limiting'...\u001b[0m ⌚ 19:12:59.525596 \n",
      "⚙️ \u001b[1;34mRunning: az group delete --name lab-token-rate-limiting -y \u001b[0m\n",
      "✅ \u001b[1;32mResource group 'lab-token-rate-limiting' deleted\u001b[0m ⌚ 19:13:25.050216 [0m:25s]\n",
      "👉🏽 \u001b[1;32m🧹 Cleanup completed.\u001b[0m ⌚ 19:13:25.050216 \n"
     ]
    }
   ],
   "source": [
    "import os, sys\n",
    "sys.path.insert(1, '../../shared')  # add the shared directory to the Python path\n",
    "import utils\n",
    "\n",
    "deployment_name = os.path.basename(os.path.dirname(globals()['__vsc_ipynb_file__']))\n",
    "utils.cleanup_resources(deployment_name)"
   ]
  }
 ],
 "metadata": {
  "kernelspec": {
   "display_name": "Python 3",
   "language": "python",
   "name": "python3"
  },
  "language_info": {
   "codemirror_mode": {
    "name": "ipython",
    "version": 3
   },
   "file_extension": ".py",
   "mimetype": "text/x-python",
   "name": "python",
   "nbconvert_exporter": "python",
   "pygments_lexer": "ipython3",
   "version": "3.12.10"
  }
 },
 "nbformat": 4,
 "nbformat_minor": 2
}
