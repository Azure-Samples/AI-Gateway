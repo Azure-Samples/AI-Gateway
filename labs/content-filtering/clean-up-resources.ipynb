{
 "cells": [
  {
   "cell_type": "markdown",
   "metadata": {},
   "source": [
    "### 🗑️ Clean up resources\n",
    "\n",
    "When you're finished with the lab, you should remove all your deployed resources from Azure to avoid extra charges and keep your Azure subscription uncluttered."
   ]
  },
  {
   "cell_type": "code",
   "execution_count": null,
   "metadata": {},
   "outputs": [],
   "source": [
    "import os\n",
    "import json\n",
    "import datetime\n",
    "\n",
    "deployment_name = os.path.basename(os.path.dirname(globals()['__vsc_ipynb_file__']))\n",
    "resource_group_name = f\"lab-{deployment_name}\"\n",
    "\n",
    "def log(stdout, name, action):\n",
    "    if stdout.n.startswith(\"ERROR\"):\n",
    "        print(\"👎🏻 \", name, \" was NOT \", action, \": \", stdout)\n",
    "    else:\n",
    "        print(\"👍🏻 \", name, \" was \", action, \" ⌚ \", datetime.datetime.now().time())\n",
    "\n",
    "deployment_stdout = ! az deployment group show --name {deployment_name} -g {resource_group_name} -o json    \n",
    "deployment = json.loads(deployment_stdout.n)\n",
    "for resource in deployment.get(\"properties\").get(\"outputResources\"):\n",
    "    resource_id = resource.get(\"id\")\n",
    "    try:\n",
    "        query = \"\\\"{type:type, name:name, location:location}\\\"\"\n",
    "        resource_stdout = ! az resource show --id {resource_id} --query {query} -o json\n",
    "        resource = json.loads(resource_stdout.n)\n",
    "        resource_name = resource.get(\"name\")\n",
    "        resource_type = resource.get(\"type\")  \n",
    "        if resource_type == \"Microsoft.CognitiveServices/accounts\":\n",
    "            resource_location = \"\\\"\" + resource.get(\"location\") + \"\\\"\"\n",
    "            delete_stdout = ! az cognitiveservices account delete -g {resource_group_name} -n {resource_name}\n",
    "            log(delete_stdout, resource_name, \"deleted\")\n",
    "            delete_stdout = ! az cognitiveservices account purge -g {resource_group_name} -n {resource_name} -l {resource_location}\n",
    "            log(delete_stdout, resource_name, \"purged\")\n",
    "        elif resource_type == \"Microsoft.ApiManagement/service\":\n",
    "            resource_location = \"\\\"\" + resource.get(\"location\") + \"\\\"\"\n",
    "            delete_stdout = ! az apim delete -n {resource_name} -g {resource_group_name} -y\n",
    "            log(delete_stdout, resource_name, \"deleted\")\n",
    "            delete_stdout = ! az apim deletedservice purge --service-name {resource_name} --location {resource_location}\n",
    "            log(delete_stdout, resource_name, \"purged\")\n",
    "    except:\n",
    "        print(\"✌🏻 \", resource_id, \" ignored\")\n",
    "delete_stdout = ! az group delete --name {resource_group_name} -y\n",
    "log(delete_stdout, resource_group_name, \"deleted\")\n",
    "\n"
   ]
  }
 ],
 "metadata": {
  "kernelspec": {
   "display_name": "Python 3",
   "language": "python",
   "name": "python3"
  },
  "language_info": {
   "codemirror_mode": {
    "name": "ipython",
    "version": 3
   },
   "file_extension": ".py",
   "mimetype": "text/x-python",
   "name": "python",
   "nbconvert_exporter": "python",
   "pygments_lexer": "ipython3",
   "version": "3.12.2"
  }
 },
 "nbformat": 4,
 "nbformat_minor": 2
}
