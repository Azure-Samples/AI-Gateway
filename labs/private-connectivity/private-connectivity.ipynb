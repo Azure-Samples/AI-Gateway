{
 "cells": [
  {
   "cell_type": "markdown",
   "metadata": {},
   "source": [
    "# APIM ❤️ OpenAI\n",
    "\n",
    "## Private connectivity lab\n",
    "![flow](./architecture.png)\n",
    "\n",
    "Playground to show how to create a private network for consuming LLMs from `AI Services`.\n",
    "This lab demonstrates how to create a private network for consuming LLMs from `AI Services` using `Private Link Services`, `Azure API Management (APIM)`, and `Azure Front Door`.\n",
    "\n",
    "Notes:\n",
    "- `Azure OpenAI` is only accessible through `Private Endpoints`. Public network access is disabled.\n",
    "- `Azure API Management` is integrated in the private network and is used to manage the traffic to the `Azure OpenAI` service through `Private Endpoints`.\n",
    "- `Azure API Management` is not accessible from a public network. The only access is through `Azure Front Door`.\n",
    "- `Azure Front Door` manages the traffic to the `Azure API Management` service through `Private Link Service`.\n",
    "- **`Azure Front Door` is the only publicly-accessible service.**\n",
    "\n",
    "### Prerequisites\n",
    "- [Python 3.12 or later version](https://www.python.org/) installed\n",
    "- [Pandas Library](https://pandas.pydata.org/) and matplotlib installed\n",
    "- [VS Code](https://code.visualstudio.com/) installed with the [Jupyter notebook extension](https://marketplace.visualstudio.com/items?itemName=ms-toolsai.jupyter) enabled\n",
    "- [Azure CLI](https://learn.microsoft.com/cli/azure/install-azure-cli) installed\n",
    "- [An Azure Subscription](https://azure.microsoft.com/free/) with Contributor permissions\n",
    "- [Access granted to Azure OpenAI](https://aka.ms/oai/access) or just enable the mock service\n",
    "- [Sign in to Azure with Azure CLI](https://learn.microsoft.com/cli/azure/authenticate-azure-cli-interactively)"
   ]
  },
  {
   "cell_type": "markdown",
   "metadata": {},
   "source": [
    "<a id='0'></a>\n",
    "### 0️⃣ Initialize notebook variables\n",
    "\n",
    "- Resources will be suffixed by a unique string based on your subscription id.\n",
    "- Adjust the location parameters according your preferences and on the [product availability by Azure region.](https://azure.microsoft.com/explore/global-infrastructure/products-by-region/?cdn=disable&products=cognitive-services,api-management)\n",
    "- Adjust the OpenAI model and version according the [availability by region.](https://learn.microsoft.com/azure/ai-services/openai/concepts/models) "
   ]
  },
  {
   "cell_type": "code",
   "execution_count": 35,
   "metadata": {},
   "outputs": [
    {
     "name": "stdout",
     "output_type": "stream",
     "text": [
      "✅ \u001b[1;32mNotebook initialized\u001b[0m ⌚ 20:20:15.447530 \n"
     ]
    }
   ],
   "source": [
    "import os, sys, json\n",
    "sys.path.insert(1, '../../shared')  # add the shared directory to the Python path\n",
    "import utils\n",
    "\n",
    "deployment_name = os.path.basename(os.path.dirname(globals()['__vsc_ipynb_file__']))\n",
    "resource_group_name = f\"lab-26-{deployment_name}\" # change the name to match your naming style\n",
    "resource_group_location = \"francecentral\"\n",
    "\n",
    "apim_sku = 'Standardv2'\n",
    "\n",
    "# Prioritize East US until exhaustion (simulate PTU with TPM), then equally distribute between Sweden and West US (consumption fallback)\n",
    "openai_resources = [\n",
    "    {\"name\": \"openai1\", \"capacity\": 20, \"location\": \"eastus\", \"priority\": 1},\n",
    "    {\"name\": \"openai2\", \"capacity\": 20, \"location\": \"swedencentral\", \"priority\": 2, \"weight\": 50},\n",
    "    {\"name\": \"openai3\", \"capacity\": 20, \"location\": \"westus\", \"priority\": 2, \"weight\": 50}\n",
    "]\n",
    "\n",
    "openai_deployment_name = \"gpt-4o-mini\"\n",
    "openai_model_name = \"gpt-4o-mini\"\n",
    "openai_model_version = \"2024-07-18\"\n",
    "openai_model_capacity = 8\n",
    "openai_model_sku = 'Standard'\n",
    "openai_api_version = \"2024-02-01\"\n",
    "\n",
    "utils.print_ok('Notebook initialized')"
   ]
  },
  {
   "cell_type": "markdown",
   "metadata": {},
   "source": [
    "<a id='1'></a>\n",
    "### 1️⃣ Verify the Azure CLI and the connected Azure subscription\n",
    "\n",
    "The following commands ensure that you have the latest version of the Azure CLI and that the Azure CLI is connected to your Azure subscription."
   ]
  },
  {
   "cell_type": "code",
   "execution_count": 36,
   "metadata": {},
   "outputs": [
    {
     "name": "stdout",
     "output_type": "stream",
     "text": [
      "⚙️ \u001b[1;34mRunning: az account show \u001b[0m\n",
      "✅ \u001b[1;32mRetrieved az account\u001b[0m ⌚ 20:20:20.357813 [0m:2s]\n",
      "👉🏽 \u001b[1;34mCurrent user: admin@MngEnvMCAP784683.onmicrosoft.com\u001b[0m\n",
      "👉🏽 \u001b[1;34mTenant ID: 93139d1e-a3c1-4d78-9ed5-878be090eba4\u001b[0m\n",
      "👉🏽 \u001b[1;34mSubscription ID: dcef7009-6b94-4382-afdc-17eb160d709a\u001b[0m\n",
      "✅ \u001b[1;32mRetrieved az account\u001b[0m ⌚ 20:20:20.357813 [0m:2s]\n",
      "👉🏽 \u001b[1;34mCurrent user: admin@MngEnvMCAP784683.onmicrosoft.com\u001b[0m\n",
      "👉🏽 \u001b[1;34mTenant ID: 93139d1e-a3c1-4d78-9ed5-878be090eba4\u001b[0m\n",
      "👉🏽 \u001b[1;34mSubscription ID: dcef7009-6b94-4382-afdc-17eb160d709a\u001b[0m\n"
     ]
    }
   ],
   "source": [
    "output = utils.run(\"az account show\", \"Retrieved az account\", \"Failed to get the current az account\")\n",
    "\n",
    "if output.success and output.json_data:\n",
    "    current_user = output.json_data['user']['name']\n",
    "    tenant_id = output.json_data['tenantId']\n",
    "    subscription_id = output.json_data['id']\n",
    "\n",
    "    utils.print_info(f\"Current user: {current_user}\")\n",
    "    utils.print_info(f\"Tenant ID: {tenant_id}\")\n",
    "    utils.print_info(f\"Subscription ID: {subscription_id}\")"
   ]
  },
  {
   "cell_type": "markdown",
   "metadata": {},
   "source": [
    "<a id='2'></a>\n",
    "### 2️⃣ Create deployment using 🦾 Bicep\n",
    "\n",
    "This lab uses [Bicep](https://learn.microsoft.com/azure/azure-resource-manager/bicep/overview?tabs=bicep) to declarative define all the resources that will be deployed in the specified resource group. Change the parameters or the [main.bicep](main.bicep) directly to try different configurations."
   ]
  },
  {
   "cell_type": "code",
   "execution_count": 37,
   "metadata": {},
   "outputs": [
    {
     "name": "stdout",
     "output_type": "stream",
     "text": [
      "⚙️ \u001b[1;34mRunning: az group show --name lab-26-private-connectivity \u001b[0m\n",
      "👉🏽 \u001b[1;34mResource group lab-26-private-connectivity does not yet exist. Creating the resource group now...\u001b[0m\n",
      "⚙️ \u001b[1;34mRunning: az group create --name lab-26-private-connectivity --location francecentral --tags source=ai-gateway \u001b[0m\n",
      "👉🏽 \u001b[1;34mResource group lab-26-private-connectivity does not yet exist. Creating the resource group now...\u001b[0m\n",
      "⚙️ \u001b[1;34mRunning: az group create --name lab-26-private-connectivity --location francecentral --tags source=ai-gateway \u001b[0m\n",
      "✅ \u001b[1;32mResource group 'lab-26-private-connectivity' created\u001b[0m ⌚ 20:20:30.658147 [0m:6s]\n",
      "⚙️ \u001b[1;34mRunning: az deployment group create --name private-connectivity --resource-group lab-26-private-connectivity --template-file main.bicep --parameters params.json \u001b[0m\n",
      "✅ \u001b[1;32mResource group 'lab-26-private-connectivity' created\u001b[0m ⌚ 20:20:30.658147 [0m:6s]\n",
      "⚙️ \u001b[1;34mRunning: az deployment group create --name private-connectivity --resource-group lab-26-private-connectivity --template-file main.bicep --parameters params.json \u001b[0m\n",
      "✅ \u001b[1;32mDeployment 'private-connectivity' succeeded\u001b[0m ⌚ 20:25:38.280452 [5m:7s]\n",
      "✅ \u001b[1;32mDeployment 'private-connectivity' succeeded\u001b[0m ⌚ 20:25:38.280452 [5m:7s]\n"
     ]
    }
   ],
   "source": [
    "# Create the resource group if doesn't exist\n",
    "utils.create_resource_group(resource_group_name, resource_group_location)\n",
    "\n",
    "# Define the Bicep parameters\n",
    "bicep_parameters = {\n",
    "    \"$schema\": \"https://schema.management.azure.com/schemas/2019-04-01/deploymentParameters.json#\",\n",
    "    \"contentVersion\": \"1.0.0.0\",\n",
    "    \"parameters\": {\n",
    "        \"apimSku\": { \"value\": apim_sku },\n",
    "        \"openAIConfig\": { \"value\": openai_resources },\n",
    "        \"openAIDeploymentName\": { \"value\": openai_deployment_name },\n",
    "        \"openAIModelName\": { \"value\": openai_model_name },\n",
    "        \"openAIModelVersion\": { \"value\": openai_model_version },\n",
    "        \"apimPublicNetworkAccess\": { \"value\": \"Enabled\" }\n",
    "    }\n",
    "}\n",
    "\n",
    "# Write the parameters to the params.json file\n",
    "with open('params.json', 'w') as bicep_parameters_file:\n",
    "    bicep_parameters_file.write(json.dumps(bicep_parameters))\n",
    "\n",
    "# Run the deployment\n",
    "output = utils.run(f\"az deployment group create --name {deployment_name} --resource-group {resource_group_name} --template-file main.bicep --parameters params.json\",\n",
    "    f\"Deployment '{deployment_name}' succeeded\", f\"Deployment '{deployment_name}' failed\")"
   ]
  },
  {
   "cell_type": "markdown",
   "metadata": {},
   "source": [
    "<a id='3'></a>\n",
    "### 3️⃣ Approve Front Door private link connection to APIM\n",
    "\n",
    "In the deployed Bicep template, Azure Front Door will establish a private link connection to the API Management service. This connection should be approved. Run the following command to approve the connection."
   ]
  },
  {
   "cell_type": "code",
   "execution_count": 38,
   "metadata": {},
   "outputs": [
    {
     "name": "stdout",
     "output_type": "stream",
     "text": [
      "⚙️ \u001b[1;34mRunning: az deployment group show --name private-connectivity -g lab-26-private-connectivity \u001b[0m\n",
      "✅ \u001b[1;32mRetrieved deployment: private-connectivity\u001b[0m ⌚ 20:25:41.312731 [0m:3s]\n",
      "👉🏽 \u001b[1;34mapimResourceId: /subscriptions/dcef7009-6b94-4382-afdc-17eb160d709a/resourceGroups/lab-26-private-connectivity/providers/Microsoft.ApiManagement/service/apim-h2jgu4owpu25o\u001b[0m\n",
      "⚙️ \u001b[1;34mRunning: az network private-endpoint-connection list --id /subscriptions/dcef7009-6b94-4382-afdc-17eb160d709a/resourceGroups/lab-26-private-connectivity/providers/Microsoft.ApiManagement/service/apim-h2jgu4owpu25o --query [?properties.privateLinkServiceConnectionState.status=='Pending'].id --output tsv \u001b[0m\n",
      "✅ \u001b[1;32mRetrieved deployment: private-connectivity\u001b[0m ⌚ 20:25:41.312731 [0m:3s]\n",
      "👉🏽 \u001b[1;34mapimResourceId: /subscriptions/dcef7009-6b94-4382-afdc-17eb160d709a/resourceGroups/lab-26-private-connectivity/providers/Microsoft.ApiManagement/service/apim-h2jgu4owpu25o\u001b[0m\n",
      "⚙️ \u001b[1;34mRunning: az network private-endpoint-connection list --id /subscriptions/dcef7009-6b94-4382-afdc-17eb160d709a/resourceGroups/lab-26-private-connectivity/providers/Microsoft.ApiManagement/service/apim-h2jgu4owpu25o --query [?properties.privateLinkServiceConnectionState.status=='Pending'].id --output tsv \u001b[0m\n",
      "/subscriptions/dcef7009-6b94-4382-afdc-17eb160d709a/resourceGroups/lab-26-private-connectivity/providers/Microsoft.ApiManagement/service/apim-h2jgu4owpu25o/privateEndpointConnections/bfd1c3ff-5ac0-4e7a-a839-65032439572a\n",
      "\n",
      "⚙️ \u001b[1;34mRunning: az network private-endpoint-connection approve --id /subscriptions/dcef7009-6b94-4382-afdc-17eb160d709a/resourceGroups/lab-26-private-connectivity/providers/Microsoft.ApiManagement/service/apim-h2jgu4owpu25o/privateEndpointConnections/bfd1c3ff-5ac0-4e7a-a839-65032439572a\n",
      " --description 'Approved' \u001b[0m\n",
      "/subscriptions/dcef7009-6b94-4382-afdc-17eb160d709a/resourceGroups/lab-26-private-connectivity/providers/Microsoft.ApiManagement/service/apim-h2jgu4owpu25o/privateEndpointConnections/bfd1c3ff-5ac0-4e7a-a839-65032439572a\n",
      "\n",
      "⚙️ \u001b[1;34mRunning: az network private-endpoint-connection approve --id /subscriptions/dcef7009-6b94-4382-afdc-17eb160d709a/resourceGroups/lab-26-private-connectivity/providers/Microsoft.ApiManagement/service/apim-h2jgu4owpu25o/privateEndpointConnections/bfd1c3ff-5ac0-4e7a-a839-65032439572a\n",
      " --description 'Approved' \u001b[0m\n",
      "✅ \u001b[1;32mPrivate Link Connection approved.\u001b[0m ⌚ 20:28:40.035928 [2m:55s]\n",
      "✅ \u001b[1;32mPrivate Link Connection approved.\u001b[0m ⌚ 20:28:40.035928 [2m:55s]\n"
     ]
    }
   ],
   "source": [
    "# Obtain all of the outputs from the deployment\n",
    "output = utils.run(f\"az deployment group show --name {deployment_name} -g {resource_group_name}\", f\"Retrieved deployment: {deployment_name}\", f\"Failed to retrieve deployment: {deployment_name}\")\n",
    "\n",
    "if output.success and output.json_data:\n",
    "    apim_resource_id = utils.get_deployment_output(output, 'apimResourceId', 'apimResourceId')\n",
    "\n",
    "    outputPls = utils.run(f\"az network private-endpoint-connection list --id {apim_resource_id} --query [?properties.privateLinkServiceConnectionState.status=='Pending'].id --output tsv\")\n",
    "    \n",
    "    if outputPls.success:\n",
    "        pls_connection_id = outputPls.text\n",
    "        print(pls_connection_id)\n",
    "        utils.run(f\"az network private-endpoint-connection approve --id {pls_connection_id} --description 'Approved'\", f\"Private Link Connection approved.\", f\"Failed to approve Private Link Connection: {pls_connection_id}\")"
   ]
  },
  {
   "cell_type": "markdown",
   "metadata": {},
   "source": [
    "<a id='4'></a>\n",
    "### 4️⃣ Disabling APIM public network access\n",
    "\n",
    "As of May 2025, during the creation, the `APIM` service cannot disable the public network access. This behavior might change in the future. As a workaround, you can disable the public network access after the deployment is completed. To do that, you can run the Bicep template again after changing the `apimPublicNetworkAccess` parameter to `Disabled`. This will update the APIM service and disable the public network access."
   ]
  },
  {
   "cell_type": "code",
   "execution_count": 39,
   "metadata": {},
   "outputs": [
    {
     "name": "stdout",
     "output_type": "stream",
     "text": [
      "⚙️ \u001b[1;34mRunning: az deployment group create --name private-connectivity --resource-group lab-26-private-connectivity --template-file main.bicep --parameters params.json \u001b[0m\n",
      "✅ \u001b[1;32mDeployment 'private-connectivity' succeeded\u001b[0m ⌚ 20:32:34.469005 [3m:54s]\n",
      "✅ \u001b[1;32mDeployment 'private-connectivity' succeeded\u001b[0m ⌚ 20:32:34.469005 [3m:54s]\n"
     ]
    }
   ],
   "source": [
    "bicep_parameters['parameters']['apimPublicNetworkAccess']['value'] = \"Disabled\"\n",
    "\n",
    "# Write the parameters to the params.json file\n",
    "with open('params.json', 'w') as bicep_parameters_file:\n",
    "    bicep_parameters_file.write(json.dumps(bicep_parameters))\n",
    "\n",
    "# Run the deployment\n",
    "output = utils.run(f\"az deployment group create --name {deployment_name} --resource-group {resource_group_name} --template-file main.bicep --parameters params.json\",\n",
    "    f\"Deployment '{deployment_name}' succeeded\", f\"Deployment '{deployment_name}' failed\")"
   ]
  },
  {
   "cell_type": "markdown",
   "metadata": {},
   "source": [
    "<a id='5'></a>\n",
    "### 5️⃣ Get the deployment outputs\n",
    "\n",
    "Retrieve the required outputs from the Bicep deployment."
   ]
  },
  {
   "cell_type": "code",
   "execution_count": 40,
   "metadata": {},
   "outputs": [
    {
     "name": "stdout",
     "output_type": "stream",
     "text": [
      "⚙️ \u001b[1;34mRunning: az deployment group show --name private-connectivity -g lab-26-private-connectivity \u001b[0m\n",
      "✅ \u001b[1;32mRetrieved deployment: private-connectivity\u001b[0m ⌚ 20:32:37.051102 [0m:2s]\n",
      "👉🏽 \u001b[1;34mFront Door Endpoint: afd-7bxttlyfbfdla-adhpf3d2gggpg8hj.b01.azurefd.net\u001b[0m\n",
      "👉🏽 \u001b[1;34mAPIM API Gateway URL: https://apim-h2jgu4owpu25o.azure-api.net\u001b[0m\n",
      "👉🏽 \u001b[1;34mAPIM Subscription Key (masked): ****0085\u001b[0m\n",
      "✅ \u001b[1;32mRetrieved deployment: private-connectivity\u001b[0m ⌚ 20:32:37.051102 [0m:2s]\n",
      "👉🏽 \u001b[1;34mFront Door Endpoint: afd-7bxttlyfbfdla-adhpf3d2gggpg8hj.b01.azurefd.net\u001b[0m\n",
      "👉🏽 \u001b[1;34mAPIM API Gateway URL: https://apim-h2jgu4owpu25o.azure-api.net\u001b[0m\n",
      "👉🏽 \u001b[1;34mAPIM Subscription Key (masked): ****0085\u001b[0m\n"
     ]
    }
   ],
   "source": [
    "# Obtain all of the outputs from the deployment\n",
    "output = utils.run(f\"az deployment group show --name {deployment_name} -g {resource_group_name}\", f\"Retrieved deployment: {deployment_name}\", f\"Failed to retrieve deployment: {deployment_name}\")\n",
    "\n",
    "if output.success and output.json_data:\n",
    "    frontdoor_endpoint = utils.get_deployment_output(output, 'frontDoorEndpointHostName', 'Front Door Endpoint')\n",
    "    apim_resource_gateway_url = utils.get_deployment_output(output, 'apimResourceGatewayURL', 'APIM API Gateway URL')\n",
    "    apim_subscription_key = utils.get_deployment_output(output, 'apimSubscriptionKey', 'APIM Subscription Key (masked)', True)"
   ]
  },
  {
   "cell_type": "markdown",
   "metadata": {},
   "source": [
    "<a id='6'></a>\n",
    "### 6️⃣ 🧪 Test the API using a direct HTTP call through Frontdoor\n",
    "\n",
    "Requests is an elegant and simple HTTP library for Python that will be used here to make raw API requests and inspect the responses. "
   ]
  },
  {
   "cell_type": "code",
   "execution_count": 41,
   "metadata": {},
   "outputs": [
    {
     "name": "stdout",
     "output_type": "stream",
     "text": [
      "Response status code: 200\n",
      "💬 Oh, sure! Just let me pull out my crystal ball. Or you could, you know, just look at your phone or a clock. But hey, if you really want me to guess, I'm going to say it’s time to get a watch!\n",
      "\n"
     ]
    }
   ],
   "source": [
    "import requests\n",
    "\n",
    "def call_api(resource_url):\n",
    "    url = f\"{resource_url}/openai/deployments/{openai_deployment_name}/chat/completions?api-version={openai_api_version}\"\n",
    "\n",
    "    messages = {\"messages\": [\n",
    "        {\"role\": \"system\", \"content\": \"You are a sarcastic, unhelpful assistant.\"},\n",
    "        {\"role\": \"user\", \"content\": \"Can you tell me the time, please?\"}\n",
    "    ]}\n",
    "\n",
    "    response = requests.post(url, headers = {'api-key':apim_subscription_key}, json = messages)\n",
    "\n",
    "    print(f\"Response status code: {response.status_code}\")\n",
    "\n",
    "    if (response.status_code == 200):\n",
    "        data = json.loads(response.text)\n",
    "        print(f\"💬 {data.get('choices')[0].get('message').get('content')}\\n\")\n",
    "    else:\n",
    "        print(f\"{response.text}\\n\")\n",
    "\n",
    "call_api(f\"https://{frontdoor_endpoint}\")"
   ]
  },
  {
   "cell_type": "markdown",
   "metadata": {},
   "source": [
    "<a id='7'></a>\n",
    "### 7️⃣ 🧪 Test APIM API access through public network\n",
    "\n",
    "APIM is not accessible from public network. The only way to access it is through Azure Front Door. This test should fail with a 403 error."
   ]
  },
  {
   "cell_type": "code",
   "execution_count": 42,
   "metadata": {},
   "outputs": [
    {
     "name": "stdout",
     "output_type": "stream",
     "text": [
      "Response status code: 403\n",
      "{ \"statusCode\": 403, \"message\": \"Request originated from client public IP address 74.241.135.213, public network access on this `Microsoft.ApiManagement/service/apim-h2jgu4owpu25o` is disabled. To connect to `Microsoft.ApiManagement/service/apim-h2jgu4owpu25o`, please use the Private Endpoint from inside your virtual network. To learn more https://aka.ms/apim-privateendpoint \" }\n",
      "\n"
     ]
    }
   ],
   "source": [
    "call_api(apim_resource_gateway_url)"
   ]
  },
  {
   "cell_type": "markdown",
   "metadata": {},
   "source": [
    "<a id='8'></a>\n",
    "### 8 🧪 Test APIM API access through private virtual network\n",
    "\n",
    "APIM is accessible in the private virtual network through a `Private Endpoint`. This means that any resource within this network can communicate securely with the APIM service. To validate this behavior, the Bicep template creates an `Azure virtual machine` that will act as a `jumpbox`. This VM is deployed in the same virtual network as the APIM service and has access to it.\n",
    "The following code will generate a `cUrl` command that will test the API access. This script will be executed in the jumpbox vm through the `az vm run-command invoke` command."
   ]
  },
  {
   "cell_type": "markdown",
   "metadata": {},
   "source": [
    "Let's now run the script in the jumpbox VM to test the API access through the private virtual network. The command will be executed in the jumpbox VM and will return the response from the APIM service."
   ]
  },
  {
   "cell_type": "code",
   "execution_count": 73,
   "metadata": {},
   "outputs": [
    {
     "name": "stdout",
     "output_type": "stream",
     "text": [
      "\n",
      "🤖 Assistant's response:\n",
      "\n",
      "Seattle is a vibrant city with a variety of attractions. Here are three must-visit places:\n",
      "\n",
      "1. **Pike Place Market**: One of the oldest continuously operated public farmers' markets in the United States, Pike Place Market offers a diverse range of food stalls, crafts, and local products. You can watch the famous fishmongers throw fish, explore unique shops, and enjoy fresh seafood and produce.\n",
      "\n",
      "2. **Space Needle**: An iconic symbol of Seattle, the Space Needle stands at 605 feet tall and offers breathtaking panoramic views of the city, mountains, and Puget Sound from its observation deck. The futuristic design is a part of the skyline and provides a great photo opportunity.\n",
      "\n",
      "3. **Chihuly Garden and Glass**: Located right next to the Space Needle, this exhibition showcases the stunning glasswork of artist Dale Chihuly. The indoor galleries and the outdoor garden are filled with vibrant glass sculptures and installations, making it a mesmerizing experience for art and nature lovers.\n",
      "\n",
      "These three spots give you a taste of Seattle's culture, art, and stunning views!\n"
     ]
    }
   ],
   "source": [
    "import subprocess\n",
    "import json\n",
    "import re\n",
    "\n",
    "command = (f\"az vm run-command invoke \"\n",
    "           f\"-g {resource_group_name} \"\n",
    "           f\"-n vm-jumpbox \"\n",
    "           f\"--query value[].message \"\n",
    "           f\"-o tsv \"\n",
    "           f\"--command-id RunShellScript \"\n",
    "           f\"--scripts \\\"curl -X POST '{apim_resource_gateway_url}/openai/deployments/{openai_deployment_name}/chat/completions?api-version={openai_api_version}' \"\n",
    "           f\"-H 'Content-Type: application/json' \"\n",
    "           f\"-H 'api-key: {apim_subscription_key}' \"\n",
    "           f\"-d '{{\\\\\\\"messages\\\\\\\": [  {{\\\\\\\"role\\\\\\\": \\\\\\\"system\\\\\\\", \\\\\\\"content\\\\\\\": \\\\\\\"You are a helpful assistant.\\\\\\\"}},   {{\\\\\\\"role\\\\\\\": \\\\\\\"user\\\\\\\", \\\\\\\"content\\\\\\\": \\\\\\\"What are 3 things to visit in Seattle?\\\\\\\"}}      ]}}'\\\"\"\n",
    "           )\n",
    "\n",
    "# Execute the command and capture its output\n",
    "result = subprocess.run(command, shell=True, capture_output=True, text=True)\n",
    "output_text = result.stdout\n",
    "\n",
    "# Extract just the JSON portion from the output\n",
    "json_match = re.search(r'(\\{.*\"choices\".*\\})', output_text)\n",
    "\n",
    "if json_match:\n",
    "    try:\n",
    "        # Parse the JSON response\n",
    "        openai_response = json.loads(json_match.group(1))\n",
    "        \n",
    "        # Extract the assistant's message content\n",
    "        assistant_message = openai_response['choices'][0]['message']['content']\n",
    "        \n",
    "        # Display the extracted message content in a readable format\n",
    "        print(\"\\n🤖 Assistant's response:\\n\")\n",
    "        print(assistant_message)\n",
    "    except (json.JSONDecodeError, KeyError) as e:\n",
    "        print(f\"Error processing JSON: {e}\")\n",
    "else:\n",
    "    print(\"Could not find JSON response in the output\")\n",
    "    print(\"Raw output:\", output_text)"
   ]
  },
  {
   "cell_type": "markdown",
   "metadata": {},
   "source": [
    "<a id='clean'></a>\n",
    "### 🗑️ Clean up resources\n",
    "\n",
    "When you're finished with the lab, you should remove all your deployed resources from Azure to avoid extra charges and keep your Azure subscription uncluttered.\n",
    "Use the [clean-up-resources notebook](clean-up-resources.ipynb) for that."
   ]
  }
 ],
 "metadata": {
  "kernelspec": {
   "display_name": "Python 3",
   "language": "python",
   "name": "python3"
  },
  "language_info": {
   "codemirror_mode": {
    "name": "ipython",
    "version": 3
   },
   "file_extension": ".py",
   "mimetype": "text/x-python",
   "name": "python",
   "nbconvert_exporter": "python",
   "pygments_lexer": "ipython3",
   "version": "3.13.3"
  }
 },
 "nbformat": 4,
 "nbformat_minor": 2
}
