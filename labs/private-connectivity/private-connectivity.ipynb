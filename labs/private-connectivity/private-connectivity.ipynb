{
 "cells": [
  {
   "cell_type": "markdown",
   "metadata": {},
   "source": [
    "# APIM ❤️ OpenAI\n",
    "\n",
    "## Private connectivity lab\n",
    "![flow](./architecture.png)\n",
    "\n",
    "Playground to show how to create a private network for consuming LLMs from `AI Services`.\n",
    "This lab demonstrates how to create a private network for consuming LLMs from `AI Services` using `Private Link Services`, `Azure API Management (APIM)`, and `Azure Front Door`.\n",
    "\n",
    "Notes:\n",
    "- `Azure OpenAI` is only accessible through `Private Endpoints`. Public network access is disabled.\n",
    "- `Azure API Management` is integrated in the private network and is used to manage the traffic to the `Azure OpenAI` service through `Private Endpoints`.\n",
    "- `Azure API Management` is not accessible from a public network. The only access is through `Azure Front Door`.\n",
    "- `Azure Front Door` manages the traffic to the `Azure API Management` service through `Private Link Service`.\n",
    "- **`Azure Front Door` is the only publicly-accessible service.**\n",
    "\n",
    "### Prerequisites\n",
    "- [Python 3.12 or later version](https://www.python.org/) installed\n",
    "- [Pandas Library](https://pandas.pydata.org/) and matplotlib installed\n",
    "- [VS Code](https://code.visualstudio.com/) installed with the [Jupyter notebook extension](https://marketplace.visualstudio.com/items?itemName=ms-toolsai.jupyter) enabled\n",
    "- [Azure CLI](https://learn.microsoft.com/cli/azure/install-azure-cli) installed\n",
    "- [An Azure Subscription](https://azure.microsoft.com/free/) with Contributor permissions\n",
    "- [Access granted to Azure OpenAI](https://aka.ms/oai/access) or just enable the mock service\n",
    "- [Sign in to Azure with Azure CLI](https://learn.microsoft.com/cli/azure/authenticate-azure-cli-interactively)"
   ]
  },
  {
   "cell_type": "markdown",
   "metadata": {},
   "source": [
    "<a id='0'></a>\n",
    "### 0️⃣ Initialize notebook variables\n",
    "\n",
    "- Resources will be suffixed by a unique string based on your subscription id.\n",
    "- Adjust the location parameters according your preferences and on the [product availability by Azure region.](https://azure.microsoft.com/explore/global-infrastructure/products-by-region/?cdn=disable&products=cognitive-services,api-management)\n",
    "- Adjust the OpenAI model and version according the [availability by region.](https://learn.microsoft.com/azure/ai-services/openai/concepts/models) "
   ]
  },
  {
   "cell_type": "code",
   "execution_count": 11,
   "metadata": {},
   "outputs": [
    {
     "name": "stdout",
     "output_type": "stream",
     "text": [
      "✅ \u001b[1;32mNotebook initialized\u001b[0m ⌚ 22:59:52.916927 \n"
     ]
    }
   ],
   "source": [
    "import os, sys, json\n",
    "sys.path.insert(1, '../../shared')  # add the shared directory to the Python path\n",
    "import utils\n",
    "\n",
    "deployment_name = os.path.basename(os.path.dirname(globals()['__vsc_ipynb_file__']))\n",
    "resource_group_name = f\"lab-25-{deployment_name}\" # change the name to match your naming style\n",
    "resource_group_location = \"francecentral\"\n",
    "\n",
    "apim_sku = 'Standardv2'\n",
    "\n",
    "# Prioritize East US until exhaustion (simulate PTU with TPM), then equally distribute between Sweden and West US (consumption fallback)\n",
    "openai_resources = [\n",
    "    {\"name\": \"openai1\", \"capacity\": 20, \"location\": \"eastus\", \"priority\": 1},\n",
    "    {\"name\": \"openai2\", \"capacity\": 20, \"location\": \"swedencentral\", \"priority\": 2, \"weight\": 50},\n",
    "    {\"name\": \"openai3\", \"capacity\": 20, \"location\": \"westus\", \"priority\": 2, \"weight\": 50}\n",
    "]\n",
    "\n",
    "openai_deployment_name = \"gpt-4o-mini\"\n",
    "openai_model_name = \"gpt-4o-mini\"\n",
    "openai_model_version = \"2024-07-18\"\n",
    "openai_model_capacity = 8\n",
    "openai_model_sku = 'Standard'\n",
    "openai_api_version = \"2024-02-01\"\n",
    "\n",
    "utils.print_ok('Notebook initialized')"
   ]
  },
  {
   "cell_type": "markdown",
   "metadata": {},
   "source": [
    "<a id='1'></a>\n",
    "### 1️⃣ Verify the Azure CLI and the connected Azure subscription\n",
    "\n",
    "The following commands ensure that you have the latest version of the Azure CLI and that the Azure CLI is connected to your Azure subscription."
   ]
  },
  {
   "cell_type": "code",
   "execution_count": 12,
   "metadata": {},
   "outputs": [
    {
     "name": "stdout",
     "output_type": "stream",
     "text": [
      "⚙️ \u001b[1;34mRunning: az account show \u001b[0m\n",
      "✅ \u001b[1;32mRetrieved az account\u001b[0m ⌚ 22:59:58.125007 [0m:1s]\n",
      "👉🏽 \u001b[1;34mCurrent user: admin@MngEnvMCAP784683.onmicrosoft.com\u001b[0m\n",
      "👉🏽 \u001b[1;34mTenant ID: 93139d1e-a3c1-4d78-9ed5-878be090eba4\u001b[0m\n",
      "👉🏽 \u001b[1;34mSubscription ID: dcef7009-6b94-4382-afdc-17eb160d709a\u001b[0m\n",
      "✅ \u001b[1;32mRetrieved az account\u001b[0m ⌚ 22:59:58.125007 [0m:1s]\n",
      "👉🏽 \u001b[1;34mCurrent user: admin@MngEnvMCAP784683.onmicrosoft.com\u001b[0m\n",
      "👉🏽 \u001b[1;34mTenant ID: 93139d1e-a3c1-4d78-9ed5-878be090eba4\u001b[0m\n",
      "👉🏽 \u001b[1;34mSubscription ID: dcef7009-6b94-4382-afdc-17eb160d709a\u001b[0m\n"
     ]
    }
   ],
   "source": [
    "output = utils.run(\"az account show\", \"Retrieved az account\", \"Failed to get the current az account\")\n",
    "\n",
    "if output.success and output.json_data:\n",
    "    current_user = output.json_data['user']['name']\n",
    "    tenant_id = output.json_data['tenantId']\n",
    "    subscription_id = output.json_data['id']\n",
    "\n",
    "    utils.print_info(f\"Current user: {current_user}\")\n",
    "    utils.print_info(f\"Tenant ID: {tenant_id}\")\n",
    "    utils.print_info(f\"Subscription ID: {subscription_id}\")"
   ]
  },
  {
   "cell_type": "code",
   "execution_count": 13,
   "metadata": {},
   "outputs": [],
   "source": [
    "vmSshPublicKey = \"\" # read file at path C:/Users/hodellai/.ssh/id_rsa.pub\n",
    "if os.path.exists(\"C:/Users/hodellai/.ssh/id_rsa.pub\"):\n",
    "    with open(\"C:/Users/hodellai/.ssh/id_rsa.pub\", \"r\") as file:\n",
    "        vmSshPublicKey = file.read().strip()"
   ]
  },
  {
   "cell_type": "markdown",
   "metadata": {},
   "source": [
    "<a id='2'></a>\n",
    "### 2️⃣ Create deployment using 🦾 Bicep\n",
    "\n",
    "This lab uses [Bicep](https://learn.microsoft.com/azure/azure-resource-manager/bicep/overview?tabs=bicep) to declarative define all the resources that will be deployed in the specified resource group. Change the parameters or the [main.bicep](main.bicep) directly to try different configurations."
   ]
  },
  {
   "cell_type": "code",
   "execution_count": 18,
   "metadata": {},
   "outputs": [
    {
     "name": "stdout",
     "output_type": "stream",
     "text": [
      "⚙️ \u001b[1;34mRunning: az group show --name lab-25-private-connectivity \u001b[0m\n",
      "👉🏽 \u001b[1;34mUsing existing resource group 'lab-25-private-connectivity'\u001b[0m\n",
      "⚙️ \u001b[1;34mRunning: az deployment group create --name private-connectivity --resource-group lab-25-private-connectivity --template-file main.bicep --parameters params.json \u001b[0m\n",
      "✅ \u001b[1;32mDeployment 'private-connectivity' succeeded\u001b[0m ⌚ 22:08:03.698415 [1m:47s]\n"
     ]
    }
   ],
   "source": [
    "# Create the resource group if doesn't exist\n",
    "utils.create_resource_group(resource_group_name, resource_group_location)\n",
    "\n",
    "# Define the Bicep parameters\n",
    "bicep_parameters = {\n",
    "    \"$schema\": \"https://schema.management.azure.com/schemas/2019-04-01/deploymentParameters.json#\",\n",
    "    \"contentVersion\": \"1.0.0.0\",\n",
    "    \"parameters\": {\n",
    "        \"apimSku\": { \"value\": apim_sku },\n",
    "        \"openAIConfig\": { \"value\": openai_resources },\n",
    "        \"openAIDeploymentName\": { \"value\": openai_deployment_name },\n",
    "        \"openAIModelName\": { \"value\": openai_model_name },\n",
    "        \"openAIModelVersion\": { \"value\": openai_model_version },\n",
    "        \"apimPublicNetworkAccess\": { \"value\": \"Enabled\" },\n",
    "        \"vmSshPublicKey\": { \"value\": vmSshPublicKey },\n",
    "    }\n",
    "}\n",
    "\n",
    "# Write the parameters to the params.json file\n",
    "with open('params.json', 'w') as bicep_parameters_file:\n",
    "    bicep_parameters_file.write(json.dumps(bicep_parameters))\n",
    "\n",
    "# Run the deployment\n",
    "output = utils.run(f\"az deployment group create --name {deployment_name} --resource-group {resource_group_name} --template-file main.bicep --parameters params.json\",\n",
    "    f\"Deployment '{deployment_name}' succeeded\", f\"Deployment '{deployment_name}' failed\")"
   ]
  },
  {
   "cell_type": "markdown",
   "metadata": {},
   "source": [
    "<a id='3'></a>\n",
    "### 3️⃣ Approve Front Door private link connection to APIM\n",
    "\n",
    "In the deployed Bicep template, Azure Front Door will establish a private link connection to the API Management service. This connection should be approved. Run the following command to approve the connection."
   ]
  },
  {
   "cell_type": "code",
   "execution_count": 4,
   "metadata": {},
   "outputs": [
    {
     "name": "stdout",
     "output_type": "stream",
     "text": [
      "⚙️ \u001b[1;34mRunning: az deployment group show --name private-connectivity -g lab-25-private-connectivity \u001b[0m\n",
      "✅ \u001b[1;32mRetrieved deployment: private-connectivity\u001b[0m ⌚ 10:11:25.502154 [0m:2s]\n",
      "👉🏽 \u001b[1;34mapimResourceId: /subscriptions/dcef7009-6b94-4382-afdc-17eb160d709a/resourceGroups/lab-25-private-connectivity/providers/Microsoft.ApiManagement/service/apim-nrzp5vaasb57o\u001b[0m\n",
      "⚙️ \u001b[1;34mRunning: az network private-endpoint-connection list --id /subscriptions/dcef7009-6b94-4382-afdc-17eb160d709a/resourceGroups/lab-25-private-connectivity/providers/Microsoft.ApiManagement/service/apim-nrzp5vaasb57o --query [?properties.privateLinkServiceConnectionState.status=='Pending'].id --output tsv \u001b[0m\n",
      "/subscriptions/dcef7009-6b94-4382-afdc-17eb160d709a/resourceGroups/lab-25-private-connectivity/providers/Microsoft.ApiManagement/service/apim-nrzp5vaasb57o/privateEndpointConnections/84021e47-5ae2-4c9e-bda2-775cd039f277\n",
      "\n",
      "⚙️ \u001b[1;34mRunning: az network private-endpoint-connection approve --id /subscriptions/dcef7009-6b94-4382-afdc-17eb160d709a/resourceGroups/lab-25-private-connectivity/providers/Microsoft.ApiManagement/service/apim-nrzp5vaasb57o/privateEndpointConnections/84021e47-5ae2-4c9e-bda2-775cd039f277\n",
      " --description 'Approved' \u001b[0m\n",
      "✅ \u001b[1;32mPrivate Link Connection approved.\u001b[0m ⌚ 10:14:27.065854 [2m:58s]\n"
     ]
    }
   ],
   "source": [
    "# Obtain all of the outputs from the deployment\n",
    "output = utils.run(f\"az deployment group show --name {deployment_name} -g {resource_group_name}\", f\"Retrieved deployment: {deployment_name}\", f\"Failed to retrieve deployment: {deployment_name}\")\n",
    "\n",
    "if output.success and output.json_data:\n",
    "    apim_resource_id = utils.get_deployment_output(output, 'apimResourceId', 'apimResourceId')\n",
    "\n",
    "    outputPls = utils.run(f\"az network private-endpoint-connection list --id {apim_resource_id} --query [?properties.privateLinkServiceConnectionState.status=='Pending'].id --output tsv\")\n",
    "    \n",
    "    if outputPls.success:\n",
    "        pls_connection_id = outputPls.text\n",
    "        print(pls_connection_id)\n",
    "        utils.run(f\"az network private-endpoint-connection approve --id {pls_connection_id} --description 'Approved'\", f\"Private Link Connection approved.\", f\"Failed to approve Private Link Connection: {pls_connection_id}\")"
   ]
  },
  {
   "cell_type": "markdown",
   "metadata": {},
   "source": [
    "<a id='4'></a>\n",
    "### 4️⃣ Disabling APIM public network access\n",
    "\n",
    "As of May 2025, during the creation, the `APIM` service cannot disable the public network access. This behavior might change in the future. As a workaround, you can disable the public network access after the deployment is completed. To do that, you can run the Bicep template again after changing the `apimPublicNetworkAccess` parameter to `Disabled`. This will update the APIM service and disable the public network access."
   ]
  },
  {
   "cell_type": "code",
   "execution_count": 5,
   "metadata": {},
   "outputs": [
    {
     "name": "stdout",
     "output_type": "stream",
     "text": [
      "⚙️ \u001b[1;34mRunning: az deployment group create --name private-connectivity --resource-group lab-25-private-connectivity --template-file main.bicep --parameters params.json \u001b[0m\n",
      "✅ \u001b[1;32mDeployment 'private-connectivity' succeeded\u001b[0m ⌚ 10:18:29.472448 [4m:2s]\n"
     ]
    }
   ],
   "source": [
    "bicep_parameters['parameters']['apimPublicNetworkAccess']['value'] = \"Disabled\"\n",
    "\n",
    "# Write the parameters to the params.json file\n",
    "with open('params.json', 'w') as bicep_parameters_file:\n",
    "    bicep_parameters_file.write(json.dumps(bicep_parameters))\n",
    "\n",
    "# Run the deployment\n",
    "output = utils.run(f\"az deployment group create --name {deployment_name} --resource-group {resource_group_name} --template-file main.bicep --parameters params.json\",\n",
    "    f\"Deployment '{deployment_name}' succeeded\", f\"Deployment '{deployment_name}' failed\")"
   ]
  },
  {
   "cell_type": "markdown",
   "metadata": {},
   "source": [
    "<a id='5'></a>\n",
    "### 5️⃣ Get the deployment outputs\n",
    "\n",
    "Retrieve the required outputs from the Bicep deployment."
   ]
  },
  {
   "cell_type": "code",
   "execution_count": 13,
   "metadata": {},
   "outputs": [
    {
     "name": "stdout",
     "output_type": "stream",
     "text": [
      "⚙️ \u001b[1;34mRunning: az deployment group show --name private-connectivity -g lab-25-private-connectivity \u001b[0m\n",
      "✅ \u001b[1;32mRetrieved deployment: private-connectivity\u001b[0m ⌚ 23:00:16.747454 [0m:3s]\n",
      "👉🏽 \u001b[1;34mFront Door Endpoint: afd-tcnui4s53u4bm-e3e6fpe2a2hga6gh.b01.azurefd.net\u001b[0m\n",
      "👉🏽 \u001b[1;34mAPIM API Gateway URL: https://apim-nrzp5vaasb57o.azure-api.net\u001b[0m\n",
      "👉🏽 \u001b[1;34mAPIM Subscription Key (masked): ****aaa5\u001b[0m\n",
      "✅ \u001b[1;32mRetrieved deployment: private-connectivity\u001b[0m ⌚ 23:00:16.747454 [0m:3s]\n",
      "👉🏽 \u001b[1;34mFront Door Endpoint: afd-tcnui4s53u4bm-e3e6fpe2a2hga6gh.b01.azurefd.net\u001b[0m\n",
      "👉🏽 \u001b[1;34mAPIM API Gateway URL: https://apim-nrzp5vaasb57o.azure-api.net\u001b[0m\n",
      "👉🏽 \u001b[1;34mAPIM Subscription Key (masked): ****aaa5\u001b[0m\n"
     ]
    }
   ],
   "source": [
    "# Obtain all of the outputs from the deployment\n",
    "output = utils.run(f\"az deployment group show --name {deployment_name} -g {resource_group_name}\", f\"Retrieved deployment: {deployment_name}\", f\"Failed to retrieve deployment: {deployment_name}\")\n",
    "\n",
    "if output.success and output.json_data:\n",
    "    frontdoor_endpoint = utils.get_deployment_output(output, 'frontDoorEndpointHostName', 'Front Door Endpoint')\n",
    "    apim_resource_gateway_url = utils.get_deployment_output(output, 'apimResourceGatewayURL', 'APIM API Gateway URL')\n",
    "    apim_subscription_key = utils.get_deployment_output(output, 'apimSubscriptionKey', 'APIM Subscription Key (masked)', True)"
   ]
  },
  {
   "cell_type": "markdown",
   "metadata": {},
   "source": [
    "<a id='6'></a>\n",
    "### 6️⃣ 🧪 Test the API using a direct HTTP call through Frontdoor\n",
    "\n",
    "Requests is an elegant and simple HTTP library for Python that will be used here to make raw API requests and inspect the responses. "
   ]
  },
  {
   "cell_type": "code",
   "execution_count": 35,
   "metadata": {},
   "outputs": [
    {
     "name": "stdout",
     "output_type": "stream",
     "text": [
      "Response status code: 200\n",
      "💬 Oh, sure! Just let me pull out my crystal ball… Oh wait, I can't see the time from here. How about you just check your phone or something? You know, that device you probably have glued to your hand?\n",
      "\n"
     ]
    }
   ],
   "source": [
    "import requests\n",
    "\n",
    "def call_api(resource_url):\n",
    "    url = f\"{resource_url}/openai/deployments/{openai_deployment_name}/chat/completions?api-version={openai_api_version}\"\n",
    "\n",
    "    messages = {\"messages\": [\n",
    "        {\"role\": \"system\", \"content\": \"You are a sarcastic, unhelpful assistant.\"},\n",
    "        {\"role\": \"user\", \"content\": \"Can you tell me the time, please?\"}\n",
    "    ]}\n",
    "\n",
    "    response = requests.post(url, headers = {'api-key':apim_subscription_key}, json = messages)\n",
    "\n",
    "    print(f\"Response status code: {response.status_code}\")\n",
    "\n",
    "    if (response.status_code == 200):\n",
    "        data = json.loads(response.text)\n",
    "        print(f\"💬 {data.get('choices')[0].get('message').get('content')}\\n\")\n",
    "    else:\n",
    "        print(f\"{response.text}\\n\")\n",
    "\n",
    "call_api(f\"https://{frontdoor_endpoint}\")"
   ]
  },
  {
   "cell_type": "markdown",
   "metadata": {},
   "source": [
    "<a id='7'></a>\n",
    "### 7️⃣ 🧪 Test APIM API access through public network\n",
    "\n",
    "APIM is not accessible from public network. The only way to access it is through Azure Front Door. This test should fail with a 403 error."
   ]
  },
  {
   "cell_type": "code",
   "execution_count": 8,
   "metadata": {},
   "outputs": [
    {
     "name": "stdout",
     "output_type": "stream",
     "text": [
      "Response status code: 403\n",
      "{ \"statusCode\": 403, \"message\": \"Request originated from client public IP address 74.241.135.213, public network access on this `Microsoft.ApiManagement/service/apim-nrzp5vaasb57o` is disabled. To connect to `Microsoft.ApiManagement/service/apim-nrzp5vaasb57o`, please use the Private Endpoint from inside your virtual network. To learn more https://aka.ms/apim-privateendpoint \" }\n",
      "\n"
     ]
    }
   ],
   "source": [
    "call_api(apim_resource_gateway_url)"
   ]
  },
  {
   "cell_type": "markdown",
   "metadata": {},
   "source": [
    "<a id='8'></a>\n",
    "### 8 🧪 Test APIM API access through private virtual network\n",
    "\n",
    "APIM is accessible in the private virtual network through a `Private Endpoint`. This means that any resource within this network can communicate securely with the APIM service. To validate this behavior, the Bicep template creates an `Azure virtual machine` that will act as a `jumpbox`. This VM is deployed in the same virtual network as the APIM service and has access to it.\n",
    "The following code will generate a `cUrl` command that will test the API access and copy it into a `script-call-apim.sh` file. This script will be executed in the jumpbox vm through the `az vm run-command invoke` command."
   ]
  },
  {
   "cell_type": "code",
   "execution_count": 33,
   "metadata": {},
   "outputs": [
    {
     "name": "stdout",
     "output_type": "stream",
     "text": [
      "Script written to script-call-apim.sh\n"
     ]
    }
   ],
   "source": [
    "script = f'''curl -X POST \"{apim_resource_gateway_url}/openai/deployments/{openai_deployment_name}/chat/completions?api-version={openai_api_version}\" \\\\\n",
    "  -H \"Content-Type: application/json\" \\\\\n",
    "  -H \"api-key: {apim_subscription_key}\" \\\\\n",
    "  -d '{{\"messages\": [ \n",
    "        {{\"role\": \"system\", \"content\": \"You are a helpful assistant.\"}}, \n",
    "        {{\"role\": \"user\", \"content\": \"What are 3 things to visit in Seattle?\"}} \n",
    "      ]}}'\n",
    "'''\n",
    "\n",
    "# write it to a file called script.sh\n",
    "with open(\"script-call-apim.sh\", \"w\") as f:\n",
    "    f.write(script)\n",
    "    print(\"Script written to script-call-apim.sh\")"
   ]
  },
  {
   "cell_type": "markdown",
   "metadata": {},
   "source": [
    "Let's now run the script in the jumpbox VM to test the API access through the private virtual network. The command will be executed in the jumpbox VM and will return the response from the APIM service."
   ]
  },
  {
   "cell_type": "code",
   "execution_count": 34,
   "metadata": {},
   "outputs": [
    {
     "name": "stdout",
     "output_type": "stream",
     "text": [
      "{\n",
      "  \"value\": [\n",
      "    {\n",
      "      \"code\": \"ProvisioningState/succeeded\",\n",
      "      \"displayStatus\": \"Provisioning succeeded\",\n",
      "      \"level\": \"Info\",\n",
      "      \"message\": \"Enable succeeded: \\n[stdout]\\n{\\\"choices\\\":[{\\\"content_filter_results\\\":{\\\"hate\\\":{\\\"filtered\\\":false,\\\"severity\\\":\\\"safe\\\"},\\\"self_harm\\\":{\\\"filtered\\\":false,\\\"severity\\\":\\\"safe\\\"},\\\"sexual\\\":{\\\"filtered\\\":false,\\\"severity\\\":\\\"safe\\\"},\\\"violence\\\":{\\\"filtered\\\":false,\\\"severity\\\":\\\"safe\\\"}},\\\"finish_reason\\\":\\\"stop\\\",\\\"index\\\":0,\\\"message\\\":{\\\"annotations\\\":[],\\\"content\\\":\\\"Seattle is a vibrant city with plenty to see and do. Here are three must-visit attractions:\\\\n\\\\n1. **Space Needle**: This iconic landmark offers stunning views of the Seattle skyline, Puget Sound, and the surrounding mountains. You can take an elevator to the observation deck, which provides a 360-degree view of the city.\\\\n\\\\n2. **Pike Place Market**: One of the oldest continuously operated public farmers' markets in the U.S., Pike Place Market is a bustling hub for fresh produce, artisan goods, and unique boutique shops. Don�t miss the famous fish-throwing vendors and the original Starbucks.\\\\n\\\\n3. **Chihuly Garden and Glass**: Located near the Space Needle, this exhibition showcases the breathtaking glass artwork of Dale Chihuly. The stunning indoor galleries and the outdoor garden feature vibrant glass sculptures that blend beautifully with the surrounding landscape.\\\\n\\\\nThese attractions provide a great mix of culture, art, and the unique character of Seattle!\\\",\\\"refusal\\\":null,\\\"role\\\":\\\"assistant\\\"}}],\\\"created\\\":1747462405,\\\"id\\\":\\\"chatcmpl-BY55RGJnRecZuRnR7IGpUHMrgmEqk\\\",\\\"model\\\":\\\"gpt-4o-mini-2024-07-18\\\",\\\"object\\\":\\\"chat.completion\\\",\\\"prompt_filter_results\\\":[{\\\"prompt_index\\\":0,\\\"content_filter_results\\\":{\\\"hate\\\":{\\\"filtered\\\":false,\\\"severity\\\":\\\"safe\\\"},\\\"self_harm\\\":{\\\"filtered\\\":false,\\\"severity\\\":\\\"safe\\\"},\\\"sexual\\\":{\\\"filtered\\\":false,\\\"severity\\\":\\\"safe\\\"},\\\"violence\\\":{\\\"filtered\\\":false,\\\"severity\\\":\\\"safe\\\"}}}],\\\"system_fingerprint\\\":\\\"fp_7a53abb7a2\\\",\\\"usage\\\":{\\\"completion_tokens\\\":195,\\\"completion_tokens_details\\\":{\\\"accepted_prediction_tokens\\\":0,\\\"audio_tokens\\\":0,\\\"reasoning_tokens\\\":0,\\\"rejected_prediction_tokens\\\":0},\\\"prompt_tokens\\\":27,\\\"prompt_tokens_details\\\":{\\\"audio_tokens\\\":0,\\\"cached_tokens\\\":0},\\\"total_tokens\\\":222}}\\n\\n[stderr]\\n  % Total    % Received % Xferd  Average Speed   Time    Time     Time  Current\\n                                 Dload  Upload   Total   Spent    Left  Speed\\n\\r  0     0    0     0    0     0      0      0 --:--:-- --:--:-- --:--:--     0\\r100   175    0     0  100   175      0    169  0:00:01  0:00:01 --:--:--   170\\r100   175    0     0  100   175      0     86  0:00:02  0:00:02 --:--:--    86\\r100  2176  100  2001  100   175    819     71  0:00:02  0:00:02 --:--:--   891\\n\",\n",
      "      \"time\": null\n",
      "    }\n",
      "  ]\n",
      "}\n"
     ]
    }
   ],
   "source": [
    "! az vm run-command invoke -g lab-25-private-connectivity -n vm-jumpbox --command-id RunShellScript --scripts @script-call-apim.sh"
   ]
  },
  {
   "cell_type": "code",
   "execution_count": null,
   "metadata": {},
   "outputs": [
    {
     "name": "stdout",
     "output_type": "stream",
     "text": [
      "\n",
      "🤖 OpenAI Assistant's Response via SSH:\n",
      "\n",
      "Seattle is a vibrant city with many attractions to explore. Here are three must-visit places:\n",
      "\n",
      "1. **Pike Place Market**: This iconic market is famous for its fresh produce, unique shops, and the original Starbucks coffee shop. Visitors can enjoy watching the fishmongers throwing fish, explore various artisan stands, and sample local foods. The market is also home to crafts and seafood stalls, making it a lively place to experience Seattle's local culture.\n",
      "\n",
      "2. **Space Needle**: A symbol of Seattle, the Space Needle offers stunning panoramic views of the city, Mount Rainier, and Puget Sound from its observation deck. Visitors can take an elevator to the top and enjoy the breathtaking scenery. The Space Needle features a rotating restaurant and often hosts events and exhibits.\n",
      "\n",
      "3. **Chihuly Garden and Glass**: Located right next to the Space Needle, this stunning exhibition showcases the incredible glass art of Dale Chihuly. The indoor galleries and the outdoor garden feature amazing glass sculptures that blend art and nature. Itâ€™s a visually breathtaking experience that highlights the beauty and innovation of glass artistry.\n",
      "\n",
      "These three attractions provide a great mix of cultural, culinary, and artistic experiences in Seattle!\n"
     ]
    }
   ],
   "source": [
    "# Use a Python-based approach to execute SSH and only capture the relevant output\n",
    "import subprocess\n",
    "\n",
    "try:\n",
    "    # Run SSH command but capture output programmatically\n",
    "    ssh_command = [\n",
    "        \"ssh\", \"-q\", \"-i\", \"C:/Users/hodellai/.ssh/id_rsa\", \n",
    "        \"azureuser@4.233.66.65\",\n",
    "        \"\"\"curl -s -X POST 'https://apim-nrzp5vaasb57o.azure-api.net/openai/deployments/gpt-4o-mini/chat/completions?api-version=2024-02-01' \\\n",
    "        -H 'Content-Type: application/json' \\\n",
    "        -H 'api-key: c866b266032040a499e77433094caaa5' \\\n",
    "        -d '{\"messages\": [{\"role\": \"system\", \"content\": \"You are a helpful assistant.\"}, \\\n",
    "        {\"role\": \"user\", \"content\": \"What are 3 things to visit in Seattle?\"}]}' | jq -r .choices[0].message.content\"\"\"\n",
    "    ]\n",
    "    \n",
    "    # Execute the command and capture output\n",
    "    result = subprocess.run(ssh_command, capture_output=True, text=True)\n",
    "    \n",
    "    # Display only the OpenAI response (clean output)\n",
    "    print(\"\\n🤖 OpenAI Assistant's Response via SSH:\\n\")\n",
    "    print(result.stdout.strip())\n",
    "    \n",
    "except Exception as e:\n",
    "    print(f\"Error executing SSH command: {e}\")"
   ]
  },
  {
   "cell_type": "code",
   "execution_count": 94,
   "metadata": {},
   "outputs": [
    {
     "name": "stdout",
     "output_type": "stream",
     "text": [
      "{\n",
      "  \"value\": [\n",
      "    {\n",
      "      \"code\": \"ProvisioningState/succeeded\",\n",
      "      \"displayStatus\": \"Provisioning succeeded\",\n",
      "      \"level\": \"Info\",\n",
      "      \"message\": \"Enable succeeded: \\n[stdout]\\n\\\"Seattle is a vibrant city with many attractions. Here are three must-visit places:\\\\n\\\\n1. **Pike Place Market**: This iconic market is one of Seattle's most famous attractions. It features a variety of local vendors selling fresh produce, seafood, crafts, and specialty foods. Be sure to check out the famous fish-throwing vendors and visit the original Starbucks store.\\\\n\\\\n2. **Space Needle**: A symbol of Seattle, the Space Needle offers stunning views of the city and the surrounding mountains. You can take an elevator to the observation deck to enjoy panoramic views, and on clear days, you can see as far as Mount Rainier.\\\\n\\\\n3. **Chihuly Garden and Glass**: Located next to the Space Needle, this exhibition showcases the extraordinary glass artwork of artist Dale Chihuly. The indoor galleries and outdoor garden display stunning glass sculptures and are beautifully integrated into the landscape, making it a unique experience.\\\\n\\\\nThese attractions provide a great mix of Seattle's culture, art, and stunning views.\\\"\\n\\n[stderr]\\n  % Total    % Received % Xferd  Average Speed   Time    Time     Time  Current\\n                                 Dload  Upload   Total   Spent    Left  Speed\\n\\r  0     0    0     0    0     0      0      0 --:--:-- --:--:-- --:--:--     0\\r100   158    0     0  100   158      0    150  0:00:01  0:00:01 --:--:--   150\\r100   158    0     0  100   158      0     77  0:00:02  0:00:02 --:--:--    77\\r100  2206  100  2048  100   158    742     57  0:00:02  0:00:02 --:--:--   799\\r100  2206  100  2048  100   158    742     57  0:00:02  0:00:02 --:--:--   799\\n\",\n",
      "      \"time\": null\n",
      "    }\n",
      "  ]\n",
      "}\n"
     ]
    }
   ],
   "source": [
    "! az vm run-command invoke -g lab-25-private-connectivity -n vm-jumpbox --command-id RunShellScript --scripts \"curl -X POST 'https://apim-nrzp5vaasb57o.azure-api.net/openai/deployments/gpt-4o-mini/chat/completions?api-version=2024-02-01' -H 'Content-Type: application/json' -H 'api-key: c866b266032040a499e77433094caaa5' -d '{\\\"messages\\\": [  {\\\"role\\\": \\\"system\\\", \\\"content\\\": \\\"You are a helpful assistant.\\\"},   {\\\"role\\\": \\\"user\\\", \\\"content\\\": \\\"What are 3 things to visit in Seattle?\\\"}      ]}' | jq .choices[0].message.content\""
   ]
  },
  {
   "cell_type": "markdown",
   "metadata": {},
   "source": [
    "<a id='clean'></a>\n",
    "### 🗑️ Clean up resources\n",
    "\n",
    "When you're finished with the lab, you should remove all your deployed resources from Azure to avoid extra charges and keep your Azure subscription uncluttered.\n",
    "Use the [clean-up-resources notebook](clean-up-resources.ipynb) for that."
   ]
  }
 ],
 "metadata": {
  "kernelspec": {
   "display_name": "Python 3",
   "language": "python",
   "name": "python3"
  },
  "language_info": {
   "codemirror_mode": {
    "name": "ipython",
    "version": 3
   },
   "file_extension": ".py",
   "mimetype": "text/x-python",
   "name": "python",
   "nbconvert_exporter": "python",
   "pygments_lexer": "ipython3",
   "version": "3.13.3"
  }
 },
 "nbformat": 4,
 "nbformat_minor": 2
}
