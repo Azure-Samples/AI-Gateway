{
 "cells": [
  {
   "cell_type": "markdown",
   "metadata": {},
   "source": [
    "# APIM ❤️ OpenAI\n",
    "\n",
    "## Backend Circuit Breaking lab\n",
    "![flow](../../images/backend-circuit-breaking.gif)\n",
    "\n",
    "Playground to try the built-in [backend circuit breaker functionality of APIM](https://learn.microsoft.com/en-us/azure/api-management/backends?tabs=bicep) to either an Azure OpenAI endpoints or a mock server.\n",
    "\n",
    "### Prerequisites\n",
    "- [Python 3.8 or later version](https://www.python.org/) installed\n",
    "- [VS Code](https://code.visualstudio.com/) installed with the [Jupyter notebook extension](https://marketplace.visualstudio.com/items?itemName=ms-toolsai.jupyter) enabled\n",
    "- [Azure CLI](https://learn.microsoft.com/en-us/cli/azure/install-azure-cli) installed\n",
    "- [An Azure Subscription](https://azure.microsoft.com/en-us/free/) with Contributor permissions\n",
    "- [Access granted to Azure OpenAI](https://aka.ms/oai/access) or just enable the mock service\n",
    "- [Sign in to Azure with Azure CLI](https://learn.microsoft.com/en-us/cli/azure/authenticate-azure-cli-interactively)"
   ]
  },
  {
   "cell_type": "markdown",
   "metadata": {},
   "source": [
    "### 0️⃣ Initialize notebook variables\n",
    "Set ```mock_disabled``` variable to ```True``` to use this lab against a real Azure OpenAI endpoint or to ```False``` to simulate equivalent behavior with a mock server.\n",
    "- The ```mock_webapps``` variable sets the list of deployed Web Apps for the mocking functionality.\n",
    "- Adjust the location parameters according your preferences and on the [product availability by Azure region.](https://azure.microsoft.com/en-us/explore/global-infrastructure/products-by-region/?cdn=disable&products=cognitive-services,api-management) \n",
    "- Adjust the OpenAI model and version according the [availability by region.](https://learn.microsoft.com/en-us/azure/ai-services/openai/concepts/models) "
   ]
  },
  {
   "cell_type": "code",
   "execution_count": null,
   "metadata": {
    "metadata": {}
   },
   "outputs": [],
   "source": [
    "import os\n",
    "import json\n",
    "import datetime\n",
    "import requests\n",
    "notebook_path = os.path.abspath(\"\")\n",
    "notebook_name = os.path.basename(globals()['__vsc_ipynb_file__'])\n",
    "\n",
    "lab_prefix = \"av4\" # used to ensure unique names within Azure\n",
    "mock_disabled = True\n",
    "mock_webapps = [{\"name\": \"openaimock1\"}] # ensure that the names are not being used within Azure\n",
    "resource_group = \"lab-ai-gateway\"\n",
    "apim_resource_name = lab_prefix + \"-aigw-apim\"\n",
    "apim_resource_location = \"eastus\"\n",
    "apim_resource_sku = \"Consumption\"\n",
    "openai_resources = [ {\"name\": lab_prefix + \"-aigw-openai1\", \"location\": \"eastus\"}]\n",
    "openai_resource_sku = \"S0\"\n",
    "openai_model_name = \"gpt-35-turbo\"\n",
    "openai_model_version = \"0613\"\n",
    "openai_deployment_name = \"gpt-35-turbo\"\n",
    "openai_api_version = \"2024-02-01\"\n",
    "openai_specification_url='https://raw.githubusercontent.com/Azure/azure-rest-api-specs/main/specification/cognitiveservices/data-plane/AzureOpenAI/inference/stable/' + openai_api_version + '/inference.json'"
   ]
  },
  {
   "cell_type": "markdown",
   "metadata": {},
   "source": [
    "### 1️⃣ Create the Azure Resource Group\n",
    "All resources deployed in this lab will be created in the specified resource group."
   ]
  },
  {
   "cell_type": "code",
   "execution_count": null,
   "metadata": {
    "metadata": {}
   },
   "outputs": [],
   "source": [
    "resource_group_stdout = ! az group create --name {resource_group} --location {apim_resource_location}\n",
    "if resource_group_stdout.n.startswith(\"ERROR\"):\n",
    "    print(resource_group_stdout)\n",
    "else:\n",
    "    print(\"✅ Azure Resource Group \", resource_group, \" created ⌚ \", datetime.datetime.now().time())"
   ]
  },
  {
   "cell_type": "markdown",
   "metadata": {},
   "source": [
    "### 2️⃣ Create an Azure OpenAI resource\n",
    "Azure OpenAI Service provides REST API access to OpenAI's powerful language models. The following script is based on [this quickstart](https://learn.microsoft.com/en-us/azure/ai-services/openai/how-to/create-resource?pivots=cli) and creates a new Azure OpenAI resource.\n",
    "- Note: skip this step if you have an existing resource that you want to reuse."
   ]
  },
  {
   "cell_type": "code",
   "execution_count": null,
   "metadata": {
    "metadata": {}
   },
   "outputs": [],
   "source": [
    "if mock_disabled:\n",
    "    openai_resource_name = openai_resources[0].get(\"name\")\n",
    "    openai_resource_location = openai_resources[0].get(\"location\")\n",
    "    openai_resource_stdout = ! az cognitiveservices account create --name {openai_resource_name} --resource-group {resource_group} \\\n",
    "                --kind OpenAI --sku-name {openai_resource_sku} --location {openai_resource_location} --custom-domain {openai_resource_name}\n",
    "    if openai_resource_stdout.n.startswith(\"ERROR\"):\n",
    "        print(openai_resource_stdout)\n",
    "    else:\n",
    "        print(\"✅ Azure OpenAI resource created ⌚ \", datetime.datetime.now().time())\n",
    "else:\n",
    "    print(\"🚧 Mock enabled, skipping Azure OpenAI resource creation\")"
   ]
  },
  {
   "cell_type": "markdown",
   "metadata": {},
   "source": [
    "### 3️⃣ Deploy a model\n",
    "Once you create an Azure OpenAI Resource, you must deploy a model before you can start making API calls. The script below creates a Model Deployment using the specified deployment name, model name, and model version."
   ]
  },
  {
   "cell_type": "code",
   "execution_count": null,
   "metadata": {
    "metadata": {}
   },
   "outputs": [],
   "source": [
    "if mock_disabled:\n",
    "    openai_resource_name = openai_resources[0].get(\"name\")\n",
    "    openai_deployment_stdout = ! az cognitiveservices account deployment create --name {openai_resource_name} --resource-group  {resource_group} \\\n",
    "        --deployment-name {openai_deployment_name} --model-name {openai_model_name} --model-version {openai_model_version}  --model-format OpenAI \n",
    "    if openai_deployment_stdout.n.startswith(\"ERROR\"):\n",
    "        print(openai_deployment_stdout)\n",
    "    else:\n",
    "        print(\"✅ OpenAI deployment created ⌚ \", datetime.datetime.now().time())\n",
    "else:\n",
    "    print(\"🚧 Mock enabled, skipping OpenAI deployment creation\")"
   ]
  },
  {
   "cell_type": "markdown",
   "metadata": {},
   "source": [
    "### 4️⃣ Create the API Management (APIM) resource\n",
    "APIM will act as the AI-Gateway for the OpenAI API. The following script is based on [this quickstart](https://learn.microsoft.com/en-us/azure/api-management/get-started-create-service-instance-cli).\n",
    "- Note: skip this step if you have an existing instance that you want to reuse."
   ]
  },
  {
   "cell_type": "code",
   "execution_count": null,
   "metadata": {
    "metadata": {}
   },
   "outputs": [],
   "source": [
    "apim_resource_stdout = ! az apim create -g {resource_group} -n {apim_resource_name} -l {apim_resource_location} \\\n",
    "    --sku-name {apim_resource_sku} --publisher-email noreply@microsoft.com --publisher-name Microsoft --enable-managed-identity\n",
    "if apim_resource_stdout.n.startswith(\"ERROR\"):\n",
    "    print(apim_resource_stdout)\n",
    "else:\n",
    "    print(\"✅ Azure API Management resource created ⌚ \", datetime.datetime.now().time())\n"
   ]
  },
  {
   "cell_type": "markdown",
   "metadata": {},
   "source": [
    "### 5️⃣ Get the API Management (APIM) resource details\n",
    "The APIM instance provides a [managed API Gateway](https://learn.microsoft.com/en-us/azure/api-management/api-management-gateways-overview), a [system managed identity](https://learn.microsoft.com/en-us/azure/api-management/api-management-howto-use-managed-service-identity) and a master [subscription key](https://learn.microsoft.com/en-us/azure/api-management/api-management-subscriptions). In this lab we will use the master subscription key but in production scenarios new subscription keys should be created for the API consumers."
   ]
  },
  {
   "cell_type": "code",
   "execution_count": null,
   "metadata": {
    "metadata": {}
   },
   "outputs": [],
   "source": [
    "apim_resource_stdout = ! az apim show -g {resource_group} -n {apim_resource_name}\n",
    "apim_resource = json.loads(apim_resource_stdout.n)\n",
    "apim_resource_id = apim_resource.get(\"id\")\n",
    "apim_resource_gateway_url = apim_resource.get(\"gatewayUrl\")\n",
    "apim_managed_identity = apim_resource.get(\"identity\").get(\"principalId\")\n",
    "apim_subscription_key = ! az rest --method POST --uri {apim_resource_id}/subscriptions/master/listSecrets?api-version=2022-08-01 --query primaryKey -o tsv\n",
    "apim_subscription_key = apim_subscription_key.n\n",
    "print(\"👉🏻 API Gateway URL: \", apim_resource_gateway_url)"
   ]
  },
  {
   "cell_type": "markdown",
   "metadata": {},
   "source": [
    "### 6️⃣ Assign a role to enable APIM to access OpenAI API\n",
    "This lab uses a zero trust security strategy with a key less approach using an [Azure Managed Identity](https://learn.microsoft.com/en-us/azure/ai-services/openai/how-to/managed-identity). The following script assigns the ```Cognitive Services OpenAI User``` role to the APIM managed identity so that it can access the OpenAI API. "
   ]
  },
  {
   "cell_type": "code",
   "execution_count": null,
   "metadata": {
    "metadata": {}
   },
   "outputs": [],
   "source": [
    "if mock_disabled:\n",
    "    openai_resource_name = openai_resources[0].get(\"name\")\n",
    "    openai_resource_stdout = ! az cognitiveservices account show --name {openai_resource_name} --resource-group {resource_group}\n",
    "    openai_resource = json.loads(openai_resource_stdout.n)\n",
    "    openai_resource_id = openai_resource.get(\"id\")\n",
    "    role_assignment_stdout = ! az role assignment create --assignee {apim_managed_identity} \\\n",
    "        --role \"Cognitive Services OpenAI User\" \\\n",
    "        --scope {openai_resource_id}\n",
    "    if role_assignment_stdout.n.startswith(\"ERROR\"):\n",
    "        print(role_assignment_stdout)\n",
    "    else:\n",
    "        print(\"✅ Role assignment created ⌚ \", datetime.datetime.now().time())\n",
    "else:\n",
    "    print(\"🚧 Mock enabled, skipping Role assignment\")"
   ]
  },
  {
   "cell_type": "markdown",
   "metadata": {},
   "source": [
    "### 7️⃣ Create APIM backend with the circuit breaker configuration\n",
    "The circuit breaker functionality is in Preview so this script might be updated when GA. Check [this document](https://learn.microsoft.com/en-us/azure/api-management/backends?tabs=bicep) for more details.\n",
    "- Note: ```interval``` and ```tripDuration``` parameters should be in the ISO Timespan format. In the following example, the circuit breaker trips when there are three or more 429 status codes in a 5 minutes interval. The circuit breaker resets after one minute."
   ]
  },
  {
   "cell_type": "code",
   "execution_count": null,
   "metadata": {
    "metadata": {}
   },
   "outputs": [],
   "source": [
    "if mock_disabled:\n",
    "    openai_resource_name = openai_resources[0].get(\"name\")\n",
    "    openai_resource_stdout = ! az cognitiveservices account show --name {openai_resource_name} --resource-group {resource_group}\n",
    "    openai_resource = json.loads(openai_resource_stdout.n)\n",
    "    openai_resource_endpoint = openai_resource.get(\"properties\").get(\"endpoint\")\n",
    "    print(\"👉🏻 Azure OpenAI endpoint: \", openai_resource_endpoint)    \n",
    "    backend_properties = {\n",
    "        \"properties\": {\n",
    "            \"title\": openai_resource_name + \" backend\",\n",
    "            \"url\": openai_resource_endpoint + \"/openai\",\n",
    "            \"description\": \"Backend for OpenAI resource \" + openai_resource_name,\n",
    "            \"protocol\": \"http\",\n",
    "            \"circuitBreaker\": {\n",
    "                \"rules\": [\n",
    "                    {\n",
    "                        \"failureCondition\": {\n",
    "                            \"count\": 3,\n",
    "                            \"errorReasons\": [\n",
    "                                \"Server errors\"\n",
    "                            ],\n",
    "                            \"interval\": \"PT5M\",\n",
    "                            \"statusCodeRanges\": [\n",
    "                                {\n",
    "                                \"min\": 429,\n",
    "                                \"max\": 429\n",
    "                                }\n",
    "                            ]\n",
    "                        },\n",
    "                        \"name\": \"myBreakerRule\",\n",
    "                        \"tripDuration\": \"PT1M\"\n",
    "                    }\n",
    "                ]\n",
    "            }\n",
    "        }\n",
    "    }\n",
    "    uri = apim_resource_id + \"/backends/\" + openai_resource_name + \"?api-version=2023-05-01-preview\"\n",
    "    backend_properties_text = \"\\\"\" + json.dumps(backend_properties).replace(\"\\\"\",\"\\\\\\\"\") + \"\\\"\"\n",
    "    backend_creation_stdout = ! az rest --method PUT --uri {uri} --body {backend_properties_text}\n",
    "    if backend_creation_stdout.n.startswith(\"ERROR\"):\n",
    "        print(backend_creation_stdout)\n",
    "    else:\n",
    "        print(\"✅ Backend \", openai_resource_name,\" created ⌚ \", datetime.datetime.now().time())    \n",
    "else:\n",
    "    mock_webapp_name = mock_webapps[0].get(\"name\")\n",
    "    openai_resource_endpoint = \"https://\" + mock_webapp_name + \".azurewebsites.net\"\n",
    "    print(\"🚧 Mock enabled, using Mock endpoint instead of Azure OpenAI endpoint: \", openai_resource_endpoint)\n",
    "    backend_properties = {\n",
    "        \"properties\": {\n",
    "            \"title\": mock_webapp_name + \" backend\",\n",
    "            \"url\": openai_resource_endpoint + \"/openai\",\n",
    "            \"description\": \"Backend for Mock server \" + mock_webapp_name,\n",
    "            \"protocol\": \"http\",\n",
    "            \"circuitBreaker\": {\n",
    "                \"rules\": [\n",
    "                    {\n",
    "                        \"failureCondition\": {\n",
    "                            \"count\": 3,\n",
    "                            \"errorReasons\": [\n",
    "                                \"Server errors\"\n",
    "                            ],\n",
    "                            \"interval\": \"PT5M\",\n",
    "                            \"statusCodeRanges\": [\n",
    "                                {\n",
    "                                \"min\": 429,\n",
    "                                \"max\": 429\n",
    "                                }\n",
    "                            ]\n",
    "                        },\n",
    "                        \"name\": \"myBreakerRule\",\n",
    "                        \"tripDuration\": \"PT1M\"\n",
    "                    }\n",
    "                ]\n",
    "            }\n",
    "        }\n",
    "    }\n",
    "    uri = apim_resource_id + \"/backends/\" + mock_webapp_name + \"?api-version=2023-05-01-preview\"\n",
    "    backend_properties_text = \"\\\"\" + json.dumps(backend_properties).replace(\"\\\"\",\"\\\\\\\"\") + \"\\\"\"\n",
    "    backend_creation_stdout = ! az rest --method PUT --uri {uri} --body {backend_properties_text}\n",
    "    if backend_creation_stdout.n.startswith(\"ERROR\"):\n",
    "        print(backend_creation_stdout)\n",
    "    else:\n",
    "        print(\"✅ Backend \", mock_webapp_name,\" created ⌚ \", datetime.datetime.now().time())    \n"
   ]
  },
  {
   "cell_type": "markdown",
   "metadata": {},
   "source": [
    "### 8️⃣ Import the OpenAI API into APIM\n",
    "The following script will import the OpenAI inference API using the json OpenAPI specification [publicly available](https://github.com/Azure/azure-rest-api-specs/tree/main/specification/cognitiveservices/data-plane/AzureOpenAI/inference/stable). The subscription key header name will be set to ```api-key``` to use the same name used by the OpenAI API.\n"
   ]
  },
  {
   "cell_type": "code",
   "execution_count": null,
   "metadata": {
    "metadata": {}
   },
   "outputs": [],
   "source": [
    "if mock_disabled:\n",
    "    openai_resource_stdout = ! az cognitiveservices account show --name {openai_resource_name} --resource-group {resource_group}\n",
    "    openai_resource = json.loads(openai_resource_stdout.n)\n",
    "    openai_resource_endpoint = openai_resource.get(\"properties\").get(\"endpoint\")\n",
    "    print(\"👉🏻 OpenAI endpoint: \", openai_resource_endpoint)    \n",
    "else:\n",
    "    openai_resource_endpoint = \"https://\" + mock_webapps[0].get(\"name\") + \".azurewebsites.net\" # this lab dosn't implement load balancing\n",
    "    print(\"🚧 Mock enabled, using Mock endpoint instead of Azure OpenAI endpoint: \", openai_resource_endpoint)\n",
    "apim_api_import_stdout = ! az apim api import --resource-group {resource_group} --service-name {apim_resource_name} \\\n",
    "        --api-id \"openai\" --path \"openai\" --api-type \"http\" --display-name \"OpenAI\" --description \"OpenAI inference API\" \\\n",
    "        --service-url {openai_resource_endpoint}\"/openai\" --protocols \"https\" \\\n",
    "        --specification-format OpenApiJson --specification-url {openai_specification_url} \\\n",
    "        --subscription-required true --subscription-key-header-name \"api-key\" --subscription-key-query-param-name \"api-key\"\n",
    "if apim_api_import_stdout.n.startswith(\"ERROR\"):\n",
    "    print(apim_api_import_stdout)\n",
    "else:\n",
    "    print(\"✅ API imported on \", datetime.datetime.now().time())"
   ]
  },
  {
   "cell_type": "markdown",
   "metadata": {},
   "source": [
    "### 8️⃣ Update the API Policy to get the self managed identity and send the bearer token to authenticate into Azure OpenAI\n",
    "The API policy must include the [documented policy snippet](https://learn.microsoft.com/en-us/azure/api-management/api-management-authenticate-authorize-azure-openai#authenticate-with-managed-identity) to authenticate requests to the Azure OpenAI API using the assigned managed identity.\n",
    "- Note: The functionality to add the policy through the Azure CLI [is not yet available](https://github.com/Azure/azure-cli/issues/14695) and that's why we are using the ```az rest``` command instead. \n"
   ]
  },
  {
   "cell_type": "code",
   "execution_count": null,
   "metadata": {
    "metadata": {}
   },
   "outputs": [],
   "source": [
    "if mock_disabled:\n",
    "    backend_id = openai_resources[0].get(\"name\")\n",
    "else:\n",
    "    backend_id = mock_webapps[0].get(\"name\")\n",
    "with open(notebook_path + \"/policy.xml\", 'r') as policy_xml_file:\n",
    "    policy_xml = policy_xml_file.read()\n",
    "    policy_xml = policy_xml.replace(\"{backend-id}\", backend_id)\n",
    "with open(notebook_name.replace('ipynb','json'), 'w') as policy_json_file:\n",
    "    policy_json_file.write(\"{\\\"properties\\\":{\\\"value\\\":\\\"\" + policy_xml.replace(\"\\\"\",\"\\\\\\\"\") + \"\\\"} }\")\n",
    "uri = apim_resource_id + \"/apis/openai/policies/policy?api-version=2022-09-01-preview\"\n",
    "body_file_path = \"@\" + notebook_path + \"/\" + notebook_name.replace('ipynb','json')\n",
    "apim_policy_stdout = ! az rest --method PUT --uri {uri} --body {body_file_path}\n",
    "os.remove(notebook_name.replace('ipynb','json'))\n",
    "print(\"✅ Policy updated ⌚ \", datetime.datetime.now().time())"
   ]
  },
  {
   "cell_type": "markdown",
   "metadata": {},
   "source": [
    "### 🧪 Test the API using a direct HTTP call\n",
    "Requests is an elegant and simple HTTP library for Python that will be used here to make raw API requests and inspect the responses."
   ]
  },
  {
   "cell_type": "code",
   "execution_count": null,
   "metadata": {
    "metadata": {}
   },
   "outputs": [],
   "source": [
    "url = apim_resource_gateway_url + \"/openai/deployments/\" + openai_deployment_name + \"/chat/completions?api-version=\" + openai_api_version\n",
    "if mock_disabled:\n",
    "    messages={\"messages\":[\n",
    "        {\"role\": \"system\", \"content\": \"You are a sarcastic unhelpful assistant.\"},\n",
    "        {\"role\": \"user\", \"content\": \"Can you tell me the time, please?\"}\n",
    "    ]}\n",
    "else:\n",
    "    messages={\n",
    "        \"messages\": [\n",
    "            {\n",
    "                \"role\": \"system\", \n",
    "                \"content\": {\n",
    "                    \"simulation\": {\n",
    "                        \"default\": {\"response_status_code\": 200, \"wait_time_ms\": 0},\n",
    "                        \"openaimock1.azurewebsites.net\": {\"response_status_code\": 429}\n",
    "                    }\n",
    "                }\n",
    "            }\n",
    "        ]\n",
    "    }\n",
    "response = requests.post(url, headers = {'api-key':apim_subscription_key}, json = messages)\n",
    "print(\"status code: \", response.status_code)\n",
    "print(\"headers \", response.headers)\n",
    "if (response.status_code == 200):\n",
    "    data = json.loads(response.text)\n",
    "    print(\"response: \", data.get(\"choices\")[0].get(\"message\").get(\"content\"))\n",
    "else:\n",
    "    print(response.text)"
   ]
  },
  {
   "cell_type": "markdown",
   "metadata": {},
   "source": [
    "### 🧪 Test the API using the Azure OpenAI Python SDK\n",
    "OpenAPI provides a widely used [Python library](https://github.com/openai/openai-python). The library includes type definitions for all request params and response fields. The goal of this test is to assert that APIM can seamlessly proxy requests to OpenAI without disrupting its functionality.\n",
    "- Note: run ```pip install openai``` in a terminal before executing this step."
   ]
  },
  {
   "cell_type": "code",
   "execution_count": null,
   "metadata": {
    "metadata": {}
   },
   "outputs": [],
   "source": [
    "from openai import AzureOpenAI\n",
    "if mock_disabled:\n",
    "    messages=[\n",
    "        {\"role\": \"system\", \"content\": \"You are a sarcastic unhelpful assistant.\"},\n",
    "        {\"role\": \"user\", \"content\": \"Can you tell me the time, please?\"}\n",
    "    ]\n",
    "else:\n",
    "    messages=[\n",
    "            {\n",
    "                \"role\": \"system\", \n",
    "                \"content\": {\n",
    "                    \"simulation\": {\n",
    "                        \"default\": {\"response_status_code\": 200, \"wait_time_ms\": 0}\n",
    "                    }\n",
    "                }\n",
    "            }\n",
    "        ]\n",
    "client = AzureOpenAI(\n",
    "    azure_endpoint=apim_resource_gateway_url,\n",
    "    api_key=apim_subscription_key,\n",
    "    api_version=openai_api_version\n",
    ")\n",
    "response = client.chat.completions.create(model=openai_model_name, messages=messages)\n",
    "print(response.choices[0].message.content)"
   ]
  },
  {
   "cell_type": "markdown",
   "metadata": {},
   "source": [
    "### 🗑️ Clean up resources\n",
    "\n",
    "When you're finished with the lab, you should remove all your deployed resources from Azure to avoid extra charges and keep your Azure subscription uncluttered. Removing the resource group is the fastest way to remove all Azure resources that you have created."
   ]
  },
  {
   "cell_type": "code",
   "execution_count": null,
   "metadata": {
    "metadata": {}
   },
   "outputs": [],
   "source": [
    "run_cell = True\n",
    "if run_cell:\n",
    "    ! az group delete --name {resource_group} -y\n",
    "    ! az apim deletedservice purge --service-name {apim_resource_name} --location {apim_resource_location}\n",
    "    if mock_disabled:\n",
    "        openai_resource_name = openai_resources[0].get(\"name\")\n",
    "        ! az cognitiveservices account purge -g {resource_group} -n {openai_resource_name} -l {openai_resource_location}"
   ]
  }
 ],
 "metadata": {
  "kernelspec": {
   "display_name": "Python 3",
   "language": "python",
   "name": "python3"
  },
  "language_info": {
   "codemirror_mode": {
    "name": "ipython",
    "version": 3
   },
   "file_extension": ".py",
   "mimetype": "text/x-python",
   "name": "python",
   "nbconvert_exporter": "python",
   "pygments_lexer": "ipython3",
   "version": "3.12.3"
  }
 },
 "nbformat": 4,
 "nbformat_minor": 2
}
