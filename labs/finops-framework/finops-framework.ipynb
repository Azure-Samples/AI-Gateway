{
 "cells": [
  {
   "cell_type": "markdown",
   "metadata": {},
   "source": [
    "# APIM ❤️ FinOps\n",
    "\n",
    "## FinOps Framework lab\n",
    "![flow](../../images/finops-framework.gif)\n",
    "\n",
    "This playground leverages the [FinOps Framework](https://www.finops.org/framework/) and Azure API Management to control AI costs. It uses the [token limit](https://learn.microsoft.com/en-us/azure/api-management/azure-openai-token-limit-policy) policy for each [product](https://learn.microsoft.com/en-us/azure/api-management/api-management-howto-add-products?tabs=azure-portal&pivots=interactive) and integrates [Azure Monitor alerts](https://learn.microsoft.com/en-us/azure/azure-monitor/alerts/alerts-overview) with [Logic Apps](https://learn.microsoft.com/en-us/azure/azure-monitor/alerts/alerts-logic-apps?tabs=send-email) to automatically disable APIM [subscriptions](https://learn.microsoft.com/en-us/azure/api-management/api-management-subscriptions) that exceed cost quotas.\n",
    "\n",
    "### Result\n",
    "![result](result.png)\n",
    "\n",
    "### Prerequisites\n",
    "\n",
    "- [Python 3.12 or later version](https://www.python.org/) installed\n",
    "- [VS Code](https://code.visualstudio.com/) installed with the [Jupyter notebook extension](https://marketplace.visualstudio.com/items?itemName=ms-toolsai.jupyter) enabled\n",
    "- [Python environment](https://code.visualstudio.com/docs/python/environments#_creating-environments) with the [requirements.txt](../../requirements.txt) or run `pip install -r requirements.txt` in your terminal\n",
    "- [An Azure Subscription](https://azure.microsoft.com/free/) with [Contributor](https://learn.microsoft.com/en-us/azure/role-based-access-control/built-in-roles/privileged#contributor) + [RBAC Administrator](https://learn.microsoft.com/en-us/azure/role-based-access-control/built-in-roles/privileged#role-based-access-control-administrator) or [Owner](https://learn.microsoft.com/en-us/azure/role-based-access-control/built-in-roles/privileged#owner) roles\n",
    "- [Azure CLI](https://learn.microsoft.com/cli/azure/install-azure-cli) installed and [Signed into your Azure subscription](https://learn.microsoft.com/cli/azure/authenticate-azure-cli-interactively)\n",
    "\n",
    "▶️ Click `Run All` to execute all steps sequentially, or execute them `Step by Step`...\n"
   ]
  },
  {
   "cell_type": "markdown",
   "metadata": {},
   "source": [
    "<a id='0'></a>\n",
    "### 0️⃣ Initialize notebook variables\n",
    "\n",
    "- Resources will be suffixed by a unique string based on your subscription id.\n",
    "- Adjust the location parameters according your preferences and on the [product availability by Azure region.](https://azure.microsoft.com/explore/global-infrastructure/products-by-region/?cdn=disable&products=cognitive-services,api-management) \n",
    "- Adjust the OpenAI model and version according the [availability by region.](https://learn.microsoft.com/azure/ai-services/openai/concepts/models) "
   ]
  },
  {
   "cell_type": "code",
   "execution_count": null,
   "metadata": {
    "metadata": {}
   },
   "outputs": [],
   "source": [
    "import os, sys, json\n",
    "sys.path.insert(1, '../../shared')  # add the shared directory to the Python path\n",
    "import utils\n",
    "\n",
    "deployment_name = os.path.basename(os.path.dirname(globals()['__vsc_ipynb_file__']))\n",
    "resource_group_name = f\"lab-{deployment_name}\" # change the name to match your naming style\n",
    "resource_group_location = \"westeurope\" \n",
    "\n",
    "apim_sku = 'Basicv2'\n",
    "apim_products_config = [{\"name\": \"platinum\", \"displayName\": \"Platinum Product\", \"tpm\": 2000, \"tokenQuota\": 1000000, \"tokenQuotaPeriod\": \"Monthly\", \"costQuota\": 5 },\n",
    "                    {\"name\": \"gold\", \"displayName\": \"Gold Product\", \"tpm\": 1000, \"tokenQuota\": 1000000, \"tokenQuotaPeriod\": \"Monthly\", \"costQuota\": 5}, \n",
    "                    {\"name\": \"silver\", \"displayName\": \"Silver Product\", \"tpm\": 500, \"tokenQuota\": 1000000, \"tokenQuotaPeriod\": \"Monthly\", \"costQuota\": 5}]\n",
    "apim_users_config = [ ]\n",
    "apim_subscriptions_config = [{\"name\": \"subscription1\", \"displayName\": \"Subscription 1\", \"product\": \"platinum\" },\n",
    "                    {\"name\": \"subscription2\", \"displayName\": \"Subscription 2\", \"product\": \"gold\" },\n",
    "                    {\"name\": \"subscription3\", \"displayName\": \"Subscription 3\", \"product\": \"silver\" },\n",
    "                     {\"name\": \"subscription4\", \"displayName\": \"Subscription 4\", \"product\": \"silver\" } ]\n",
    "\n",
    "openai_resource_location = \"swedencentral\"\n",
    "\n",
    "openai_deployments = [ { \"name\": \"gpt-4o-mini\", \"model\": \"gpt-4o-mini\", \"capacity\": 200, \"version\": \"2024-07-18\", \"sku\": \"GlobalStandard\", \"inputTokensMeterSku\": \"gpt-4o-mini-0718-Inp-glbl\", \"outputTokensMeterSku\": \"gpt-4o-mini-0718-Outp-glbl\" }, \n",
    "            { \"name\": \"gpt-4o\", \"model\": \"gpt-4o\", \"capacity\": 200, \"version\": \"2024-11-20\", \"sku\": \"GlobalStandard\", \"inputTokensMeterSku\": \"gpt-4o-0806-Inp-glbl\", \"outputTokensMeterSku\": \"gpt-4o-0806-Outp-glbl\" },\n",
    "            { \"name\": \"o1-mini\", \"model\": \"o1-mini\", \"capacity\": 200, \"version\": \"2024-09-12\", \"sku\": \"GlobalStandard\", \"inputTokensMeterSku\": \"o1 mini input glbl\", \"outputTokensMeterSku\": \"o1 mini output glbl\"} ]\n",
    "\n",
    "openai_api_version = \"2024-10-21\"\n",
    "currency_code = 'USD'\n",
    "\n",
    "utils.print_ok('Notebook initialized')"
   ]
  },
  {
   "cell_type": "markdown",
   "metadata": {},
   "source": [
    "<a id='1'></a>\n",
    "### 1️⃣ Verify the Azure CLI and the connected Azure subscription\n",
    "\n",
    "The following commands ensure that you have the latest version of the Azure CLI and that the Azure CLI is connected to your Azure subscription."
   ]
  },
  {
   "cell_type": "code",
   "execution_count": null,
   "metadata": {},
   "outputs": [],
   "source": [
    "output = utils.run(\"az account show\", \"Retrieved az account\", \"Failed to get the current az account\")\n",
    "\n",
    "if output.success and output.json_data:\n",
    "    current_user = output.json_data['user']['name']\n",
    "    tenant_id = output.json_data['tenantId']\n",
    "    subscription_id = output.json_data['id']\n",
    "\n",
    "    utils.print_info(f\"Current user: {current_user}\")\n",
    "    utils.print_info(f\"Tenant ID: {tenant_id}\")\n",
    "    utils.print_info(f\"Subscription ID: {subscription_id}\")\n",
    "\n",
    "output = utils.run(\"az ad signed-in-user show\", \"Retrieved az ad signed-in-user\", \"Failed to get az ad signed-in-user\")\n",
    "if output.success and output.json_data:\n",
    "    current_user_object_id = output.json_data['id']\n",
    "\n",
    "    "
   ]
  },
  {
   "cell_type": "markdown",
   "metadata": {},
   "source": [
    "<a id='2'></a>\n",
    "### 2️⃣ Create deployment using 🦾 Bicep\n",
    "\n",
    "This lab uses [Bicep](https://learn.microsoft.com/azure/azure-resource-manager/bicep/overview?tabs=bicep) to declarative define all the resources that will be deployed in the specified resource group. Change the parameters or the [main.bicep](main.bicep) directly to try different configurations. \n",
    "\n",
    "⚠️ Retry this step if you get deployment error: `workspace not active` "
   ]
  },
  {
   "cell_type": "code",
   "execution_count": null,
   "metadata": {},
   "outputs": [],
   "source": [
    "# Create the resource group if doesn't exist\n",
    "utils.create_resource_group(resource_group_name, resource_group_location)\n",
    "\n",
    "# Define the Bicep parameters\n",
    "bicep_parameters = {\n",
    "    \"$schema\": \"https://schema.management.azure.com/schemas/2019-04-01/deploymentParameters.json#\",\n",
    "    \"contentVersion\": \"1.0.0.0\",\n",
    "    \"parameters\": {\n",
    "        \"currentUserObjectId\": { \"value\": current_user_object_id },\n",
    "        \"apimSku\": { \"value\": apim_sku },\n",
    "        \"apimUsersConfig\": { \"value\": apim_users_config },\n",
    "        \"apimSubscriptionsConfig\": { \"value\": apim_subscriptions_config },\n",
    "        \"apimProductsConfig\": { \"value\": apim_products_config },\n",
    "        \"openAIResourceLocation\": { \"value\": openai_resource_location },\n",
    "        \"openAIDeployments\": { \"value\": openai_deployments },\n",
    "        \"openAIAPIVersion\": { \"value\": openai_api_version }\n",
    "    }\n",
    "}\n",
    "\n",
    "# Write the parameters to the params.json file\n",
    "with open('params.json', 'w') as bicep_parameters_file:\n",
    "    bicep_parameters_file.write(json.dumps(bicep_parameters))\n",
    "\n",
    "# Run the deployment\n",
    "output = utils.run(f\"az deployment group create --name {deployment_name} --resource-group {resource_group_name} --template-file main.bicep --parameters params.json\",\n",
    "    f\"Deployment '{deployment_name}' succeeded\", f\"Deployment '{deployment_name}' failed\")"
   ]
  },
  {
   "cell_type": "markdown",
   "metadata": {},
   "source": [
    "<a id='3'></a>\n",
    "### 3️⃣ Get the deployment outputs\n",
    "\n",
    "Retrieve the required outputs from the Bicep deployment."
   ]
  },
  {
   "cell_type": "code",
   "execution_count": null,
   "metadata": {},
   "outputs": [],
   "source": [
    "# Obtain all of the outputs from the deployment\n",
    "output = utils.run(f\"az deployment group show --name {deployment_name} -g {resource_group_name}\", f\"Retrieved deployment: {deployment_name}\", f\"Failed to retrieve deployment: {deployment_name}\")\n",
    "\n",
    "if output.success and output.json_data:\n",
    "    apim_resource_gateway_url = utils.get_deployment_output(output, 'apimResourceGatewayURL', 'APIM API Gateway URL')\n",
    "    pricing_dcr_endpoint = utils.get_deployment_output(output, 'pricingDCREndpoint', 'Pricing DCR Endpoint')\n",
    "    pricing_dcr_immutable_id = utils.get_deployment_output(output, 'pricingDCRImmutableId', 'Pricing DCR ImmutableId')\n",
    "    pricing_dcr_stream = utils.get_deployment_output(output, 'pricingDCRStream', 'Pricing DCR Stream')\n",
    "    subscription_quota_dcr_endpoint = utils.get_deployment_output(output, 'subscriptionQuotaDCREndpoint', 'Subscription Quota DCR Endpoint')\n",
    "    subscription_quota_dcr_immutable_id = utils.get_deployment_output(output, 'subscriptionQuotaDCRImmutableId', 'Subscription Quota DCR ImmutableId')\n",
    "    subscription_quota_dcr_stream = utils.get_deployment_output(output, 'subscriptionQuotaDCRStream', 'Subscription Quota DCR Stream')\n",
    "    \n",
    "    apim_subscriptions = json.loads(utils.get_deployment_output(output, 'apimSubscriptions').replace(\"\\'\", \"\\\"\"))\n",
    "    for subscription in apim_subscriptions:\n",
    "        subscription_name = subscription['name']\n",
    "        subscription_key = subscription['key']\n",
    "        utils.print_info(f\"Subscription Name: {subscription_name}\")\n",
    "        utils.print_info(f\"Subscription Key: ****{subscription_key[-4:]}\")\n"
   ]
  },
  {
   "cell_type": "markdown",
   "metadata": {},
   "source": [
    "<a id='pricing'></a>\n",
    "### 🔍 Display retail pricing info based on the [pricing API](https://learn.microsoft.com/en-us/rest/api/cost-management/retail-prices/azure-retail-prices)\n",
    "\n"
   ]
  },
  {
   "cell_type": "code",
   "execution_count": null,
   "metadata": {},
   "outputs": [],
   "source": [
    "import requests\n",
    "from tabulate import tabulate \n",
    "\n",
    "def build_pricing_table(json_data, table_data):\n",
    "    for item in json_data['Items']:\n",
    "        meter = item['meterName']\n",
    "        table_data.append([item['armRegionName'], item['armSkuName'], item['retailPrice']*1000])\n",
    "\n",
    "table_data = []\n",
    "table_data.append(['Region', 'SKU', 'Retail Price'])\n",
    "prices = requests.get(f\"https://prices.azure.com/api/retail/prices?currencyCode='{currency_code}'&$filter=productName eq 'Azure OpenAI' and unitOfMeasure eq '1K' and armRegionName eq '{openai_resource_location}'\")\n",
    "if prices.status_code == 200:\n",
    "    prices_json = prices.json()\n",
    "    build_pricing_table(prices_json, table_data)\n",
    "print(tabulate(table_data, headers='firstrow', tablefmt='psql'))\n"
   ]
  },
  {
   "cell_type": "markdown",
   "metadata": {},
   "source": [
    "<a id='4'></a>\n",
    "### 4️⃣ Load the pricing data into Azure Monitor custom table\n",
    "\n",
    "👉 This script uses retail price information. Please adjust it to apply a discount or to use a flat rate with PTUs.   \n",
    "👉 We are multiplying by 1000 to get the retail price per 1K tokens.   \n",
    "👉 Deploy this script as a [job](https://learn.microsoft.com/en-us/azure/container-apps/jobs?tabs=azure-cli) to run automatically on a predefined schedule."
   ]
  },
  {
   "cell_type": "code",
   "execution_count": null,
   "metadata": {},
   "outputs": [],
   "source": [
    "import requests\n",
    "from azure.identity import DefaultAzureCredential\n",
    "from azure.monitor.ingestion import LogsIngestionClient\n",
    "from azure.core.exceptions import HttpResponseError\n",
    "from datetime import datetime, timezone\n",
    "\n",
    "credential = DefaultAzureCredential()\n",
    "client = LogsIngestionClient(endpoint=pricing_dcr_endpoint, credential=credential, logging_enable=False)\n",
    "\n",
    "prices = requests.get(f\"https://prices.azure.com/api/retail/prices?currencyCode='{currency_code}'&$filter=productName eq 'Azure OpenAI' and unitOfMeasure eq '1K' and armRegionName eq '{openai_resource_location}'\")\n",
    "if prices.status_code == 200:\n",
    "    prices_json = prices.json()\n",
    "    if prices_json and 'Items' in prices_json:\n",
    "        for deployment in openai_deployments:\n",
    "            input_tokens_price = next((item['retailPrice'] * 1000 for item in prices_json['Items'] if item.get('skuName') == deployment.get(\"inputTokensMeterSku\")), None)\n",
    "            output_tokens_price = next((item['retailPrice'] * 1000 for item in prices_json['Items'] if item.get('skuName') == deployment.get(\"outputTokensMeterSku\")), None)\n",
    "            utils.print_info(f\"Adding model {deployment.get(\"name\")} with input / output tokens price {input_tokens_price} / {output_tokens_price}\")\n",
    "            body = [{ \"TimeGenerated\": str(datetime.now(timezone.utc)),\n",
    "                    \"Model\": deployment.get(\"name\"),\n",
    "                    \"InputTokensPrice\": input_tokens_price,\n",
    "                    \"OutputTokensPrice\": output_tokens_price }]\n",
    "            try:\n",
    "                client.upload(rule_id=pricing_dcr_immutable_id, stream_name=pricing_dcr_stream, logs=body)\n",
    "                utils.print_ok(f\"Upload succeeded for model {deployment.get(\"name\")}\")\n",
    "            except HttpResponseError as e:\n",
    "                utils.print_error(f\"Upload failed: {e}\")            \n"
   ]
  },
  {
   "cell_type": "markdown",
   "metadata": {},
   "source": [
    "<a id='5'></a>\n",
    "### 5️⃣ Load the Subscription Quota into Azure Monitor custom table\n"
   ]
  },
  {
   "cell_type": "code",
   "execution_count": null,
   "metadata": {},
   "outputs": [],
   "source": [
    "import requests\n",
    "from azure.identity import DefaultAzureCredential\n",
    "from azure.monitor.ingestion import LogsIngestionClient\n",
    "from azure.core.exceptions import HttpResponseError\n",
    "from datetime import datetime, timezone\n",
    "\n",
    "credential = DefaultAzureCredential()\n",
    "client = LogsIngestionClient(endpoint=subscription_quota_dcr_endpoint, credential=credential, logging_enable=False)\n",
    "\n",
    "for subscription in apim_subscriptions_config:\n",
    "    for product in apim_products_config:\n",
    "        if product.get(\"name\") == subscription.get(\"product\"):\n",
    "            cost_quota = product.get(\"costQuota\")\n",
    "            utils.print_info(f\"Adding {subscription.get('name')} with cost quota {cost_quota}\")\n",
    "            body = [{ \n",
    "                \"TimeGenerated\": str(datetime.now(timezone.utc)),\n",
    "                \"Subscription\": subscription.get(\"name\"),\n",
    "                \"Email\": subscription.get(\"email\"),\n",
    "                \"CostQuota\": cost_quota\n",
    "            }]\n",
    "            try:\n",
    "                client.upload(rule_id=subscription_quota_dcr_immutable_id, stream_name=subscription_quota_dcr_stream, logs=body)\n",
    "                utils.print_ok(f\"Upload succeeded for {subscription.get(\"name\")}\")\n",
    "            except HttpResponseError as e:\n",
    "                utils.print_error(f\"Upload failed: {e}\")            \n"
   ]
  },
  {
   "cell_type": "markdown",
   "metadata": {},
   "source": [
    "<a id='sdk'></a>\n",
    "### 🧪 Execute multiple runs using the Azure OpenAI Python SDK\n",
    "\n",
    "👉 We will send requests with random subscription and models. Adjust the `sleep_time_ms` and the number of `runs` to your test scenario.\n"
   ]
  },
  {
   "cell_type": "code",
   "execution_count": null,
   "metadata": {},
   "outputs": [],
   "source": [
    "import time, random\n",
    "from openai import AzureOpenAI\n",
    "\n",
    "runs = 10\n",
    "sleep_time_ms = 100\n",
    "\n",
    "for i in range(runs):\n",
    "    apim_subscription = random.choice(apim_subscriptions)\n",
    "    openai_model = random.choice(openai_deployments)\n",
    "    client = AzureOpenAI(\n",
    "        azure_endpoint = apim_resource_gateway_url,\n",
    "        api_key = apim_subscription.get(\"key\"),\n",
    "        api_version = openai_api_version\n",
    "    )\n",
    "    try:\n",
    "        response = client.chat.completions.create(\n",
    "            model = str(openai_model.get('name')),\n",
    "            messages = [\n",
    "                {\"role\": \"user\", \"content\": \"Can you tell me the time, please?\"}\n",
    "            ],\n",
    "            extra_headers = {\"x-user-id\": \"alex\"}\n",
    "        )\n",
    "        print(f\"▶️ Run {i+1}/{runs}: [{apim_subscription.get('name')} w/ {openai_model.get('name')}] 💬 {response.choices[0].message.content}\")\n",
    "    except Exception as e:\n",
    "        print(f\"❌ Run {i+1}/{runs}: [{apim_subscription.get('name')} w/ {openai_model.get('name')}] Error: {e}\")\n",
    "    time.sleep(sleep_time_ms/1000)\n"
   ]
  },
  {
   "cell_type": "markdown",
   "metadata": {},
   "source": [
    "<a id='workbooks'></a>\n",
    "### 🔍 Open the dashboard and workbooks in the Azure Portal\n",
    "\n",
    "👉 The Cost Analysis workbook contains information on the total costs and quotas for each subscription.  \n",
    "👉 The [Azure OpenAI Insights workbook](https://github.com/dolevshor/Azure-OpenAI-Insights) provides comprehensive details about service and model usage. Credits to [Dolev Shor](https://github.com/dolevshor/Azure-OpenAI-Insights).  \n",
    "👉 The [Alerts workbook](https://github.com/microsoft/AzureMonitorCommunity/tree/master/Azure%20Services) provides information about the alerts triggered by Azure Monitor.  "
   ]
  },
  {
   "cell_type": "markdown",
   "metadata": {},
   "source": [
    "<a id='clean'></a>\n",
    "### 🗑️ Clean up resources\n",
    "\n",
    "When you're finished with the lab, you should remove all your deployed resources from Azure to avoid extra charges and keep your Azure subscription uncluttered.\n",
    "Use the [clean-up-resources notebook](clean-up-resources.ipynb) for that."
   ]
  }
 ],
 "metadata": {
  "kernelspec": {
   "display_name": "Python 3",
   "language": "python",
   "name": "python3"
  },
  "language_info": {
   "codemirror_mode": {
    "name": "ipython",
    "version": 3
   },
   "file_extension": ".py",
   "mimetype": "text/x-python",
   "name": "python",
   "nbconvert_exporter": "python",
   "pygments_lexer": "ipython3",
   "version": "3.12.9"
  }
 },
 "nbformat": 4,
 "nbformat_minor": 2
}
